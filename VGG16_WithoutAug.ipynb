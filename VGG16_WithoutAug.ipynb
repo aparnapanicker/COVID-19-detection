{
  "nbformat": 4,
  "nbformat_minor": 0,
  "metadata": {
    "colab": {
      "name": "VGG16_WithoutAug.ipynb",
      "provenance": [],
      "collapsed_sections": []
    },
    "kernelspec": {
      "name": "python3",
      "display_name": "Python 3"
    },
    "accelerator": "GPU"
  },
  "cells": [
    {
      "cell_type": "code",
      "metadata": {
        "id": "ifIkOGWTCOiI",
        "colab_type": "code",
        "colab": {
          "base_uri": "https://localhost:8080/",
          "height": 35
        },
        "outputId": "e317fca2-d956-49d4-d7c2-3d7069dc0282"
      },
      "source": [
        "from google.colab import drive\n",
        "drive.mount('/content/gdrive', force_remount=True)"
      ],
      "execution_count": null,
      "outputs": [
        {
          "output_type": "stream",
          "text": [
            "Mounted at /content/gdrive\n"
          ],
          "name": "stdout"
        }
      ]
    },
    {
      "cell_type": "code",
      "metadata": {
        "id": "4UnHG2m_CPl9",
        "colab_type": "code",
        "colab": {}
      },
      "source": [
        "import torch\n",
        "import numpy as np\n",
        "import matplotlib.pyplot as plt\n",
        "import torch.nn as nn\n",
        "import torchvision\n",
        "import torchvision.models as models\n",
        "from torchvision import models, transforms, datasets\n",
        "import torch.optim as optim\n",
        "import os, pickle, time, copy, glob\n",
        "from PIL import Image\n",
        "from torch.utils.data.sampler import SubsetRandomSampler\n",
        "from torch.optim import lr_scheduler\n",
        "from sklearn.metrics import classification_report, confusion_matrix\n",
        "import pandas as pd\n",
        "import argparse\n",
        "import json\n",
        "\n"
      ],
      "execution_count": null,
      "outputs": []
    },
    {
      "cell_type": "code",
      "metadata": {
        "id": "BikQfg0UTVwv",
        "colab_type": "code",
        "colab": {}
      },
      "source": [
        "device = torch.device('cuda:0' if torch.cuda.is_available() else 'cpu')"
      ],
      "execution_count": null,
      "outputs": []
    },
    {
      "cell_type": "code",
      "metadata": {
        "id": "7M5rwGHYDtqd",
        "colab_type": "code",
        "colab": {}
      },
      "source": [
        "\n",
        "transformers = {'train_transforms' : transforms.Compose([\n",
        "    transforms.Resize((224,224)),\n",
        "    transforms.RandomRotation(20),\n",
        "    transforms.RandomHorizontalFlip(),\n",
        "    transforms.ToTensor(),\n",
        "    transforms.Normalize([0.485, 0.456, 0.406], std=[0.229, 0.224, 0.225])\n",
        "]),\n",
        "'test_transforms' : transforms.Compose([\n",
        "    transforms.Resize((224,224)),\n",
        "    transforms.ToTensor(),\n",
        "    transforms.Normalize([0.485, 0.456, 0.406], std=[0.229, 0.224, 0.225])\n",
        "])}\n",
        "\n",
        "trans = ['train_transforms','test_transforms']\n",
        "path = \"/content/gdrive/My Drive/Colab Notebooks/MainData/\"\n",
        "categories = ['train','test']"
      ],
      "execution_count": null,
      "outputs": []
    },
    {
      "cell_type": "code",
      "metadata": {
        "id": "wNC_1QVxT6rZ",
        "colab_type": "code",
        "colab": {}
      },
      "source": [
        "dset = {x : torchvision.datasets.ImageFolder(path+x, transform=transformers[y]) for x,y in zip(categories, trans)}\n"
      ],
      "execution_count": null,
      "outputs": []
    },
    {
      "cell_type": "code",
      "metadata": {
        "id": "jNAT6b5ma0Gu",
        "colab_type": "code",
        "colab": {
          "base_uri": "https://localhost:8080/",
          "height": 127
        },
        "outputId": "0e0c3e5f-d33e-4bc8-d87f-815566911428"
      },
      "source": [
        "\n",
        "len_train = len(dset['train'])\n",
        "print('original train dataset size ', len_train) \n",
        "len_test = len(dset['test'])\n",
        "print('original test dataset size ', len_test) \n",
        "\n",
        "indices_list = range(len_train)\n",
        "indices = [*indices_list]\n",
        "\n",
        "\n",
        "np.random.shuffle(indices)\n",
        "\n",
        "split = int(np.floor(0.2 * len_train))\n",
        "train_idx, valid_idx = indices[split:], indices[:split]\n",
        "print('Upadted train dataset size:', len(train_idx))\n",
        "print('Created validation dataset size:', len(valid_idx))\n",
        "test_idx = [i for i in range(len(dset['test']))]\n",
        "print('the test imagedataest size', len(dset['test']))\n",
        "\n",
        "\n",
        "train_sampler = SubsetRandomSampler(train_idx)\n",
        "valid_sampler = SubsetRandomSampler(valid_idx)\n",
        "test_sampler = SubsetRandomSampler(test_idx)\n",
        "\n",
        "dataset_sizes = {}\n",
        "dataset_sizes['train'] = train_sampler.__len__()\n",
        "dataset_sizes['test'] = test_sampler.__len__()\n",
        "dataset_sizes['val'] = valid_sampler.__len__()\n",
        "print(dataset_sizes['val'], dataset_sizes['test'], dataset_sizes['train'])\n"
      ],
      "execution_count": null,
      "outputs": [
        {
          "output_type": "stream",
          "text": [
            "original train dataset size  2031\n",
            "original test dataset size  3040\n",
            "Upadted train dataset size: 1625\n",
            "Created validation dataset size: 406\n",
            "the test imagedataest size 3040\n",
            "406 3040 1625\n"
          ],
          "name": "stdout"
        }
      ]
    },
    {
      "cell_type": "code",
      "metadata": {
        "id": "nvt7UCDVjBAo",
        "colab_type": "code",
        "colab": {}
      },
      "source": [
        "\n",
        "train_loader = torch.utils.data.DataLoader(dset['train'], batch_size=16,\n",
        "    drop_last= True, sampler=train_sampler, num_workers=0)\n",
        "valid_loader = torch.utils.data.DataLoader(dset['train'], batch_size=16, \n",
        "    drop_last= True, sampler=valid_sampler, num_workers=0)\n",
        "test_loader = torch.utils.data.DataLoader(dset['test'], batch_size=16, \n",
        "    drop_last= True,sampler=test_sampler,num_workers=0)\n"
      ],
      "execution_count": null,
      "outputs": []
    },
    {
      "cell_type": "code",
      "metadata": {
        "id": "AewzrKrkmrVP",
        "colab_type": "code",
        "colab": {}
      },
      "source": [
        "dataloaders = {'train':train_loader,'val':valid_loader,'test':test_loader}\n",
        "class_names = dset['train'].classes"
      ],
      "execution_count": null,
      "outputs": []
    },
    {
      "cell_type": "code",
      "metadata": {
        "id": "50TUleSOlug3",
        "colab_type": "code",
        "colab": {
          "base_uri": "https://localhost:8080/",
          "height": 35
        },
        "outputId": "cebbb37a-d270-4bef-c2d0-16b4847e4504"
      },
      "source": [
        "images, labels = next(iter(dataloaders['test']))\n",
        "rand_idx = np.random.randint(len(images))\n",
        "# print(rand_idx)\n",
        "print(\"label: {}, class: {}\".format(labels[rand_idx].item(),\n",
        "                                               class_names[labels[rand_idx].item()]))"
      ],
      "execution_count": null,
      "outputs": [
        {
          "output_type": "stream",
          "text": [
            "label: 0, class: covid-n\n"
          ],
          "name": "stdout"
        }
      ]
    },
    {
      "cell_type": "code",
      "metadata": {
        "id": "VO6JdVeZohVU",
        "colab_type": "code",
        "colab": {
          "base_uri": "https://localhost:8080/",
          "height": 148
        },
        "outputId": "73bd06aa-fe19-414e-cd1d-8de654068bd0"
      },
      "source": [
        "def imshow(inp, title=None):\n",
        "    inp = inp.numpy().transpose((1,2,0))\n",
        "    mean = np.array([0.485, 0.456, 0.406])\n",
        "    std = np.array([0.229, 0.224, 0.225])\n",
        "    inp = std*inp + mean\n",
        "    inp = np.clip(inp,0,1)\n",
        "    plt.imshow(inp)\n",
        "    if title is not None:\n",
        "        plt.title(title)\n",
        "    plt.pause(0.001)\n",
        "inputs,classes = next(iter(dataloaders[\"train\"]))\n",
        "out = torchvision.utils.make_grid(inputs)\n",
        "class_names = dset[\"train\"].classes\n",
        "imshow(out, title = [class_names[x] for x in classes])\n"
      ],
      "execution_count": null,
      "outputs": [
        {
          "output_type": "display_data",
          "data": {
            "image/png": "[encoded data removed]",
            "text/plain": [
              "<Figure size 432x288 with 1 Axes>"
            ]
          },
          "metadata": {
            "tags": [],
            "needs_background": "light"
          }
        }
      ]
    },
    {
      "cell_type": "code",
      "metadata": {
        "id": "CcyPhrtfp182",
        "colab_type": "code",
        "colab": {}
      },
      "source": [
        "class ModelVGG16(nn.Module):\n",
        "    def __init__(self):\n",
        "        super(ModelVGG16, self).__init__()\n",
        "        self.model = torchvision.models.vgg16(pretrained=True)\n",
        "        self.classifier = nn.Sequential(\n",
        "        nn.Linear(4096,2),\n",
        "        nn.LogSoftmax(dim=1))\n",
        "        for params in self.model.parameters():\n",
        "            params.requires_grad = False\n",
        "        self.model.classifier[6] = self.classifier\n",
        "\n",
        "    def forward(self, x):\n",
        "        return self.model(x)\n",
        "        \n",
        "\n",
        "model = ModelVGG16()"
      ],
      "execution_count": null,
      "outputs": []
    },
    {
      "cell_type": "code",
      "metadata": {
        "id": "-M2KMPc8ryOt",
        "colab_type": "code",
        "colab": {}
      },
      "source": [
        "train_losses = []\n",
        "val_losses = []\n",
        "train_acc = []\n",
        "val_acc = []\n",
        "def fit(self, dataloaders, num_epochs):\n",
        "\n",
        "\n",
        "        train_on_gpu = torch.cuda.is_available()\n",
        " \n",
        "        optimizer = optim.Adam(model.parameters(), lr=0.01)\n",
        "     \n",
        "        scheduler = optim.lr_scheduler.StepLR(optimizer, 4)\n",
        "     \n",
        "        criterion = nn.NLLLoss()\n",
        "        since = time.time()\n",
        "\n",
        "        best_model_wts = copy.deepcopy(self.model.state_dict())\n",
        "        best_acc = 0.0\n",
        "\n",
        "        if train_on_gpu:\n",
        "            self.model = self.model.cuda()\n",
        "        for epoch in range(num_epochs):\n",
        "            print('Epoch {}/{}'.format(epoch, num_epochs - 1))\n",
        "            print('-' * 10)\n",
        "       \n",
        "            for phase in ['train', 'val']:\n",
        "               \n",
        "                if phase == 'train':\n",
        "                    scheduler.step()\n",
        "                    self.model.train()  \n",
        "                else:\n",
        "                    self.model.eval()   \n",
        "                running_loss = 0.0\n",
        "                running_corrects = 0\n",
        "         \n",
        "                for inputs, labels in dataloaders[phase]:\n",
        "                    if train_on_gpu:\n",
        "                        inputs = inputs.cuda()\n",
        "                        labels = labels.cuda()\n",
        "                    \n",
        "                    optimizer.zero_grad()\n",
        "                    \n",
        "                  \n",
        "                    with torch.set_grad_enabled(phase == 'train'):\n",
        "                        outputs = self.model(inputs)\n",
        "                        _, preds = torch.max(outputs, 1)\n",
        "                        #calculates the loss between the output of our model and ground-truth labels\n",
        "                        loss = criterion(outputs, labels)\n",
        "\n",
        "                        # perform backpropagation and optimization only if in training phase\n",
        "                        if phase == 'train':\n",
        "                            #backpropagate gradients from the loss node through all the parameters\n",
        "                            loss.backward()\n",
        "                            #Update parameters(Weighs and biases) of our model using the gradients.\n",
        "                            optimizer.step()\n",
        "                    # statistics\n",
        "                    running_loss += loss.item() * inputs.size(0)\n",
        "                    running_corrects += torch.sum(preds == labels.data)\n",
        "                \n",
        "                \n",
        "                epoch_loss = running_loss / dataset_sizes[phase]\n",
        "                epoch_acc = running_corrects.double() / dataset_sizes[phase]\n",
        "                print('{} Loss: {:.4f} Acc: {:.4f}'.format(\n",
        "                    phase, epoch_loss, epoch_acc))\n",
        "\n",
        "                if(phase == 'train'):\n",
        "                  train_losses.append(epoch_loss)   \n",
        "                  train_acc.append(epoch_acc) \n",
        "                if(phase == 'val'):\n",
        "                  val_losses.append(epoch_loss)   \n",
        "                  val_acc.append(epoch_acc) \n",
        "     \n",
        "                if phase == 'val' and epoch_acc > best_acc:\n",
        "                    best_acc = epoch_acc\n",
        "                    best_model_wts = copy.deepcopy(self.model.state_dict())\n",
        "        time_elapsed = time.time() - since\n",
        "        print('Training complete in {:.0f}m {:.0f}s'.format(\n",
        "            time_elapsed // 60, time_elapsed % 60))\n",
        "        print('Best val Acc: {:4f}'.format(best_acc))\n",
        "        \n",
        "      \n",
        "        self.model.load_state_dict(best_model_wts)\n",
        "        return self.model\n"
      ],
      "execution_count": null,
      "outputs": []
    },
    {
      "cell_type": "code",
      "metadata": {
        "id": "xJL1sr5vJkcj",
        "colab_type": "code",
        "colab": {
          "base_uri": "https://localhost:8080/",
          "height": 478
        },
        "outputId": "9e6bfd24-1c3e-4694-c023-953ebe8950af"
      },
      "source": [
        "num_epochs = 5\n",
        "model1_vgg16 = fit(model, dataloaders, num_epochs)"
      ],
      "execution_count": null,
      "outputs": [
        {
          "output_type": "stream",
          "text": [
            "Epoch 0/4\n",
            "----------\n"
          ],
          "name": "stdout"
        },
        {
          "output_type": "stream",
          "text": [
            "/usr/local/lib/python3.6/dist-packages/torch/optim/lr_scheduler.py:123: UserWarning: Detected call of `lr_scheduler.step()` before `optimizer.step()`. In PyTorch 1.1.0 and later, you should call them in the opposite order: `optimizer.step()` before `lr_scheduler.step()`.  Failure to do this will result in PyTorch skipping the first value of the learning rate schedule. See more details at https://pytorch.org/docs/stable/optim.html#how-to-adjust-learning-rate\n",
            "  \"https://pytorch.org/docs/stable/optim.html#how-to-adjust-learning-rate\", UserWarning)\n"
          ],
          "name": "stderr"
        },
        {
          "output_type": "stream",
          "text": [
            "train Loss: 0.3713 Acc: 0.9717\n",
            "val Loss: 0.2916 Acc: 0.9680\n",
            "Epoch 1/4\n",
            "----------\n",
            "train Loss: 0.2279 Acc: 0.9742\n",
            "val Loss: 0.0325 Acc: 0.9803\n",
            "Epoch 2/4\n",
            "----------\n",
            "train Loss: 0.2599 Acc: 0.9760\n",
            "val Loss: 0.7520 Acc: 0.9655\n",
            "Epoch 3/4\n",
            "----------\n",
            "train Loss: 0.3852 Acc: 0.9822\n",
            "val Loss: 0.1713 Acc: 0.9729\n",
            "Epoch 4/4\n",
            "----------\n",
            "train Loss: 0.2221 Acc: 0.9803\n",
            "val Loss: 0.0567 Acc: 0.9803\n",
            "Training complete in 16m 31s\n",
            "Best val Acc: 0.980296\n"
          ],
          "name": "stdout"
        }
      ]
    },
    {
      "cell_type": "code",
      "metadata": {
        "id": "7JCigsUavHLv",
        "colab_type": "code",
        "colab": {}
      },
      "source": [
        "model1_vgg16.eval()\n",
        "torch.save(model1_vgg16, '/content/gdrive/My Drive/Colab Notebooks/vgg16_model1_without_aug.pt')"
      ],
      "execution_count": null,
      "outputs": []
    },
    {
      "cell_type": "code",
      "metadata": {
        "id": "wcFGPRVND9o2",
        "colab_type": "code",
        "colab": {
          "base_uri": "https://localhost:8080/",
          "height": 845
        },
        "outputId": "3f362927-9d4c-408d-d16d-aceb21e910f2"
      },
      "source": [
        "num_epochs = 10\n",
        "model2_vgg16 = fit(model, dataloaders, num_epochs)"
      ],
      "execution_count": null,
      "outputs": [
        {
          "output_type": "stream",
          "text": [
            "Epoch 0/9\n",
            "----------\n"
          ],
          "name": "stdout"
        },
        {
          "output_type": "stream",
          "text": [
            "/usr/local/lib/python3.6/dist-packages/torch/optim/lr_scheduler.py:123: UserWarning: Detected call of `lr_scheduler.step()` before `optimizer.step()`. In PyTorch 1.1.0 and later, you should call them in the opposite order: `optimizer.step()` before `lr_scheduler.step()`.  Failure to do this will result in PyTorch skipping the first value of the learning rate schedule. See more details at https://pytorch.org/docs/stable/optim.html#how-to-adjust-learning-rate\n",
            "  \"https://pytorch.org/docs/stable/optim.html#how-to-adjust-learning-rate\", UserWarning)\n"
          ],
          "name": "stderr"
        },
        {
          "output_type": "stream",
          "text": [
            "train Loss: 0.2312 Acc: 0.9766\n",
            "val Loss: 0.1941 Acc: 0.9754\n",
            "Epoch 1/9\n",
            "----------\n",
            "train Loss: 0.2569 Acc: 0.9785\n",
            "val Loss: 0.0271 Acc: 0.9828\n",
            "Epoch 2/9\n",
            "----------\n",
            "train Loss: 0.2940 Acc: 0.9766\n",
            "val Loss: 0.0209 Acc: 0.9778\n",
            "Epoch 3/9\n",
            "----------\n",
            "train Loss: 0.1393 Acc: 0.9822\n",
            "val Loss: 0.0579 Acc: 0.9778\n",
            "Epoch 4/9\n",
            "----------\n",
            "train Loss: 0.1685 Acc: 0.9772\n",
            "val Loss: 0.0432 Acc: 0.9828\n",
            "Epoch 5/9\n",
            "----------\n",
            "train Loss: 0.1239 Acc: 0.9840\n",
            "val Loss: 0.0729 Acc: 0.9729\n",
            "Epoch 6/9\n",
            "----------\n",
            "train Loss: 0.1984 Acc: 0.9809\n",
            "val Loss: 0.0444 Acc: 0.9778\n",
            "Epoch 7/9\n",
            "----------\n",
            "train Loss: 0.1548 Acc: 0.9840\n",
            "val Loss: 0.0254 Acc: 0.9828\n",
            "Epoch 8/9\n",
            "----------\n",
            "train Loss: 0.1514 Acc: 0.9840\n",
            "val Loss: 0.0315 Acc: 0.9803\n",
            "Epoch 9/9\n",
            "----------\n",
            "train Loss: 0.1384 Acc: 0.9828\n",
            "val Loss: 0.0105 Acc: 0.9803\n",
            "Training complete in 2m 47s\n",
            "Best val Acc: 0.982759\n"
          ],
          "name": "stdout"
        }
      ]
    },
    {
      "cell_type": "code",
      "metadata": {
        "id": "WiZK1jQ5x4GH",
        "colab_type": "code",
        "colab": {}
      },
      "source": [
        "model2_vgg16.eval()\n",
        "torch.save(model2_vgg16, '/content/gdrive/My Drive/Colab Notebooks/vgg16_model2_without_aug.pt')"
      ],
      "execution_count": null,
      "outputs": []
    },
    {
      "cell_type": "code",
      "metadata": {
        "id": "xgzgeUoSqCXO",
        "colab_type": "code",
        "colab": {
          "base_uri": "https://localhost:8080/",
          "height": 1000
        },
        "outputId": "27f6c8e9-b2fd-47b4-fcd5-f4ef14d455ac"
      },
      "source": [
        "num_epochs = 15\n",
        "model3_vgg16 = fit(model, dataloaders, num_epochs)"
      ],
      "execution_count": null,
      "outputs": [
        {
          "output_type": "stream",
          "text": [
            "Epoch 0/14\n",
            "----------\n"
          ],
          "name": "stdout"
        },
        {
          "output_type": "stream",
          "text": [
            "/usr/local/lib/python3.6/dist-packages/torch/optim/lr_scheduler.py:123: UserWarning: Detected call of `lr_scheduler.step()` before `optimizer.step()`. In PyTorch 1.1.0 and later, you should call them in the opposite order: `optimizer.step()` before `lr_scheduler.step()`.  Failure to do this will result in PyTorch skipping the first value of the learning rate schedule. See more details at https://pytorch.org/docs/stable/optim.html#how-to-adjust-learning-rate\n",
            "  \"https://pytorch.org/docs/stable/optim.html#how-to-adjust-learning-rate\", UserWarning)\n"
          ],
          "name": "stderr"
        },
        {
          "output_type": "stream",
          "text": [
            "train Loss: 0.4083 Acc: 0.9766\n",
            "val Loss: 0.0381 Acc: 0.9754\n",
            "Epoch 1/14\n",
            "----------\n",
            "train Loss: 0.1785 Acc: 0.9766\n",
            "val Loss: 0.0937 Acc: 0.9704\n",
            "Epoch 2/14\n",
            "----------\n",
            "train Loss: 0.2410 Acc: 0.9754\n",
            "val Loss: 0.4089 Acc: 0.9680\n",
            "Epoch 3/14\n",
            "----------\n",
            "train Loss: 0.2034 Acc: 0.9828\n",
            "val Loss: 0.0092 Acc: 0.9803\n",
            "Epoch 4/14\n",
            "----------\n",
            "train Loss: 0.1116 Acc: 0.9754\n",
            "val Loss: 0.0039 Acc: 0.9828\n",
            "Epoch 5/14\n",
            "----------\n",
            "train Loss: 0.1272 Acc: 0.9840\n",
            "val Loss: 0.0050 Acc: 0.9803\n",
            "Epoch 6/14\n",
            "----------\n",
            "train Loss: 0.1086 Acc: 0.9815\n",
            "val Loss: 0.0012 Acc: 0.9852\n",
            "Epoch 7/14\n",
            "----------\n",
            "train Loss: 0.1368 Acc: 0.9803\n",
            "val Loss: 0.0385 Acc: 0.9754\n",
            "Epoch 8/14\n",
            "----------\n",
            "train Loss: 0.0885 Acc: 0.9834\n",
            "val Loss: 0.0154 Acc: 0.9803\n",
            "Epoch 9/14\n",
            "----------\n",
            "train Loss: 0.0976 Acc: 0.9822\n",
            "val Loss: 0.0000 Acc: 0.9852\n",
            "Epoch 10/14\n",
            "----------\n",
            "train Loss: 0.1264 Acc: 0.9791\n",
            "val Loss: 0.0210 Acc: 0.9828\n",
            "Epoch 11/14\n",
            "----------\n",
            "train Loss: 0.1312 Acc: 0.9791\n",
            "val Loss: 0.0155 Acc: 0.9778\n",
            "Epoch 12/14\n",
            "----------\n",
            "train Loss: 0.1340 Acc: 0.9809\n",
            "val Loss: 0.0089 Acc: 0.9828\n",
            "Epoch 13/14\n",
            "----------\n",
            "train Loss: 0.1399 Acc: 0.9809\n",
            "val Loss: 0.0113 Acc: 0.9828\n",
            "Epoch 14/14\n",
            "----------\n",
            "train Loss: 0.1286 Acc: 0.9791\n",
            "val Loss: 0.0058 Acc: 0.9803\n",
            "Training complete in 4m 10s\n",
            "Best val Acc: 0.985222\n"
          ],
          "name": "stdout"
        }
      ]
    },
    {
      "cell_type": "code",
      "metadata": {
        "id": "kxVWB3mxqIFv",
        "colab_type": "code",
        "colab": {}
      },
      "source": [
        "model3_vgg16.eval()\n",
        "torch.save(model3_vgg16, '/content/gdrive/My Drive/Colab Notebooks/vgg16_model3_without_aug.pt')"
      ],
      "execution_count": null,
      "outputs": []
    },
    {
      "cell_type": "code",
      "metadata": {
        "id": "RNCcSHgMqP-3",
        "colab_type": "code",
        "colab": {
          "base_uri": "https://localhost:8080/",
          "height": 1000
        },
        "outputId": "492322eb-22b4-42e8-cbfd-f79d52e76058"
      },
      "source": [
        "num_epochs = 20\n",
        "model4_vgg16 = fit(model, dataloaders, num_epochs)"
      ],
      "execution_count": null,
      "outputs": [
        {
          "output_type": "stream",
          "text": [
            "Epoch 0/19\n",
            "----------\n"
          ],
          "name": "stdout"
        },
        {
          "output_type": "stream",
          "text": [
            "/usr/local/lib/python3.6/dist-packages/torch/optim/lr_scheduler.py:123: UserWarning: Detected call of `lr_scheduler.step()` before `optimizer.step()`. In PyTorch 1.1.0 and later, you should call them in the opposite order: `optimizer.step()` before `lr_scheduler.step()`.  Failure to do this will result in PyTorch skipping the first value of the learning rate schedule. See more details at https://pytorch.org/docs/stable/optim.html#how-to-adjust-learning-rate\n",
            "  \"https://pytorch.org/docs/stable/optim.html#how-to-adjust-learning-rate\", UserWarning)\n"
          ],
          "name": "stderr"
        },
        {
          "output_type": "stream",
          "text": [
            "train Loss: 0.2988 Acc: 0.9766\n",
            "val Loss: 0.3186 Acc: 0.9729\n",
            "Epoch 1/19\n",
            "----------\n",
            "train Loss: 0.2695 Acc: 0.9754\n",
            "val Loss: 0.2593 Acc: 0.9729\n",
            "Epoch 2/19\n",
            "----------\n",
            "train Loss: 0.3120 Acc: 0.9803\n",
            "val Loss: 0.0498 Acc: 0.9778\n",
            "Epoch 3/19\n",
            "----------\n",
            "train Loss: 0.1294 Acc: 0.9852\n",
            "val Loss: 0.0451 Acc: 0.9803\n",
            "Epoch 4/19\n",
            "----------\n",
            "train Loss: 0.1609 Acc: 0.9834\n",
            "val Loss: 0.0216 Acc: 0.9803\n",
            "Epoch 5/19\n",
            "----------\n",
            "train Loss: 0.1969 Acc: 0.9785\n",
            "val Loss: 0.0662 Acc: 0.9754\n",
            "Epoch 6/19\n",
            "----------\n",
            "train Loss: 0.1971 Acc: 0.9803\n",
            "val Loss: 0.0332 Acc: 0.9828\n",
            "Epoch 7/19\n",
            "----------\n",
            "train Loss: 0.2078 Acc: 0.9834\n",
            "val Loss: 0.0204 Acc: 0.9828\n",
            "Epoch 8/19\n",
            "----------\n",
            "train Loss: 0.1064 Acc: 0.9865\n",
            "val Loss: 0.0767 Acc: 0.9754\n",
            "Epoch 9/19\n",
            "----------\n",
            "train Loss: 0.1010 Acc: 0.9840\n",
            "val Loss: 0.0061 Acc: 0.9828\n",
            "Epoch 10/19\n",
            "----------\n",
            "train Loss: 0.1652 Acc: 0.9822\n",
            "val Loss: 0.0800 Acc: 0.9754\n",
            "Epoch 11/19\n",
            "----------\n",
            "train Loss: 0.2003 Acc: 0.9815\n",
            "val Loss: 0.0269 Acc: 0.9803\n",
            "Epoch 12/19\n",
            "----------\n",
            "train Loss: 0.1925 Acc: 0.9815\n",
            "val Loss: 0.0092 Acc: 0.9828\n",
            "Epoch 13/19\n",
            "----------\n",
            "train Loss: 0.1664 Acc: 0.9803\n",
            "val Loss: 0.0521 Acc: 0.9754\n",
            "Epoch 14/19\n",
            "----------\n",
            "train Loss: 0.1146 Acc: 0.9852\n",
            "val Loss: 0.0215 Acc: 0.9803\n",
            "Epoch 15/19\n",
            "----------\n",
            "train Loss: 0.2349 Acc: 0.9797\n",
            "val Loss: 0.0593 Acc: 0.9754\n",
            "Epoch 16/19\n",
            "----------\n",
            "train Loss: 0.1291 Acc: 0.9791\n",
            "val Loss: 0.0375 Acc: 0.9778\n",
            "Epoch 17/19\n",
            "----------\n",
            "train Loss: 0.2384 Acc: 0.9797\n",
            "val Loss: 0.0120 Acc: 0.9828\n",
            "Epoch 18/19\n",
            "----------\n",
            "train Loss: 0.1636 Acc: 0.9840\n",
            "val Loss: 0.0099 Acc: 0.9828\n",
            "Epoch 19/19\n",
            "----------\n",
            "train Loss: 0.1765 Acc: 0.9809\n",
            "val Loss: 0.0234 Acc: 0.9778\n",
            "Training complete in 5m 30s\n",
            "Best val Acc: 0.982759\n"
          ],
          "name": "stdout"
        }
      ]
    },
    {
      "cell_type": "code",
      "metadata": {
        "id": "rBiWyHOqqOjw",
        "colab_type": "code",
        "colab": {}
      },
      "source": [
        "model4_vgg16.eval()\n",
        "torch.save(model4_vgg16, '/content/gdrive/My Drive/Colab Notebooks/vgg16_model4_without_aug.pt')"
      ],
      "execution_count": null,
      "outputs": []
    },
    {
      "cell_type": "code",
      "metadata": {
        "id": "sw3u6WicqXIA",
        "colab_type": "code",
        "colab": {
          "base_uri": "https://localhost:8080/",
          "height": 1000
        },
        "outputId": "26e563f8-2b79-4577-82af-37684f90671f"
      },
      "source": [
        "num_epochs = 25\n",
        "model5_vgg16 = fit(model, dataloaders, num_epochs)"
      ],
      "execution_count": null,
      "outputs": [
        {
          "output_type": "stream",
          "text": [
            "Epoch 0/24\n",
            "----------\n"
          ],
          "name": "stdout"
        },
        {
          "output_type": "stream",
          "text": [
            "/usr/local/lib/python3.6/dist-packages/torch/optim/lr_scheduler.py:123: UserWarning: Detected call of `lr_scheduler.step()` before `optimizer.step()`. In PyTorch 1.1.0 and later, you should call them in the opposite order: `optimizer.step()` before `lr_scheduler.step()`.  Failure to do this will result in PyTorch skipping the first value of the learning rate schedule. See more details at https://pytorch.org/docs/stable/optim.html#how-to-adjust-learning-rate\n",
            "  \"https://pytorch.org/docs/stable/optim.html#how-to-adjust-learning-rate\", UserWarning)\n"
          ],
          "name": "stderr"
        },
        {
          "output_type": "stream",
          "text": [
            "train Loss: 0.4513 Acc: 0.9668\n",
            "val Loss: 0.0201 Acc: 0.9754\n",
            "Epoch 1/24\n",
            "----------\n",
            "train Loss: 0.2476 Acc: 0.9711\n",
            "val Loss: 0.0028 Acc: 0.9828\n",
            "Epoch 2/24\n",
            "----------\n",
            "train Loss: 0.2119 Acc: 0.9772\n",
            "val Loss: 0.0009 Acc: 0.9852\n",
            "Epoch 3/24\n",
            "----------\n",
            "train Loss: 0.1706 Acc: 0.9778\n",
            "val Loss: 0.0144 Acc: 0.9778\n",
            "Epoch 4/24\n",
            "----------\n",
            "train Loss: 0.2161 Acc: 0.9778\n",
            "val Loss: 0.0257 Acc: 0.9803\n",
            "Epoch 5/24\n",
            "----------\n",
            "train Loss: 0.1394 Acc: 0.9809\n",
            "val Loss: 0.0167 Acc: 0.9828\n",
            "Epoch 6/24\n",
            "----------\n",
            "train Loss: 0.0895 Acc: 0.9809\n",
            "val Loss: 0.0007 Acc: 0.9852\n",
            "Epoch 7/24\n",
            "----------\n",
            "train Loss: 0.1147 Acc: 0.9785\n",
            "val Loss: 0.0163 Acc: 0.9803\n",
            "Epoch 8/24\n",
            "----------\n",
            "train Loss: 0.1884 Acc: 0.9760\n",
            "val Loss: 0.0063 Acc: 0.9803\n",
            "Epoch 9/24\n",
            "----------\n",
            "train Loss: 0.0757 Acc: 0.9791\n",
            "val Loss: 0.0042 Acc: 0.9828\n",
            "Epoch 10/24\n",
            "----------\n",
            "train Loss: 0.1256 Acc: 0.9797\n",
            "val Loss: 0.0005 Acc: 0.9852\n",
            "Epoch 11/24\n",
            "----------\n",
            "train Loss: 0.1378 Acc: 0.9797\n",
            "val Loss: 0.0034 Acc: 0.9828\n",
            "Epoch 12/24\n",
            "----------\n",
            "train Loss: 0.1476 Acc: 0.9815\n",
            "val Loss: 0.0003 Acc: 0.9852\n",
            "Epoch 13/24\n",
            "----------\n",
            "train Loss: 0.1182 Acc: 0.9791\n",
            "val Loss: 0.0016 Acc: 0.9852\n",
            "Epoch 14/24\n",
            "----------\n",
            "train Loss: 0.1384 Acc: 0.9785\n",
            "val Loss: 0.0301 Acc: 0.9803\n",
            "Epoch 15/24\n",
            "----------\n",
            "train Loss: 0.1173 Acc: 0.9834\n",
            "val Loss: 0.0132 Acc: 0.9828\n",
            "Epoch 16/24\n",
            "----------\n",
            "train Loss: 0.1356 Acc: 0.9803\n",
            "val Loss: 0.0053 Acc: 0.9828\n",
            "Epoch 17/24\n",
            "----------\n",
            "train Loss: 0.1338 Acc: 0.9822\n",
            "val Loss: 0.0000 Acc: 0.9852\n",
            "Epoch 18/24\n",
            "----------\n",
            "train Loss: 0.1199 Acc: 0.9822\n",
            "val Loss: 0.0065 Acc: 0.9828\n",
            "Epoch 19/24\n",
            "----------\n",
            "train Loss: 0.0942 Acc: 0.9828\n",
            "val Loss: 0.0041 Acc: 0.9828\n",
            "Epoch 20/24\n",
            "----------\n",
            "train Loss: 0.0729 Acc: 0.9865\n",
            "val Loss: 0.0009 Acc: 0.9852\n",
            "Epoch 21/24\n",
            "----------\n",
            "train Loss: 0.1027 Acc: 0.9834\n",
            "val Loss: 0.0003 Acc: 0.9852\n",
            "Epoch 22/24\n",
            "----------\n",
            "train Loss: 0.1228 Acc: 0.9791\n",
            "val Loss: 0.0003 Acc: 0.9852\n",
            "Epoch 23/24\n",
            "----------\n",
            "train Loss: 0.1291 Acc: 0.9797\n",
            "val Loss: 0.0012 Acc: 0.9852\n",
            "Epoch 24/24\n",
            "----------\n",
            "train Loss: 0.1087 Acc: 0.9809\n",
            "val Loss: 0.0012 Acc: 0.9852\n",
            "Training complete in 6m 48s\n",
            "Best val Acc: 0.985222\n"
          ],
          "name": "stdout"
        }
      ]
    },
    {
      "cell_type": "code",
      "metadata": {
        "id": "FLr7CsvTqbTI",
        "colab_type": "code",
        "colab": {}
      },
      "source": [
        "model5_vgg16.eval()\n",
        "torch.save(model5_vgg16, '/content/gdrive/My Drive/Colab Notebooks/vgg_model5_without_aug.pt')"
      ],
      "execution_count": null,
      "outputs": []
    }
  ]
}