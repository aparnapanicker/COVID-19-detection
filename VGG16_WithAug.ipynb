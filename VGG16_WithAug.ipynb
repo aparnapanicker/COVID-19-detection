{
  "nbformat": 4,
  "nbformat_minor": 0,
  "metadata": {
    "colab": {
      "name": "VGG16_WithAug.ipynb",
      "provenance": [],
      "collapsed_sections": []
    },
    "kernelspec": {
      "name": "python3",
      "display_name": "Python 3"
    },
    "accelerator": "GPU",
    "widgets": {
      "application/vnd.jupyter.widget-state+json": {
        "3ee247f3a5f94de087cd18e0fe34bcf1": {
          "model_module": "@jupyter-widgets/controls",
          "model_name": "HBoxModel",
          "state": {
            "_view_name": "HBoxView",
            "_dom_classes": [],
            "_model_name": "HBoxModel",
            "_view_module": "@jupyter-widgets/controls",
            "_model_module_version": "1.5.0",
            "_view_count": null,
            "_view_module_version": "1.5.0",
            "box_style": "",
            "layout": "IPY_MODEL_8c00a536d5384b11a1a8622c4e70c17e",
            "_model_module": "@jupyter-widgets/controls",
            "children": [
              "IPY_MODEL_fe68d661b3d04defb9b96046afaa6e6f",
              "IPY_MODEL_d63c89dac0e84706847f588ee4315279"
            ]
          }
        },
        "8c00a536d5384b11a1a8622c4e70c17e": {
          "model_module": "@jupyter-widgets/base",
          "model_name": "LayoutModel",
          "state": {
            "_view_name": "LayoutView",
            "grid_template_rows": null,
            "right": null,
            "justify_content": null,
            "_view_module": "@jupyter-widgets/base",
            "overflow": null,
            "_model_module_version": "1.2.0",
            "_view_count": null,
            "flex_flow": null,
            "width": null,
            "min_width": null,
            "border": null,
            "align_items": null,
            "bottom": null,
            "_model_module": "@jupyter-widgets/base",
            "top": null,
            "grid_column": null,
            "overflow_y": null,
            "overflow_x": null,
            "grid_auto_flow": null,
            "grid_area": null,
            "grid_template_columns": null,
            "flex": null,
            "_model_name": "LayoutModel",
            "justify_items": null,
            "grid_row": null,
            "max_height": null,
            "align_content": null,
            "visibility": null,
            "align_self": null,
            "height": null,
            "min_height": null,
            "padding": null,
            "grid_auto_rows": null,
            "grid_gap": null,
            "max_width": null,
            "order": null,
            "_view_module_version": "1.2.0",
            "grid_template_areas": null,
            "object_position": null,
            "object_fit": null,
            "grid_auto_columns": null,
            "margin": null,
            "display": null,
            "left": null
          }
        },
        "fe68d661b3d04defb9b96046afaa6e6f": {
          "model_module": "@jupyter-widgets/controls",
          "model_name": "FloatProgressModel",
          "state": {
            "_view_name": "ProgressView",
            "style": "IPY_MODEL_3c94ef5467e948eda8455efb6890fae5",
            "_dom_classes": [],
            "description": "100%",
            "_model_name": "FloatProgressModel",
            "bar_style": "success",
            "max": 553433881,
            "_view_module": "@jupyter-widgets/controls",
            "_model_module_version": "1.5.0",
            "value": 553433881,
            "_view_count": null,
            "_view_module_version": "1.5.0",
            "orientation": "horizontal",
            "min": 0,
            "description_tooltip": null,
            "_model_module": "@jupyter-widgets/controls",
            "layout": "IPY_MODEL_29cfa6221c654413a3600045a6e227cf"
          }
        },
        "d63c89dac0e84706847f588ee4315279": {
          "model_module": "@jupyter-widgets/controls",
          "model_name": "HTMLModel",
          "state": {
            "_view_name": "HTMLView",
            "style": "IPY_MODEL_b9a3fcc65c474032ac538e54e08ffd6c",
            "_dom_classes": [],
            "description": "",
            "_model_name": "HTMLModel",
            "placeholder": "​",
            "_view_module": "@jupyter-widgets/controls",
            "_model_module_version": "1.5.0",
            "value": " 528M/528M [00:03&lt;00:00, 146MB/s]",
            "_view_count": null,
            "_view_module_version": "1.5.0",
            "description_tooltip": null,
            "_model_module": "@jupyter-widgets/controls",
            "layout": "IPY_MODEL_99250b1297504a5590f0baf42bcf98b2"
          }
        },
        "3c94ef5467e948eda8455efb6890fae5": {
          "model_module": "@jupyter-widgets/controls",
          "model_name": "ProgressStyleModel",
          "state": {
            "_view_name": "StyleView",
            "_model_name": "ProgressStyleModel",
            "description_width": "initial",
            "_view_module": "@jupyter-widgets/base",
            "_model_module_version": "1.5.0",
            "_view_count": null,
            "_view_module_version": "1.2.0",
            "bar_color": null,
            "_model_module": "@jupyter-widgets/controls"
          }
        },
        "29cfa6221c654413a3600045a6e227cf": {
          "model_module": "@jupyter-widgets/base",
          "model_name": "LayoutModel",
          "state": {
            "_view_name": "LayoutView",
            "grid_template_rows": null,
            "right": null,
            "justify_content": null,
            "_view_module": "@jupyter-widgets/base",
            "overflow": null,
            "_model_module_version": "1.2.0",
            "_view_count": null,
            "flex_flow": null,
            "width": null,
            "min_width": null,
            "border": null,
            "align_items": null,
            "bottom": null,
            "_model_module": "@jupyter-widgets/base",
            "top": null,
            "grid_column": null,
            "overflow_y": null,
            "overflow_x": null,
            "grid_auto_flow": null,
            "grid_area": null,
            "grid_template_columns": null,
            "flex": null,
            "_model_name": "LayoutModel",
            "justify_items": null,
            "grid_row": null,
            "max_height": null,
            "align_content": null,
            "visibility": null,
            "align_self": null,
            "height": null,
            "min_height": null,
            "padding": null,
            "grid_auto_rows": null,
            "grid_gap": null,
            "max_width": null,
            "order": null,
            "_view_module_version": "1.2.0",
            "grid_template_areas": null,
            "object_position": null,
            "object_fit": null,
            "grid_auto_columns": null,
            "margin": null,
            "display": null,
            "left": null
          }
        },
        "b9a3fcc65c474032ac538e54e08ffd6c": {
          "model_module": "@jupyter-widgets/controls",
          "model_name": "DescriptionStyleModel",
          "state": {
            "_view_name": "StyleView",
            "_model_name": "DescriptionStyleModel",
            "description_width": "",
            "_view_module": "@jupyter-widgets/base",
            "_model_module_version": "1.5.0",
            "_view_count": null,
            "_view_module_version": "1.2.0",
            "_model_module": "@jupyter-widgets/controls"
          }
        },
        "99250b1297504a5590f0baf42bcf98b2": {
          "model_module": "@jupyter-widgets/base",
          "model_name": "LayoutModel",
          "state": {
            "_view_name": "LayoutView",
            "grid_template_rows": null,
            "right": null,
            "justify_content": null,
            "_view_module": "@jupyter-widgets/base",
            "overflow": null,
            "_model_module_version": "1.2.0",
            "_view_count": null,
            "flex_flow": null,
            "width": null,
            "min_width": null,
            "border": null,
            "align_items": null,
            "bottom": null,
            "_model_module": "@jupyter-widgets/base",
            "top": null,
            "grid_column": null,
            "overflow_y": null,
            "overflow_x": null,
            "grid_auto_flow": null,
            "grid_area": null,
            "grid_template_columns": null,
            "flex": null,
            "_model_name": "LayoutModel",
            "justify_items": null,
            "grid_row": null,
            "max_height": null,
            "align_content": null,
            "visibility": null,
            "align_self": null,
            "height": null,
            "min_height": null,
            "padding": null,
            "grid_auto_rows": null,
            "grid_gap": null,
            "max_width": null,
            "order": null,
            "_view_module_version": "1.2.0",
            "grid_template_areas": null,
            "object_position": null,
            "object_fit": null,
            "grid_auto_columns": null,
            "margin": null,
            "display": null,
            "left": null
          }
        }
      }
    }
  },
  "cells": [
    {
      "cell_type": "code",
      "metadata": {
        "id": "ifIkOGWTCOiI",
        "colab_type": "code",
        "colab": {
          "base_uri": "https://localhost:8080/",
          "height": 122
        },
        "outputId": "e383e56e-93b6-44c5-f5ac-7ea9220131d0"
      },
      "source": [
        "from google.colab import drive\n",
        "drive.mount('/content/gdrive', force_remount=True)"
      ],
      "execution_count": null,
      "outputs": [
        {
          "output_type": "stream",
          "text": [
            "Go to this URL in a browser: https://accounts.google.com/o/oauth2/auth?client_id=947318989803-6bn6qk8qdgf4n4g3pfee6491hc0brc4i.apps.googleusercontent.com&redirect_uri=urn%3aietf%3awg%3aoauth%3a2.0%3aoob&response_type=code&scope=email%20https%3a%2f%2fwww.googleapis.com%2fauth%2fdocs.test%20https%3a%2f%2fwww.googleapis.com%2fauth%2fdrive%20https%3a%2f%2fwww.googleapis.com%2fauth%2fdrive.photos.readonly%20https%3a%2f%2fwww.googleapis.com%2fauth%2fpeopleapi.readonly\n",
            "\n",
            "Enter your authorization code:\n",
            "··········\n",
            "Mounted at /content/gdrive\n"
          ],
          "name": "stdout"
        }
      ]
    },
    {
      "cell_type": "code",
      "metadata": {
        "id": "4UnHG2m_CPl9",
        "colab_type": "code",
        "colab": {}
      },
      "source": [
        "import torch\n",
        "import numpy as np\n",
        "import matplotlib.pyplot as plt\n",
        "import torch.nn as nn\n",
        "import torchvision\n",
        "import torchvision.models as models\n",
        "from torchvision import models, transforms, datasets\n",
        "import torch.optim as optim\n",
        "import os, pickle, time, copy, glob\n",
        "from PIL import Image\n",
        "from torch.utils.data.sampler import SubsetRandomSampler\n",
        "from torch.optim import lr_scheduler\n",
        "from sklearn.metrics import classification_report, confusion_matrix\n",
        "import pandas as pd\n",
        "import argparse\n",
        "import json\n",
        "\n"
      ],
      "execution_count": null,
      "outputs": []
    },
    {
      "cell_type": "code",
      "metadata": {
        "id": "BikQfg0UTVwv",
        "colab_type": "code",
        "colab": {}
      },
      "source": [
        "device = torch.device('cuda:0' if torch.cuda.is_available() else 'cpu')"
      ],
      "execution_count": null,
      "outputs": []
    },
    {
      "cell_type": "code",
      "metadata": {
        "id": "7M5rwGHYDtqd",
        "colab_type": "code",
        "colab": {}
      },
      "source": [
        "transformers = {'train_transforms' : transforms.Compose([\n",
        "    transforms.Resize((224,224)),\n",
        "    transforms.RandomRotation(20),\n",
        "    transforms.RandomHorizontalFlip(),\n",
        "    transforms.ToTensor(),\n",
        "    transforms.Normalize([0.485, 0.456, 0.406], std=[0.229, 0.224, 0.225])\n",
        "]),\n",
        "'test_transforms' : transforms.Compose([\n",
        "    transforms.Resize((224,224)),\n",
        "    transforms.ToTensor(),\n",
        "    transforms.Normalize([0.485, 0.456, 0.406], std=[0.229, 0.224, 0.225])\n",
        "])}\n",
        "\n",
        "trans = ['train_transforms','test_transforms']\n",
        "path = \"/content/gdrive/My Drive/Colab Notebooks/MainDataAug/\"\n",
        "categories = ['train','test']"
      ],
      "execution_count": null,
      "outputs": []
    },
    {
      "cell_type": "code",
      "metadata": {
        "id": "wNC_1QVxT6rZ",
        "colab_type": "code",
        "colab": {}
      },
      "source": [
        "dset = {x : torchvision.datasets.ImageFolder(path+x, transform=transformers[y]) for x,y in zip(categories, trans)}\n"
      ],
      "execution_count": null,
      "outputs": []
    },
    {
      "cell_type": "code",
      "metadata": {
        "id": "jNAT6b5ma0Gu",
        "colab_type": "code",
        "colab": {
          "base_uri": "https://localhost:8080/",
          "height": 119
        },
        "outputId": "133e6ebe-b103-4f1f-e121-b062ac43873d"
      },
      "source": [
        "len_train = len(dset['train'])\n",
        "print('original train dataset size ', len_train) \n",
        "len_test = len(dset['test'])\n",
        "print('original test dataset size ', len_test) \n",
        "indices_list = range(len_train)\n",
        "indices = [*indices_list]\n",
        "\n",
        "np.random.shuffle(indices)\n",
        "split = int(np.floor(0.2 * len_train))\n",
        "train_idx, valid_idx = indices[split:], indices[:split]\n",
        "print('Upadted train dataset size:', len(train_idx))\n",
        "print('Created validation dataset size:', len(valid_idx))\n",
        "test_idx = [i for i in range(len(dset['test']))]\n",
        "print('the test imagedataest size', len(dset['test']))\n",
        "\n",
        "train_sampler = SubsetRandomSampler(train_idx)\n",
        "valid_sampler = SubsetRandomSampler(valid_idx)\n",
        "test_sampler = SubsetRandomSampler(test_idx)\n",
        "\n",
        "dataset_sizes = {}\n",
        "dataset_sizes['train'] = train_sampler.__len__()\n",
        "dataset_sizes['test'] = test_sampler.__len__()\n",
        "dataset_sizes['val'] = valid_sampler.__len__()\n",
        "print(dataset_sizes['val'], dataset_sizes['test'], dataset_sizes['train'])\n"
      ],
      "execution_count": null,
      "outputs": [
        {
          "output_type": "stream",
          "text": [
            "original train dataset size  3847\n",
            "original test dataset size  3040\n",
            "Upadted train dataset size: 3078\n",
            "Created validation dataset size: 769\n",
            "the test imagedataest size 3040\n",
            "769 3040 3078\n"
          ],
          "name": "stdout"
        }
      ]
    },
    {
      "cell_type": "code",
      "metadata": {
        "id": "nvt7UCDVjBAo",
        "colab_type": "code",
        "colab": {}
      },
      "source": [
        "train_loader = torch.utils.data.DataLoader(dset['train'], batch_size=16,\n",
        "    drop_last= True, sampler=train_sampler, num_workers=0)\n",
        "valid_loader = torch.utils.data.DataLoader(dset['train'], batch_size=16, \n",
        "    drop_last= True, sampler=valid_sampler, num_workers=0)\n",
        "test_loader = torch.utils.data.DataLoader(dset['test'], batch_size=16, \n",
        "    drop_last= True,sampler=test_sampler,num_workers=0)\n"
      ],
      "execution_count": null,
      "outputs": []
    },
    {
      "cell_type": "code",
      "metadata": {
        "id": "AewzrKrkmrVP",
        "colab_type": "code",
        "colab": {}
      },
      "source": [
        "dataloaders = {'train':train_loader,'val':valid_loader,'test':test_loader}\n",
        "class_names = dset['train'].classes"
      ],
      "execution_count": null,
      "outputs": []
    },
    {
      "cell_type": "code",
      "metadata": {
        "id": "50TUleSOlug3",
        "colab_type": "code",
        "colab": {
          "base_uri": "https://localhost:8080/",
          "height": 35
        },
        "outputId": "cebbb37a-d270-4bef-c2d0-16b4847e4504"
      },
      "source": [
        "images, labels = next(iter(dataloaders['test']))\n",
        "rand_idx = np.random.randint(len(images))\n",
        "# print(rand_idx)\n",
        "print(\"label: {}, class: {}\".format(labels[rand_idx].item(),\n",
        "                                               class_names[labels[rand_idx].item()]))"
      ],
      "execution_count": null,
      "outputs": [
        {
          "output_type": "stream",
          "text": [
            "label: 0, class: covid-n\n"
          ],
          "name": "stdout"
        }
      ]
    },
    {
      "cell_type": "code",
      "metadata": {
        "id": "VO6JdVeZohVU",
        "colab_type": "code",
        "colab": {
          "base_uri": "https://localhost:8080/",
          "height": 148
        },
        "outputId": "b8a88127-9477-478b-9d9c-a236ff93ea9e"
      },
      "source": [
        "def imshow(inp, title=None):\n",
        "    inp = inp.numpy().transpose((1,2,0))\n",
        "    mean = np.array([0.485, 0.456, 0.406])\n",
        "    std = np.array([0.229, 0.224, 0.225])\n",
        "    inp = std*inp + mean\n",
        "    inp = np.clip(inp,0,1)\n",
        "    plt.imshow(inp)\n",
        "    if title is not None:\n",
        "        plt.title(title)\n",
        "    plt.pause(0.001)\n",
        "inputs,classes = next(iter(dataloaders[\"train\"]))\n",
        "out = torchvision.utils.make_grid(inputs)\n",
        "class_names = dset[\"train\"].classes\n",
        "imshow(out, title = [class_names[x] for x in classes])\n"
      ],
      "execution_count": null,
      "outputs": [
        {
          "output_type": "display_data",
          "data": {
            "image/png": "[encoded data removed]",
            "text/plain": [
              "<Figure size 432x288 with 1 Axes>"
            ]
          },
          "metadata": {
            "tags": [],
            "needs_background": "light"
          }
        }
      ]
    },
    {
      "cell_type": "code",
      "metadata": {
        "id": "CcyPhrtfp182",
        "colab_type": "code",
        "colab": {
          "base_uri": "https://localhost:8080/",
          "height": 83,
          "referenced_widgets": [
            "3ee247f3a5f94de087cd18e0fe34bcf1",
            "8c00a536d5384b11a1a8622c4e70c17e",
            "fe68d661b3d04defb9b96046afaa6e6f",
            "d63c89dac0e84706847f588ee4315279",
            "3c94ef5467e948eda8455efb6890fae5",
            "29cfa6221c654413a3600045a6e227cf",
            "b9a3fcc65c474032ac538e54e08ffd6c",
            "99250b1297504a5590f0baf42bcf98b2"
          ]
        },
        "outputId": "f0de741c-b78d-4ce4-c5a9-de1a03511268"
      },
      "source": [
        "class ModelVGG16(nn.Module):\n",
        "    def __init__(self):\n",
        "        super(ModelVGG16, self).__init__()\n",
        "        self.model = torchvision.models.vgg16(pretrained=True)\n",
        "        self.classifier = nn.Sequential(\n",
        "        nn.Linear(4096,2),\n",
        "        nn.LogSoftmax(dim=1))\n",
        "        for params in self.model.parameters():\n",
        "            params.requires_grad = False\n",
        "        self.model.classifier[6] = self.classifier\n",
        "\n",
        "    def forward(self, x):\n",
        "        return self.model(x)\n",
        "        \n",
        "model = ModelVGG16()"
      ],
      "execution_count": null,
      "outputs": [
        {
          "output_type": "stream",
          "text": [
            "Downloading: \"https://download.pytorch.org/models/vgg16-397923af.pth\" to /root/.cache/torch/checkpoints/vgg16-397923af.pth\n"
          ],
          "name": "stderr"
        },
        {
          "output_type": "display_data",
          "data": {
            "application/vnd.jupyter.widget-view+json": {
              "model_id": "3ee247f3a5f94de087cd18e0fe34bcf1",
              "version_minor": 0,
              "version_major": 2
            },
            "text/plain": [
              "HBox(children=(FloatProgress(value=0.0, max=553433881.0), HTML(value='')))"
            ]
          },
          "metadata": {
            "tags": []
          }
        },
        {
          "output_type": "stream",
          "text": [
            "\n"
          ],
          "name": "stdout"
        }
      ]
    },
    {
      "cell_type": "code",
      "metadata": {
        "id": "-M2KMPc8ryOt",
        "colab_type": "code",
        "colab": {}
      },
      "source": [
        "train_losses = []\n",
        "val_losses = []\n",
        "train_acc = []\n",
        "val_acc = []\n",
        "def fit(self, dataloaders, num_epochs):\n",
        "\n",
        "        train_on_gpu = torch.cuda.is_available()\n",
        "        optimizer = optim.Adam(model.parameters(), lr=0.01)\n",
        "        scheduler = optim.lr_scheduler.StepLR(optimizer, 4)\n",
        "        criterion = nn.NLLLoss()\n",
        "        since = time.time()\n",
        "        best_model_wts = copy.deepcopy(self.model.state_dict())\n",
        "        best_acc = 0.0\n",
        "        if train_on_gpu:\n",
        "            self.model = self.model.cuda()\n",
        "        for epoch in range(num_epochs):\n",
        "            print('Epoch {}/{}'.format(epoch, num_epochs - 1))\n",
        "            print('-' * 10)\n",
        "            for phase in ['train', 'val']:\n",
        "                if phase == 'train':\n",
        "                    scheduler.step()\n",
        "                    self.model.train()  \n",
        "                else:\n",
        "                    self.model.eval()   \n",
        "                running_loss = 0.0\n",
        "                running_corrects = 0\n",
        "                for inputs, labels in dataloaders[phase]:\n",
        "                    if train_on_gpu:\n",
        "                        inputs = inputs.cuda()\n",
        "                        labels = labels.cuda()\n",
        "                    optimizer.zero_grad()\n",
        "                    \n",
        "                    with torch.set_grad_enabled(phase == 'train'):\n",
        "                        outputs = self.model(inputs)\n",
        "                        _, preds = torch.max(outputs, 1)\n",
        "                        loss = criterion(outputs, labels)\n",
        "\n",
        "                        if phase == 'train':\n",
        "                            loss.backward()\n",
        "                            optimizer.step()\n",
        "                    running_loss += loss.item() * inputs.size(0)\n",
        "                    running_corrects += torch.sum(preds == labels.data)\n",
        "                \n",
        "                \n",
        "                epoch_loss = running_loss / dataset_sizes[phase]\n",
        "                epoch_acc = running_corrects.double() / dataset_sizes[phase]\n",
        "                print('{} Loss: {:.4f} Acc: {:.4f}'.format(\n",
        "                    phase, epoch_loss, epoch_acc))\n",
        "                if(phase == 'train'):\n",
        "                  train_losses.append(epoch_loss)   \n",
        "                  train_acc.append(epoch_acc) \n",
        "                if(phase == 'val'):\n",
        "                  val_losses.append(epoch_loss)   \n",
        "                  val_acc.append(epoch_acc) \n",
        "                if phase == 'val' and epoch_acc > best_acc:\n",
        "                    best_acc = epoch_acc\n",
        "                    best_model_wts = copy.deepcopy(self.model.state_dict())\n",
        "        time_elapsed = time.time() - since\n",
        "        print('Training complete in {:.0f}m {:.0f}s'.format(\n",
        "            time_elapsed // 60, time_elapsed % 60))\n",
        "        print('Best val Acc: {:4f}'.format(best_acc))\n",
        "        \n",
        "        self.model.load_state_dict(best_model_wts)\n",
        "        return self.model\n"
      ],
      "execution_count": null,
      "outputs": []
    },
    {
      "cell_type": "code",
      "metadata": {
        "id": "xJL1sr5vJkcj",
        "colab_type": "code",
        "colab": {
          "base_uri": "https://localhost:8080/",
          "height": 478
        },
        "outputId": "08b15ba2-baab-47fc-bbb8-77b9790d1bfe"
      },
      "source": [
        "num_epochs = 5\n",
        "model1_vgg16 = fit(model, dataloaders, num_epochs)"
      ],
      "execution_count": null,
      "outputs": [
        {
          "output_type": "stream",
          "text": [
            "Epoch 0/4\n",
            "----------\n"
          ],
          "name": "stdout"
        },
        {
          "output_type": "stream",
          "text": [
            "/usr/local/lib/python3.6/dist-packages/torch/optim/lr_scheduler.py:123: UserWarning: Detected call of `lr_scheduler.step()` before `optimizer.step()`. In PyTorch 1.1.0 and later, you should call them in the opposite order: `optimizer.step()` before `lr_scheduler.step()`.  Failure to do this will result in PyTorch skipping the first value of the learning rate schedule. See more details at https://pytorch.org/docs/stable/optim.html#how-to-adjust-learning-rate\n",
            "  \"https://pytorch.org/docs/stable/optim.html#how-to-adjust-learning-rate\", UserWarning)\n"
          ],
          "name": "stderr"
        },
        {
          "output_type": "stream",
          "text": [
            "train Loss: 0.6644 Acc: 0.8538\n",
            "val Loss: 0.1384 Acc: 0.9701\n",
            "Epoch 1/4\n",
            "----------\n",
            "train Loss: 0.6895 Acc: 0.8964\n",
            "val Loss: 0.1498 Acc: 0.9610\n",
            "Epoch 2/4\n",
            "----------\n",
            "train Loss: 0.6871 Acc: 0.9084\n",
            "val Loss: 0.1288 Acc: 0.9701\n",
            "Epoch 3/4\n",
            "----------\n",
            "train Loss: 0.4975 Acc: 0.9396\n",
            "val Loss: 0.1126 Acc: 0.9766\n",
            "Epoch 4/4\n",
            "----------\n",
            "train Loss: 0.4944 Acc: 0.9357\n",
            "val Loss: 0.1948 Acc: 0.9662\n",
            "Training complete in 66m 25s\n",
            "Best val Acc: 0.976593\n"
          ],
          "name": "stdout"
        }
      ]
    },
    {
      "cell_type": "code",
      "metadata": {
        "id": "7JCigsUavHLv",
        "colab_type": "code",
        "colab": {}
      },
      "source": [
        "model1_vgg16.eval()\n",
        "torch.save(model1_vgg16, '/content/gdrive/My Drive/Colab Notebooks/vgg16_model1_with_aug.pt')"
      ],
      "execution_count": null,
      "outputs": []
    },
    {
      "cell_type": "code",
      "metadata": {
        "id": "wcFGPRVND9o2",
        "colab_type": "code",
        "colab": {
          "base_uri": "https://localhost:8080/",
          "height": 845
        },
        "outputId": "c3d3661a-f726-4591-bbfa-fbf923cfc5fe"
      },
      "source": [
        "num_epochs = 10\n",
        "model2_vgg16 = fit(model, dataloaders, num_epochs)"
      ],
      "execution_count": null,
      "outputs": [
        {
          "output_type": "stream",
          "text": [
            "Epoch 0/9\n",
            "----------\n"
          ],
          "name": "stdout"
        },
        {
          "output_type": "stream",
          "text": [
            "/usr/local/lib/python3.6/dist-packages/torch/optim/lr_scheduler.py:123: UserWarning: Detected call of `lr_scheduler.step()` before `optimizer.step()`. In PyTorch 1.1.0 and later, you should call them in the opposite order: `optimizer.step()` before `lr_scheduler.step()`.  Failure to do this will result in PyTorch skipping the first value of the learning rate schedule. See more details at https://pytorch.org/docs/stable/optim.html#how-to-adjust-learning-rate\n",
            "  \"https://pytorch.org/docs/stable/optim.html#how-to-adjust-learning-rate\", UserWarning)\n"
          ],
          "name": "stderr"
        },
        {
          "output_type": "stream",
          "text": [
            "train Loss: 0.8003 Acc: 0.9175\n",
            "val Loss: 0.1330 Acc: 0.9779\n",
            "Epoch 1/9\n",
            "----------\n",
            "train Loss: 0.7883 Acc: 0.9185\n",
            "val Loss: 0.3823 Acc: 0.9467\n",
            "Epoch 2/9\n",
            "----------\n",
            "train Loss: 0.8681 Acc: 0.9175\n",
            "val Loss: 0.3007 Acc: 0.9740\n",
            "Epoch 3/9\n",
            "----------\n",
            "train Loss: 0.7210 Acc: 0.9353\n",
            "val Loss: 0.1462 Acc: 0.9779\n",
            "Epoch 4/9\n",
            "----------\n",
            "train Loss: 0.7662 Acc: 0.9321\n",
            "val Loss: 0.0842 Acc: 0.9870\n",
            "Epoch 5/9\n",
            "----------\n",
            "train Loss: 0.6570 Acc: 0.9363\n",
            "val Loss: 0.1638 Acc: 0.9792\n",
            "Epoch 6/9\n",
            "----------\n",
            "train Loss: 0.5285 Acc: 0.9418\n",
            "val Loss: 0.0493 Acc: 0.9883\n",
            "Epoch 7/9\n",
            "----------\n",
            "train Loss: 0.6813 Acc: 0.9373\n",
            "val Loss: 0.1239 Acc: 0.9792\n",
            "Epoch 8/9\n",
            "----------\n",
            "train Loss: 0.5439 Acc: 0.9396\n",
            "val Loss: 0.1588 Acc: 0.9844\n",
            "Epoch 9/9\n",
            "----------\n",
            "train Loss: 0.6744 Acc: 0.9344\n",
            "val Loss: 0.0905 Acc: 0.9844\n",
            "Training complete in 18m 57s\n",
            "Best val Acc: 0.988296\n"
          ],
          "name": "stdout"
        }
      ]
    },
    {
      "cell_type": "code",
      "metadata": {
        "id": "WiZK1jQ5x4GH",
        "colab_type": "code",
        "colab": {}
      },
      "source": [
        "model2_vgg16.eval()\n",
        "torch.save(model2_vgg16, '/content/gdrive/My Drive/Colab Notebooks/vgg16_model2_with_aug.pt')"
      ],
      "execution_count": null,
      "outputs": []
    },
    {
      "cell_type": "code",
      "metadata": {
        "id": "xgzgeUoSqCXO",
        "colab_type": "code",
        "colab": {
          "base_uri": "https://localhost:8080/",
          "height": 1000
        },
        "outputId": "8341acad-5aea-43a5-dcc7-cda9384db257"
      },
      "source": [
        "num_epochs = 15\n",
        "model3_vgg16 = fit(model, dataloaders, num_epochs)"
      ],
      "execution_count": null,
      "outputs": [
        {
          "output_type": "stream",
          "text": [
            "Epoch 0/14\n",
            "----------\n"
          ],
          "name": "stdout"
        },
        {
          "output_type": "stream",
          "text": [
            "/usr/local/lib/python3.6/dist-packages/torch/optim/lr_scheduler.py:123: UserWarning: Detected call of `lr_scheduler.step()` before `optimizer.step()`. In PyTorch 1.1.0 and later, you should call them in the opposite order: `optimizer.step()` before `lr_scheduler.step()`.  Failure to do this will result in PyTorch skipping the first value of the learning rate schedule. See more details at https://pytorch.org/docs/stable/optim.html#how-to-adjust-learning-rate\n",
            "  \"https://pytorch.org/docs/stable/optim.html#how-to-adjust-learning-rate\", UserWarning)\n"
          ],
          "name": "stderr"
        },
        {
          "output_type": "stream",
          "text": [
            "train Loss: 1.0099 Acc: 0.9159\n",
            "val Loss: 0.1480 Acc: 0.9870\n",
            "Epoch 1/14\n",
            "----------\n",
            "train Loss: 0.8805 Acc: 0.9292\n",
            "val Loss: 0.1027 Acc: 0.9883\n",
            "Epoch 2/14\n",
            "----------\n",
            "train Loss: 0.8466 Acc: 0.9357\n",
            "val Loss: 0.1961 Acc: 0.9740\n",
            "Epoch 3/14\n",
            "----------\n",
            "train Loss: 0.7779 Acc: 0.9376\n",
            "val Loss: 0.1199 Acc: 0.9831\n",
            "Epoch 4/14\n",
            "----------\n",
            "train Loss: 0.6514 Acc: 0.9379\n",
            "val Loss: 0.1082 Acc: 0.9870\n",
            "Epoch 5/14\n",
            "----------\n",
            "train Loss: 0.7075 Acc: 0.9470\n",
            "val Loss: 0.1074 Acc: 0.9818\n",
            "Epoch 6/14\n",
            "----------\n",
            "train Loss: 0.7722 Acc: 0.9360\n",
            "val Loss: 0.0783 Acc: 0.9883\n",
            "Epoch 7/14\n",
            "----------\n",
            "train Loss: 0.7140 Acc: 0.9376\n",
            "val Loss: 0.1036 Acc: 0.9857\n",
            "Epoch 8/14\n",
            "----------\n",
            "train Loss: 0.5892 Acc: 0.9448\n",
            "val Loss: 0.1589 Acc: 0.9818\n",
            "Epoch 9/14\n",
            "----------\n",
            "train Loss: 0.7197 Acc: 0.9366\n",
            "val Loss: 0.1142 Acc: 0.9857\n",
            "Epoch 10/14\n",
            "----------\n",
            "train Loss: 0.6654 Acc: 0.9444\n",
            "val Loss: 0.1171 Acc: 0.9831\n",
            "Epoch 11/14\n",
            "----------\n",
            "train Loss: 0.6625 Acc: 0.9438\n",
            "val Loss: 0.1350 Acc: 0.9883\n",
            "Epoch 12/14\n",
            "----------\n",
            "train Loss: 0.6350 Acc: 0.9418\n",
            "val Loss: 0.1355 Acc: 0.9805\n",
            "Epoch 13/14\n",
            "----------\n",
            "train Loss: 0.6056 Acc: 0.9431\n",
            "val Loss: 0.0872 Acc: 0.9831\n",
            "Epoch 14/14\n",
            "----------\n",
            "train Loss: 0.5840 Acc: 0.9464\n",
            "val Loss: 0.1015 Acc: 0.9870\n",
            "Training complete in 28m 9s\n",
            "Best val Acc: 0.988296\n"
          ],
          "name": "stdout"
        }
      ]
    },
    {
      "cell_type": "code",
      "metadata": {
        "id": "kxVWB3mxqIFv",
        "colab_type": "code",
        "colab": {}
      },
      "source": [
        "model3_vgg16.eval()\n",
        "torch.save(model3_vgg16, '/content/gdrive/My Drive/Colab Notebooks/vgg16_model3_with_aug.pt')"
      ],
      "execution_count": null,
      "outputs": []
    },
    {
      "cell_type": "code",
      "metadata": {
        "id": "RNCcSHgMqP-3",
        "colab_type": "code",
        "colab": {
          "base_uri": "https://localhost:8080/",
          "height": 1000
        },
        "outputId": "8b280ab5-cb00-4ca0-ef0e-09fad87f83b9"
      },
      "source": [
        "num_epochs = 20\n",
        "model4_vgg16 = fit(model, dataloaders, num_epochs)"
      ],
      "execution_count": null,
      "outputs": [
        {
          "output_type": "stream",
          "text": [
            "Epoch 0/19\n",
            "----------\n"
          ],
          "name": "stdout"
        },
        {
          "output_type": "stream",
          "text": [
            "/usr/local/lib/python3.6/dist-packages/torch/optim/lr_scheduler.py:123: UserWarning: Detected call of `lr_scheduler.step()` before `optimizer.step()`. In PyTorch 1.1.0 and later, you should call them in the opposite order: `optimizer.step()` before `lr_scheduler.step()`.  Failure to do this will result in PyTorch skipping the first value of the learning rate schedule. See more details at https://pytorch.org/docs/stable/optim.html#how-to-adjust-learning-rate\n",
            "  \"https://pytorch.org/docs/stable/optim.html#how-to-adjust-learning-rate\", UserWarning)\n"
          ],
          "name": "stderr"
        },
        {
          "output_type": "stream",
          "text": [
            "train Loss: 0.6378 Acc: 0.8600\n",
            "val Loss: 0.2357 Acc: 0.9493\n",
            "Epoch 1/19\n",
            "----------\n",
            "train Loss: 0.8247 Acc: 0.8964\n",
            "val Loss: 0.0972 Acc: 0.9740\n",
            "Epoch 2/19\n",
            "----------\n",
            "train Loss: 0.7245 Acc: 0.9097\n",
            "val Loss: 0.2823 Acc: 0.9519\n",
            "Epoch 3/19\n",
            "----------\n",
            "train Loss: 0.4402 Acc: 0.9324\n",
            "val Loss: 0.1092 Acc: 0.9779\n",
            "Epoch 4/19\n",
            "----------\n",
            "train Loss: 0.4542 Acc: 0.9334\n",
            "val Loss: 0.1102 Acc: 0.9740\n",
            "Epoch 5/19\n",
            "----------\n",
            "train Loss: 0.4575 Acc: 0.9327\n",
            "val Loss: 0.1194 Acc: 0.9740\n",
            "Epoch 6/19\n",
            "----------\n",
            "train Loss: 0.4589 Acc: 0.9288\n",
            "val Loss: 0.1866 Acc: 0.9662\n",
            "Epoch 7/19\n",
            "----------\n",
            "train Loss: 0.4555 Acc: 0.9366\n",
            "val Loss: 0.1124 Acc: 0.9818\n",
            "Epoch 8/19\n",
            "----------\n",
            "train Loss: 0.4790 Acc: 0.9327\n",
            "val Loss: 0.1500 Acc: 0.9727\n",
            "Epoch 9/19\n",
            "----------\n",
            "train Loss: 0.4105 Acc: 0.9376\n",
            "val Loss: 0.0839 Acc: 0.9805\n",
            "Epoch 10/19\n",
            "----------\n",
            "train Loss: 0.4392 Acc: 0.9337\n",
            "val Loss: 0.1772 Acc: 0.9727\n",
            "Epoch 11/19\n",
            "----------\n",
            "train Loss: 0.3551 Acc: 0.9428\n",
            "val Loss: 0.1248 Acc: 0.9753\n",
            "Epoch 12/19\n",
            "----------\n",
            "train Loss: 0.3516 Acc: 0.9470\n",
            "val Loss: 0.1329 Acc: 0.9753\n",
            "Epoch 13/19\n",
            "----------\n",
            "train Loss: 0.4073 Acc: 0.9357\n",
            "val Loss: 0.1265 Acc: 0.9779\n",
            "Epoch 14/19\n",
            "----------\n",
            "train Loss: 0.4553 Acc: 0.9314\n",
            "val Loss: 0.1444 Acc: 0.9753\n",
            "Epoch 15/19\n",
            "----------\n",
            "train Loss: 0.4285 Acc: 0.9379\n",
            "val Loss: 0.1078 Acc: 0.9766\n",
            "Epoch 16/19\n",
            "----------\n",
            "train Loss: 0.4202 Acc: 0.9373\n",
            "val Loss: 0.1080 Acc: 0.9792\n",
            "Epoch 17/19\n",
            "----------\n",
            "train Loss: 0.3980 Acc: 0.9405\n",
            "val Loss: 0.0981 Acc: 0.9792\n",
            "Epoch 18/19\n",
            "----------\n",
            "train Loss: 0.4486 Acc: 0.9422\n",
            "val Loss: 0.1532 Acc: 0.9766\n",
            "Epoch 19/19\n",
            "----------\n",
            "train Loss: 0.4735 Acc: 0.9305\n",
            "val Loss: 0.0842 Acc: 0.9792\n",
            "Training complete in 93m 20s\n",
            "Best val Acc: 0.981795\n"
          ],
          "name": "stdout"
        }
      ]
    },
    {
      "cell_type": "code",
      "metadata": {
        "id": "rBiWyHOqqOjw",
        "colab_type": "code",
        "colab": {}
      },
      "source": [
        "model4_vgg16.eval()\n",
        "torch.save(model4_vgg16, '/content/gdrive/My Drive/Colab Notebooks/vgg16_model4_with_aug.pt')"
      ],
      "execution_count": null,
      "outputs": []
    },
    {
      "cell_type": "code",
      "metadata": {
        "id": "sw3u6WicqXIA",
        "colab_type": "code",
        "colab": {
          "base_uri": "https://localhost:8080/",
          "height": 1000
        },
        "outputId": "1d48bca9-1baa-4e0e-a522-448471277308"
      },
      "source": [
        "num_epochs = 25\n",
        "model5_vgg16 = fit(model, dataloaders, num_epochs)"
      ],
      "execution_count": null,
      "outputs": [
        {
          "output_type": "stream",
          "text": [
            "Epoch 0/24\n",
            "----------\n"
          ],
          "name": "stdout"
        },
        {
          "output_type": "stream",
          "text": [
            "/usr/local/lib/python3.6/dist-packages/torch/optim/lr_scheduler.py:123: UserWarning: Detected call of `lr_scheduler.step()` before `optimizer.step()`. In PyTorch 1.1.0 and later, you should call them in the opposite order: `optimizer.step()` before `lr_scheduler.step()`.  Failure to do this will result in PyTorch skipping the first value of the learning rate schedule. See more details at https://pytorch.org/docs/stable/optim.html#how-to-adjust-learning-rate\n",
            "  \"https://pytorch.org/docs/stable/optim.html#how-to-adjust-learning-rate\", UserWarning)\n"
          ],
          "name": "stderr"
        },
        {
          "output_type": "stream",
          "text": [
            "train Loss: 0.7032 Acc: 0.9168\n",
            "val Loss: 0.2661 Acc: 0.9558\n",
            "Epoch 1/24\n",
            "----------\n",
            "train Loss: 0.7293 Acc: 0.9224\n",
            "val Loss: 0.1412 Acc: 0.9753\n",
            "Epoch 2/24\n",
            "----------\n",
            "train Loss: 0.7754 Acc: 0.9204\n",
            "val Loss: 0.2217 Acc: 0.9688\n",
            "Epoch 3/24\n",
            "----------\n",
            "train Loss: 0.8630 Acc: 0.9292\n",
            "val Loss: 0.1291 Acc: 0.9779\n",
            "Epoch 4/24\n",
            "----------\n",
            "train Loss: 0.7496 Acc: 0.9327\n",
            "val Loss: 0.1680 Acc: 0.9792\n",
            "Epoch 5/24\n",
            "----------\n",
            "train Loss: 0.6256 Acc: 0.9425\n",
            "val Loss: 0.2051 Acc: 0.9727\n",
            "Epoch 6/24\n",
            "----------\n",
            "train Loss: 0.5894 Acc: 0.9422\n",
            "val Loss: 0.1565 Acc: 0.9805\n",
            "Epoch 7/24\n",
            "----------\n",
            "train Loss: 0.6108 Acc: 0.9373\n",
            "val Loss: 0.1817 Acc: 0.9792\n",
            "Epoch 8/24\n",
            "----------\n",
            "train Loss: 0.6090 Acc: 0.9321\n",
            "val Loss: 0.1725 Acc: 0.9753\n",
            "Epoch 9/24\n",
            "----------\n",
            "train Loss: 0.5522 Acc: 0.9415\n",
            "val Loss: 0.1724 Acc: 0.9779\n",
            "Epoch 10/24\n",
            "----------\n",
            "train Loss: 0.6236 Acc: 0.9360\n",
            "val Loss: 0.1422 Acc: 0.9805\n",
            "Epoch 11/24\n",
            "----------\n",
            "train Loss: 0.5224 Acc: 0.9464\n",
            "val Loss: 0.1159 Acc: 0.9844\n",
            "Epoch 12/24\n",
            "----------\n",
            "train Loss: 0.6538 Acc: 0.9357\n",
            "val Loss: 0.1215 Acc: 0.9831\n",
            "Epoch 13/24\n",
            "----------\n",
            "train Loss: 0.5609 Acc: 0.9366\n",
            "val Loss: 0.2248 Acc: 0.9792\n",
            "Epoch 14/24\n",
            "----------\n",
            "train Loss: 0.5926 Acc: 0.9399\n",
            "val Loss: 0.1255 Acc: 0.9818\n",
            "Epoch 15/24\n",
            "----------\n",
            "train Loss: 0.5636 Acc: 0.9405\n",
            "val Loss: 0.1609 Acc: 0.9818\n",
            "Epoch 16/24\n",
            "----------\n",
            "train Loss: 0.5304 Acc: 0.9389\n",
            "val Loss: 0.1284 Acc: 0.9818\n",
            "Epoch 17/24\n",
            "----------\n",
            "train Loss: 0.6506 Acc: 0.9347\n",
            "val Loss: 0.1429 Acc: 0.9844\n",
            "Epoch 18/24\n",
            "----------\n",
            "train Loss: 0.5180 Acc: 0.9477\n",
            "val Loss: 0.1584 Acc: 0.9740\n",
            "Epoch 19/24\n",
            "----------\n",
            "train Loss: 0.5243 Acc: 0.9467\n",
            "val Loss: 0.1280 Acc: 0.9805\n",
            "Epoch 20/24\n",
            "----------\n",
            "train Loss: 0.5511 Acc: 0.9402\n",
            "val Loss: 0.1130 Acc: 0.9792\n",
            "Epoch 21/24\n",
            "----------\n",
            "train Loss: 0.6157 Acc: 0.9392\n",
            "val Loss: 0.1797 Acc: 0.9792\n",
            "Epoch 22/24\n",
            "----------\n",
            "train Loss: 0.5834 Acc: 0.9370\n",
            "val Loss: 0.1293 Acc: 0.9792\n",
            "Epoch 23/24\n",
            "----------\n",
            "train Loss: 0.5421 Acc: 0.9435\n",
            "val Loss: 0.1705 Acc: 0.9805\n",
            "Epoch 24/24\n",
            "----------\n",
            "train Loss: 0.5878 Acc: 0.9431\n",
            "val Loss: 0.0899 Acc: 0.9831\n",
            "Training complete in 60m 49s\n",
            "Best val Acc: 0.984395\n"
          ],
          "name": "stdout"
        }
      ]
    },
    {
      "cell_type": "code",
      "metadata": {
        "id": "FLr7CsvTqbTI",
        "colab_type": "code",
        "colab": {}
      },
      "source": [
        "model5_vgg16.eval()\n",
        "torch.save(model5_vgg16, '/content/gdrive/My Drive/Colab Notebooks/vgg16_model5_with_aug.pt')"
      ],
      "execution_count": null,
      "outputs": []
    }
  ]
}