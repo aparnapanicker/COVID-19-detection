{
  "nbformat": 4,
  "nbformat_minor": 0,
  "metadata": {
    "colab": {
      "name": "RestNet18-WithoutAug.ipynb",
      "provenance": [],
      "collapsed_sections": []
    },
    "kernelspec": {
      "name": "python3",
      "display_name": "Python 3"
    },
    "accelerator": "GPU",
    "widgets": {
      "application/vnd.jupyter.widget-state+json": {
        "7b6a1d14fd2e45168417eaa8c9bb223b": {
          "model_module": "@jupyter-widgets/controls",
          "model_name": "HBoxModel",
          "state": {
            "_view_name": "HBoxView",
            "_dom_classes": [],
            "_model_name": "HBoxModel",
            "_view_module": "@jupyter-widgets/controls",
            "_model_module_version": "1.5.0",
            "_view_count": null,
            "_view_module_version": "1.5.0",
            "box_style": "",
            "layout": "IPY_MODEL_6605aefdba594ebabe4a4349082f2422",
            "_model_module": "@jupyter-widgets/controls",
            "children": [
              "IPY_MODEL_649b9996bccc4b449893a844d7efe6f5",
              "IPY_MODEL_70feb5f1c30b4b36b0ca0317a1428dcd"
            ]
          }
        },
        "6605aefdba594ebabe4a4349082f2422": {
          "model_module": "@jupyter-widgets/base",
          "model_name": "LayoutModel",
          "state": {
            "_view_name": "LayoutView",
            "grid_template_rows": null,
            "right": null,
            "justify_content": null,
            "_view_module": "@jupyter-widgets/base",
            "overflow": null,
            "_model_module_version": "1.2.0",
            "_view_count": null,
            "flex_flow": null,
            "width": null,
            "min_width": null,
            "border": null,
            "align_items": null,
            "bottom": null,
            "_model_module": "@jupyter-widgets/base",
            "top": null,
            "grid_column": null,
            "overflow_y": null,
            "overflow_x": null,
            "grid_auto_flow": null,
            "grid_area": null,
            "grid_template_columns": null,
            "flex": null,
            "_model_name": "LayoutModel",
            "justify_items": null,
            "grid_row": null,
            "max_height": null,
            "align_content": null,
            "visibility": null,
            "align_self": null,
            "height": null,
            "min_height": null,
            "padding": null,
            "grid_auto_rows": null,
            "grid_gap": null,
            "max_width": null,
            "order": null,
            "_view_module_version": "1.2.0",
            "grid_template_areas": null,
            "object_position": null,
            "object_fit": null,
            "grid_auto_columns": null,
            "margin": null,
            "display": null,
            "left": null
          }
        },
        "649b9996bccc4b449893a844d7efe6f5": {
          "model_module": "@jupyter-widgets/controls",
          "model_name": "FloatProgressModel",
          "state": {
            "_view_name": "ProgressView",
            "style": "IPY_MODEL_41bba98d05c14785827cf5b3c6fbd7fb",
            "_dom_classes": [],
            "description": "100%",
            "_model_name": "FloatProgressModel",
            "bar_style": "success",
            "max": 46827520,
            "_view_module": "@jupyter-widgets/controls",
            "_model_module_version": "1.5.0",
            "value": 46827520,
            "_view_count": null,
            "_view_module_version": "1.5.0",
            "orientation": "horizontal",
            "min": 0,
            "description_tooltip": null,
            "_model_module": "@jupyter-widgets/controls",
            "layout": "IPY_MODEL_4d4fd757dcbd45ca9f2526715f3c4d9f"
          }
        },
        "70feb5f1c30b4b36b0ca0317a1428dcd": {
          "model_module": "@jupyter-widgets/controls",
          "model_name": "HTMLModel",
          "state": {
            "_view_name": "HTMLView",
            "style": "IPY_MODEL_b95ee11b7abb4de6972fa2cd02f743ed",
            "_dom_classes": [],
            "description": "",
            "_model_name": "HTMLModel",
            "placeholder": "​",
            "_view_module": "@jupyter-widgets/controls",
            "_model_module_version": "1.5.0",
            "value": " 44.7M/44.7M [00:00&lt;00:00, 66.4MB/s]",
            "_view_count": null,
            "_view_module_version": "1.5.0",
            "description_tooltip": null,
            "_model_module": "@jupyter-widgets/controls",
            "layout": "IPY_MODEL_74ed92b957244712b905b0ee5880a925"
          }
        },
        "41bba98d05c14785827cf5b3c6fbd7fb": {
          "model_module": "@jupyter-widgets/controls",
          "model_name": "ProgressStyleModel",
          "state": {
            "_view_name": "StyleView",
            "_model_name": "ProgressStyleModel",
            "description_width": "initial",
            "_view_module": "@jupyter-widgets/base",
            "_model_module_version": "1.5.0",
            "_view_count": null,
            "_view_module_version": "1.2.0",
            "bar_color": null,
            "_model_module": "@jupyter-widgets/controls"
          }
        },
        "4d4fd757dcbd45ca9f2526715f3c4d9f": {
          "model_module": "@jupyter-widgets/base",
          "model_name": "LayoutModel",
          "state": {
            "_view_name": "LayoutView",
            "grid_template_rows": null,
            "right": null,
            "justify_content": null,
            "_view_module": "@jupyter-widgets/base",
            "overflow": null,
            "_model_module_version": "1.2.0",
            "_view_count": null,
            "flex_flow": null,
            "width": null,
            "min_width": null,
            "border": null,
            "align_items": null,
            "bottom": null,
            "_model_module": "@jupyter-widgets/base",
            "top": null,
            "grid_column": null,
            "overflow_y": null,
            "overflow_x": null,
            "grid_auto_flow": null,
            "grid_area": null,
            "grid_template_columns": null,
            "flex": null,
            "_model_name": "LayoutModel",
            "justify_items": null,
            "grid_row": null,
            "max_height": null,
            "align_content": null,
            "visibility": null,
            "align_self": null,
            "height": null,
            "min_height": null,
            "padding": null,
            "grid_auto_rows": null,
            "grid_gap": null,
            "max_width": null,
            "order": null,
            "_view_module_version": "1.2.0",
            "grid_template_areas": null,
            "object_position": null,
            "object_fit": null,
            "grid_auto_columns": null,
            "margin": null,
            "display": null,
            "left": null
          }
        },
        "b95ee11b7abb4de6972fa2cd02f743ed": {
          "model_module": "@jupyter-widgets/controls",
          "model_name": "DescriptionStyleModel",
          "state": {
            "_view_name": "StyleView",
            "_model_name": "DescriptionStyleModel",
            "description_width": "",
            "_view_module": "@jupyter-widgets/base",
            "_model_module_version": "1.5.0",
            "_view_count": null,
            "_view_module_version": "1.2.0",
            "_model_module": "@jupyter-widgets/controls"
          }
        },
        "74ed92b957244712b905b0ee5880a925": {
          "model_module": "@jupyter-widgets/base",
          "model_name": "LayoutModel",
          "state": {
            "_view_name": "LayoutView",
            "grid_template_rows": null,
            "right": null,
            "justify_content": null,
            "_view_module": "@jupyter-widgets/base",
            "overflow": null,
            "_model_module_version": "1.2.0",
            "_view_count": null,
            "flex_flow": null,
            "width": null,
            "min_width": null,
            "border": null,
            "align_items": null,
            "bottom": null,
            "_model_module": "@jupyter-widgets/base",
            "top": null,
            "grid_column": null,
            "overflow_y": null,
            "overflow_x": null,
            "grid_auto_flow": null,
            "grid_area": null,
            "grid_template_columns": null,
            "flex": null,
            "_model_name": "LayoutModel",
            "justify_items": null,
            "grid_row": null,
            "max_height": null,
            "align_content": null,
            "visibility": null,
            "align_self": null,
            "height": null,
            "min_height": null,
            "padding": null,
            "grid_auto_rows": null,
            "grid_gap": null,
            "max_width": null,
            "order": null,
            "_view_module_version": "1.2.0",
            "grid_template_areas": null,
            "object_position": null,
            "object_fit": null,
            "grid_auto_columns": null,
            "margin": null,
            "display": null,
            "left": null
          }
        }
      }
    }
  },
  "cells": [
    {
      "cell_type": "code",
      "metadata": {
        "id": "ifIkOGWTCOiI",
        "colab_type": "code",
        "colab": {
          "base_uri": "https://localhost:8080/",
          "height": 129
        },
        "outputId": "6f73cbf2-e72d-4777-8acd-f97cdde9743f"
      },
      "source": [
        "from google.colab import drive\n",
        "drive.mount('/content/gdrive', force_remount=True)"
      ],
      "execution_count": null,
      "outputs": [
        {
          "output_type": "stream",
          "text": [
            "Go to this URL in a browser: https://accounts.google.com/o/oauth2/auth?client_id=947318989803-6bn6qk8qdgf4n4g3pfee6491hc0brc4i.apps.googleusercontent.com&redirect_uri=urn%3aietf%3awg%3aoauth%3a2.0%3aoob&response_type=code&scope=email%20https%3a%2f%2fwww.googleapis.com%2fauth%2fdocs.test%20https%3a%2f%2fwww.googleapis.com%2fauth%2fdrive%20https%3a%2f%2fwww.googleapis.com%2fauth%2fdrive.photos.readonly%20https%3a%2f%2fwww.googleapis.com%2fauth%2fpeopleapi.readonly\n",
            "\n",
            "Enter your authorization code:\n",
            "··········\n",
            "Mounted at /content/gdrive\n"
          ],
          "name": "stdout"
        }
      ]
    },
    {
      "cell_type": "code",
      "metadata": {
        "id": "4UnHG2m_CPl9",
        "colab_type": "code",
        "colab": {}
      },
      "source": [
        "import torch\n",
        "import numpy as np\n",
        "import matplotlib.pyplot as plt\n",
        "import torch.nn as nn\n",
        "import torchvision\n",
        "import torchvision.models as models\n",
        "from torchvision import models, transforms, datasets\n",
        "import torch.optim as optim\n",
        "import os, pickle, time, copy, glob\n",
        "from PIL import Image\n",
        "from torch.utils.data.sampler import SubsetRandomSampler\n",
        "from torch.optim import lr_scheduler\n",
        "from sklearn.metrics import classification_report, confusion_matrix\n",
        "import pandas as pd\n",
        "import argparse\n",
        "import json\n",
        "\n"
      ],
      "execution_count": null,
      "outputs": []
    },
    {
      "cell_type": "code",
      "metadata": {
        "id": "BikQfg0UTVwv",
        "colab_type": "code",
        "colab": {}
      },
      "source": [
        "device = torch.device('cuda:0' if torch.cuda.is_available() else 'cpu')"
      ],
      "execution_count": null,
      "outputs": []
    },
    {
      "cell_type": "code",
      "metadata": {
        "id": "7M5rwGHYDtqd",
        "colab_type": "code",
        "colab": {}
      },
      "source": [
        "#Using the transforms module in the torchvision module, we define a set of functions that perform data augmentation on our dataset to obtain more data.#\n",
        "transformers = {'train_transforms' : transforms.Compose([\n",
        "    transforms.Resize((224,224)),\n",
        "    transforms.RandomRotation(20),\n",
        "    transforms.RandomHorizontalFlip(),\n",
        "    transforms.ToTensor(),\n",
        "    transforms.Normalize([0.485, 0.456, 0.406], std=[0.229, 0.224, 0.225])\n",
        "]),\n",
        "'test_transforms' : transforms.Compose([\n",
        "    transforms.Resize((224,224)),\n",
        "    transforms.ToTensor(),\n",
        "    transforms.Normalize([0.485, 0.456, 0.406], std=[0.229, 0.224, 0.225])\n",
        "])}\n",
        "\n",
        "trans = ['train_transforms','test_transforms']\n",
        "path = \"/content/gdrive/My Drive/Colab Notebooks/MainData/\"\n",
        "categories = ['train','test']"
      ],
      "execution_count": null,
      "outputs": []
    },
    {
      "cell_type": "code",
      "metadata": {
        "id": "wNC_1QVxT6rZ",
        "colab_type": "code",
        "colab": {}
      },
      "source": [
        "dset = {x : torchvision.datasets.ImageFolder(path+x, transform=transformers[y]) for x,y in zip(categories, trans)}\n"
      ],
      "execution_count": null,
      "outputs": []
    },
    {
      "cell_type": "code",
      "metadata": {
        "id": "jNAT6b5ma0Gu",
        "colab_type": "code",
        "colab": {
          "base_uri": "https://localhost:8080/",
          "height": 127
        },
        "outputId": "08af9b10-420e-4e1b-ec90-12afa287de72"
      },
      "source": [
        "# creating training indices to be used for validation\n",
        "len_train = len(dset['train'])\n",
        "print('original train dataset size ', len_train) \n",
        "len_test = len(dset['test'])\n",
        "print('original test dataset size ', len_test) \n",
        "#Insted of doing indices = list(range(num_train)), creating list in a different way\n",
        "indices_list = range(len_train)\n",
        "indices = [*indices_list]\n",
        "\n",
        "#Shuffling the list of indices \n",
        "np.random.shuffle(indices)\n",
        "#Splitting the indices based on train and val percentage\n",
        "split = int(np.floor(0.2 * len_train))\n",
        "train_idx, valid_idx = indices[split:], indices[:split]\n",
        "print('Upadted train dataset size:', len(train_idx))\n",
        "print('Created validation dataset size:', len(valid_idx))\n",
        "test_idx = [i for i in range(len(dset['test']))]\n",
        "print('the test imagedataest size', len(dset['test']))\n",
        "\n",
        "#define samplers for obtaining training and validation batches\n",
        "train_sampler = SubsetRandomSampler(train_idx)\n",
        "valid_sampler = SubsetRandomSampler(valid_idx)\n",
        "test_sampler = SubsetRandomSampler(test_idx)\n",
        "\n",
        "dataset_sizes = {}\n",
        "dataset_sizes['train'] = train_sampler.__len__()\n",
        "dataset_sizes['test'] = test_sampler.__len__()\n",
        "dataset_sizes['val'] = valid_sampler.__len__()\n",
        "print(dataset_sizes['val'], dataset_sizes['test'], dataset_sizes['train'])\n"
      ],
      "execution_count": null,
      "outputs": [
        {
          "output_type": "stream",
          "text": [
            "original train dataset size  2031\n",
            "original test dataset size  3040\n",
            "Upadted train dataset size: 1625\n",
            "Created validation dataset size: 406\n",
            "the test imagedataest size 3040\n",
            "406 3040 1625\n"
          ],
          "name": "stdout"
        }
      ]
    },
    {
      "cell_type": "code",
      "metadata": {
        "id": "nvt7UCDVjBAo",
        "colab_type": "code",
        "colab": {}
      },
      "source": [
        "# prepare data loaders (combine dataset and sampler)\n",
        "train_loader = torch.utils.data.DataLoader(dset['train'], batch_size=16,\n",
        "    drop_last= True, sampler=train_sampler, num_workers=0)\n",
        "valid_loader = torch.utils.data.DataLoader(dset['train'], batch_size=16, \n",
        "    drop_last= True, sampler=valid_sampler, num_workers=0)\n",
        "test_loader = torch.utils.data.DataLoader(dset['test'], batch_size=16, \n",
        "    drop_last= True,sampler=test_sampler,num_workers=0)\n"
      ],
      "execution_count": null,
      "outputs": []
    },
    {
      "cell_type": "code",
      "metadata": {
        "id": "AewzrKrkmrVP",
        "colab_type": "code",
        "colab": {}
      },
      "source": [
        "dataloaders = {'train':train_loader,'val':valid_loader,'test':test_loader}\n",
        "#https://github.com/bonn0062/image_classifier_pytorch/blob/master/PyTorch_Image_Classifier.ipynb\n",
        "class_names = dset['train'].classes"
      ],
      "execution_count": null,
      "outputs": []
    },
    {
      "cell_type": "code",
      "metadata": {
        "id": "NWnihLiHmWMI",
        "colab_type": "code",
        "colab": {}
      },
      "source": [
        "# Label mapping\n",
        "#with open('/content/gdrive/My Drive/Colab Notebooks/cat_to_name.json', 'r') as f:\n",
        "    #cat_to_name = json.load(f)"
      ],
      "execution_count": null,
      "outputs": []
    },
    {
      "cell_type": "code",
      "metadata": {
        "id": "50TUleSOlug3",
        "colab_type": "code",
        "colab": {
          "base_uri": "https://localhost:8080/",
          "height": 35
        },
        "outputId": "a67e4ef3-9e6d-4fdd-d347-09abd46eb30e"
      },
      "source": [
        "images, labels = next(iter(dataloaders['test']))\n",
        "rand_idx = np.random.randint(len(images))\n",
        "# print(rand_idx)\n",
        "print(\"label: {}, class: {}\".format(labels[rand_idx].item(),\n",
        "                                               class_names[labels[rand_idx].item()]))"
      ],
      "execution_count": null,
      "outputs": [
        {
          "output_type": "stream",
          "text": [
            "label: 0, class: covid-n\n"
          ],
          "name": "stdout"
        }
      ]
    },
    {
      "cell_type": "code",
      "metadata": {
        "id": "VO6JdVeZohVU",
        "colab_type": "code",
        "colab": {
          "base_uri": "https://localhost:8080/",
          "height": 148
        },
        "outputId": "ad5da662-a23a-4b84-e636-b22f5b212060"
      },
      "source": [
        "def imshow(inp, title=None):\n",
        "    inp = inp.numpy().transpose((1,2,0))\n",
        "    mean = np.array([0.485, 0.456, 0.406])\n",
        "    std = np.array([0.229, 0.224, 0.225])\n",
        "    inp = std*inp + mean\n",
        "    inp = np.clip(inp,0,1)\n",
        "    plt.imshow(inp)\n",
        "    if title is not None:\n",
        "        plt.title(title)\n",
        "    plt.pause(0.001)\n",
        "inputs,classes = next(iter(dataloaders[\"train\"]))\n",
        "out = torchvision.utils.make_grid(inputs)\n",
        "class_names = dset[\"train\"].classes\n",
        "imshow(out, title = [class_names[x] for x in classes])\n"
      ],
      "execution_count": null,
      "outputs": [
        {
          "output_type": "display_data",
          "data": {
            "image/png": "[encoded data removed]",
            "text/plain": [
              "<Figure size 432x288 with 1 Axes>"
            ]
          },
          "metadata": {
            "tags": [],
            "needs_background": "light"
          }
        }
      ]
    },
    {
      "cell_type": "code",
      "metadata": {
        "id": "CcyPhrtfp182",
        "colab_type": "code",
        "colab": {
          "base_uri": "https://localhost:8080/",
          "height": 106,
          "referenced_widgets": [
            "7b6a1d14fd2e45168417eaa8c9bb223b",
            "6605aefdba594ebabe4a4349082f2422",
            "649b9996bccc4b449893a844d7efe6f5",
            "70feb5f1c30b4b36b0ca0317a1428dcd",
            "41bba98d05c14785827cf5b3c6fbd7fb",
            "4d4fd757dcbd45ca9f2526715f3c4d9f",
            "b95ee11b7abb4de6972fa2cd02f743ed",
            "74ed92b957244712b905b0ee5880a925"
          ]
        },
        "outputId": "dcbaf3fd-5b74-46b4-f886-fb0b483d3369"
      },
      "source": [
        "class ModelRestnet(nn.Module):\n",
        "    def __init__(self):\n",
        "        super(ModelRestnet, self).__init__()\n",
        "        #obtain the ResNet model from torchvision.model library\n",
        "        self.model = torchvision.models.resnet18(pretrained=True)\n",
        "        #build our classifier and since we are classifying the images into NORMAL and COVID, we output a two-dimensional tensor.\n",
        "        self.classifier = nn.Sequential(\n",
        "        nn.Linear(self.model.fc.in_features,2),\n",
        "        nn.LogSoftmax(dim=1))\n",
        "        #Requires_grad = False denies the ResNet model the ability to update its parameters hence make it unable to train.\n",
        "        for params in self.model.parameters():\n",
        "            params.requires_grad = False\n",
        "            #We replace the fully connected layers of the base model(ResNet model) which served as the classifier with our custom trainable classifier.\n",
        "        self.model.fc = self.classifier\n",
        "\n",
        "    def forward(self, x):\n",
        "        # x is our input data\n",
        "        return self.model(x)\n",
        "        \n",
        "#we instantiate our model class\n",
        "model = ModelRestnet()"
      ],
      "execution_count": null,
      "outputs": [
        {
          "output_type": "stream",
          "text": [
            "Downloading: \"https://download.pytorch.org/models/resnet18-5c106cde.pth\" to /root/.cache/torch/checkpoints/resnet18-5c106cde.pth\n"
          ],
          "name": "stderr"
        },
        {
          "output_type": "display_data",
          "data": {
            "application/vnd.jupyter.widget-view+json": {
              "model_id": "7b6a1d14fd2e45168417eaa8c9bb223b",
              "version_minor": 0,
              "version_major": 2
            },
            "text/plain": [
              "HBox(children=(FloatProgress(value=0.0, max=46827520.0), HTML(value='')))"
            ]
          },
          "metadata": {
            "tags": []
          }
        },
        {
          "output_type": "stream",
          "text": [
            "\n"
          ],
          "name": "stdout"
        }
      ]
    },
    {
      "cell_type": "code",
      "metadata": {
        "id": "-M2KMPc8ryOt",
        "colab_type": "code",
        "colab": {}
      },
      "source": [
        "train_losses = []\n",
        "val_losses = []\n",
        "train_acc = []\n",
        "val_acc = []\n",
        "def fit(self, dataloaders, num_epochs):\n",
        "\n",
        "        #we check whether a gpu is enabled for our environment.\n",
        "        train_on_gpu = torch.cuda.is_available()\n",
        "        #we define our optimizer and pass in the model parameters(weights and biases) into the constructor of the optimizer we want. More info: https://pytorch.org/docs/stable/optim.html\n",
        "        optimizer = optimizer = optim.Adam(self.model.parameters(), lr=0.01 )\n",
        "        #Essentially what scheduler does is to reduce our learning by a certain factor when less progress is being made in our training.\n",
        "        scheduler = optim.lr_scheduler.StepLR(optimizer, 4)\n",
        "        #criterion is the loss function of our model. we use Negative Log-Likelihood loss because we used  log-softmax as the last layer of our model. We can remove the log-softmax layer and replace the nn.NLLLoss() with nn.CrossEntropyLoss()\n",
        "        criterion = nn.NLLLoss()\n",
        "        since = time.time()\n",
        "        #model.state_dict() is a dictionary of our model's parameters. What we did here is to deepcopy it and assign it to a variable\n",
        "        best_model_wts = copy.deepcopy(self.model.state_dict())\n",
        "        best_acc = 0.0\n",
        "      #we check if a gpu is enabled for our environment and move our model to the gpu\n",
        "        if train_on_gpu:\n",
        "            self.model = self.model.cuda()\n",
        "        for epoch in range(num_epochs):\n",
        "            print('Epoch {}/{}'.format(epoch, num_epochs - 1))\n",
        "            print('-' * 10)\n",
        "            # Each epoch has a training and validation phase. We iterate through the training set and validation set in every epoch.\n",
        "            for phase in ['train', 'val']:\n",
        "                #we apply the scheduler to the learning rate in the training phase since we don't train our model in the validation phase\n",
        "                if phase == 'train':\n",
        "                    scheduler.step()\n",
        "                    self.model.train()  # Set model to training mode\n",
        "                else:\n",
        "                    self.model.eval()   # Set model to evaluate mode to turn off features like dropout.\n",
        "                running_loss = 0.0\n",
        "                running_corrects = 0\n",
        "                # Iterate over batches of train and validation data.\n",
        "                for inputs, labels in dataloaders[phase]:\n",
        "                    if train_on_gpu:\n",
        "                        inputs = inputs.cuda()\n",
        "                        labels = labels.cuda()\n",
        "                    # clear all gradients since gradients get accumulated after every iteration.\n",
        "                    optimizer.zero_grad()\n",
        "                    \n",
        "                    # track history if only in training phase\n",
        "                    with torch.set_grad_enabled(phase == 'train'):\n",
        "                        outputs = self.model(inputs)\n",
        "                        _, preds = torch.max(outputs, 1)\n",
        "                        #calculates the loss between the output of our model and ground-truth labels\n",
        "                        loss = criterion(outputs, labels)\n",
        "\n",
        "                        # perform backpropagation and optimization only if in training phase\n",
        "                        if phase == 'train':\n",
        "                            #backpropagate gradients from the loss node through all the parameters\n",
        "                            loss.backward()\n",
        "                            #Update parameters(Weighs and biases) of our model using the gradients.\n",
        "                            optimizer.step()\n",
        "                    # statistics\n",
        "                    running_loss += loss.item() * inputs.size(0)\n",
        "                    running_corrects += torch.sum(preds == labels.data)\n",
        "                \n",
        "                \n",
        "                epoch_loss = running_loss / dataset_sizes[phase]\n",
        "                epoch_acc = running_corrects.double() / dataset_sizes[phase]\n",
        "                print('{} Loss: {:.4f} Acc: {:.4f}'.format(\n",
        "                    phase, epoch_loss, epoch_acc))\n",
        "#https://colab.research.google.com/github/sanchit2843/MLBasics/blob/master/IntelClassificationKaggle/Pytorch%20transfer%20learning%20tutorial%20%5B93%25acc%5D.ipynb#scrollTo=zkvZWnE_bi4Z\n",
        "                if(phase == 'train'):\n",
        "                  train_losses.append(epoch_loss)   \n",
        "                  train_acc.append(epoch_acc) \n",
        "                if(phase == 'val'):\n",
        "                  val_losses.append(epoch_loss)   \n",
        "                  val_acc.append(epoch_acc) \n",
        "                # deep copy the model if we obtain a better validation accuracy than the previous one.\n",
        "                if phase == 'val' and epoch_acc > best_acc:\n",
        "                    best_acc = epoch_acc\n",
        "                    best_model_wts = copy.deepcopy(self.model.state_dict())\n",
        "        time_elapsed = time.time() - since\n",
        "        print('Training complete in {:.0f}m {:.0f}s'.format(\n",
        "            time_elapsed // 60, time_elapsed % 60))\n",
        "        print('Best val Acc: {:4f}'.format(best_acc))\n",
        "        \n",
        "        # load best model parameters and return it as the final trained model.\n",
        "        self.model.load_state_dict(best_model_wts)\n",
        "        return self.model\n"
      ],
      "execution_count": null,
      "outputs": []
    },
    {
      "cell_type": "code",
      "metadata": {
        "id": "xJL1sr5vJkcj",
        "colab_type": "code",
        "colab": {
          "base_uri": "https://localhost:8080/",
          "height": 478
        },
        "outputId": "04484030-4554-4e23-c5d0-06fd7de29d93"
      },
      "source": [
        "num_epochs = 5\n",
        "model1_restnet = fit(model, dataloaders, num_epochs)"
      ],
      "execution_count": null,
      "outputs": [
        {
          "output_type": "stream",
          "text": [
            "Epoch 0/4\n",
            "----------\n"
          ],
          "name": "stdout"
        },
        {
          "output_type": "stream",
          "text": [
            "/usr/local/lib/python3.6/dist-packages/torch/optim/lr_scheduler.py:123: UserWarning: Detected call of `lr_scheduler.step()` before `optimizer.step()`. In PyTorch 1.1.0 and later, you should call them in the opposite order: `optimizer.step()` before `lr_scheduler.step()`.  Failure to do this will result in PyTorch skipping the first value of the learning rate schedule. See more details at https://pytorch.org/docs/stable/optim.html#how-to-adjust-learning-rate\n",
            "  \"https://pytorch.org/docs/stable/optim.html#how-to-adjust-learning-rate\", UserWarning)\n"
          ],
          "name": "stderr"
        },
        {
          "output_type": "stream",
          "text": [
            "train Loss: 0.1740 Acc: 0.9822\n",
            "val Loss: 0.1085 Acc: 0.9507\n",
            "Epoch 1/4\n",
            "----------\n",
            "train Loss: 0.0355 Acc: 0.9852\n",
            "val Loss: 0.0189 Acc: 0.9803\n",
            "Epoch 2/4\n",
            "----------\n",
            "train Loss: 0.0358 Acc: 0.9828\n",
            "val Loss: 0.0183 Acc: 0.9803\n",
            "Epoch 3/4\n",
            "----------\n",
            "train Loss: 0.0151 Acc: 0.9908\n",
            "val Loss: 0.0156 Acc: 0.9803\n",
            "Epoch 4/4\n",
            "----------\n",
            "train Loss: 0.0129 Acc: 0.9883\n",
            "val Loss: 0.0079 Acc: 0.9852\n",
            "Training complete in 10m 3s\n",
            "Best val Acc: 0.985222\n"
          ],
          "name": "stdout"
        }
      ]
    },
    {
      "cell_type": "code",
      "metadata": {
        "id": "7JCigsUavHLv",
        "colab_type": "code",
        "colab": {}
      },
      "source": [
        "model1_restnet.eval()\n",
        "torch.save(model1_restnet, '/content/gdrive/My Drive/Colab Notebooks/restnet18_model1_without_aug.pt')"
      ],
      "execution_count": null,
      "outputs": []
    },
    {
      "cell_type": "code",
      "metadata": {
        "id": "wcFGPRVND9o2",
        "colab_type": "code",
        "colab": {
          "base_uri": "https://localhost:8080/",
          "height": 845
        },
        "outputId": "b189f8d5-4c2d-425e-be6c-7c996754f0e7"
      },
      "source": [
        "num_epochs = 10\n",
        "model2_restnet = fit(model, dataloaders, num_epochs)"
      ],
      "execution_count": null,
      "outputs": [
        {
          "output_type": "stream",
          "text": [
            "Epoch 0/9\n",
            "----------\n"
          ],
          "name": "stdout"
        },
        {
          "output_type": "stream",
          "text": [
            "/usr/local/lib/python3.6/dist-packages/torch/optim/lr_scheduler.py:123: UserWarning: Detected call of `lr_scheduler.step()` before `optimizer.step()`. In PyTorch 1.1.0 and later, you should call them in the opposite order: `optimizer.step()` before `lr_scheduler.step()`.  Failure to do this will result in PyTorch skipping the first value of the learning rate schedule. See more details at https://pytorch.org/docs/stable/optim.html#how-to-adjust-learning-rate\n",
            "  \"https://pytorch.org/docs/stable/optim.html#how-to-adjust-learning-rate\", UserWarning)\n"
          ],
          "name": "stderr"
        },
        {
          "output_type": "stream",
          "text": [
            "train Loss: 0.0860 Acc: 0.9822\n",
            "val Loss: 0.0142 Acc: 0.9778\n",
            "Epoch 1/9\n",
            "----------\n",
            "train Loss: 0.0683 Acc: 0.9846\n",
            "val Loss: 0.1643 Acc: 0.9655\n",
            "Epoch 2/9\n",
            "----------\n",
            "train Loss: 0.0718 Acc: 0.9840\n",
            "val Loss: 0.0428 Acc: 0.9680\n",
            "Epoch 3/9\n",
            "----------\n",
            "train Loss: 0.0148 Acc: 0.9908\n",
            "val Loss: 0.0134 Acc: 0.9803\n",
            "Epoch 4/9\n",
            "----------\n",
            "train Loss: 0.0059 Acc: 0.9932\n",
            "val Loss: 0.0076 Acc: 0.9828\n",
            "Epoch 5/9\n",
            "----------\n",
            "train Loss: 0.0046 Acc: 0.9932\n",
            "val Loss: 0.0330 Acc: 0.9803\n",
            "Epoch 6/9\n",
            "----------\n",
            "train Loss: 0.0051 Acc: 0.9914\n",
            "val Loss: 0.0488 Acc: 0.9803\n",
            "Epoch 7/9\n",
            "----------\n",
            "train Loss: 0.0094 Acc: 0.9926\n",
            "val Loss: 0.0014 Acc: 0.9852\n",
            "Epoch 8/9\n",
            "----------\n",
            "train Loss: 0.0113 Acc: 0.9908\n",
            "val Loss: 0.0216 Acc: 0.9778\n",
            "Epoch 9/9\n",
            "----------\n",
            "train Loss: 0.0084 Acc: 0.9895\n",
            "val Loss: 0.0086 Acc: 0.9828\n",
            "Training complete in 3m 23s\n",
            "Best val Acc: 0.985222\n"
          ],
          "name": "stdout"
        }
      ]
    },
    {
      "cell_type": "code",
      "metadata": {
        "id": "WiZK1jQ5x4GH",
        "colab_type": "code",
        "colab": {}
      },
      "source": [
        "model2_restnet.eval()\n",
        "torch.save(model2_restnet, '/content/gdrive/My Drive/Colab Notebooks/restnet18_model2_without_aug.pt')"
      ],
      "execution_count": null,
      "outputs": []
    },
    {
      "cell_type": "code",
      "metadata": {
        "id": "eIDmpYS_K0Tu",
        "colab_type": "code",
        "colab": {
          "base_uri": "https://localhost:8080/",
          "height": 1000
        },
        "outputId": "e6db35a7-0fab-4a56-cbe3-159e249b4c12"
      },
      "source": [
        "num_epochs = 15\n",
        "model3_restnet = fit(model, dataloaders, num_epochs)"
      ],
      "execution_count": null,
      "outputs": [
        {
          "output_type": "stream",
          "text": [
            "Epoch 0/14\n",
            "----------\n"
          ],
          "name": "stdout"
        },
        {
          "output_type": "stream",
          "text": [
            "/usr/local/lib/python3.6/dist-packages/torch/optim/lr_scheduler.py:123: UserWarning: Detected call of `lr_scheduler.step()` before `optimizer.step()`. In PyTorch 1.1.0 and later, you should call them in the opposite order: `optimizer.step()` before `lr_scheduler.step()`.  Failure to do this will result in PyTorch skipping the first value of the learning rate schedule. See more details at https://pytorch.org/docs/stable/optim.html#how-to-adjust-learning-rate\n",
            "  \"https://pytorch.org/docs/stable/optim.html#how-to-adjust-learning-rate\", UserWarning)\n"
          ],
          "name": "stderr"
        },
        {
          "output_type": "stream",
          "text": [
            "train Loss: 0.1157 Acc: 0.9815\n",
            "val Loss: 0.0462 Acc: 0.9754\n",
            "Epoch 1/14\n",
            "----------\n",
            "train Loss: 0.0217 Acc: 0.9889\n",
            "val Loss: 0.0330 Acc: 0.9803\n",
            "Epoch 2/14\n",
            "----------\n",
            "train Loss: 0.0274 Acc: 0.9877\n",
            "val Loss: 0.0030 Acc: 0.9852\n",
            "Epoch 3/14\n",
            "----------\n",
            "train Loss: 0.0030 Acc: 0.9932\n",
            "val Loss: 0.0148 Acc: 0.9803\n",
            "Epoch 4/14\n",
            "----------\n",
            "train Loss: 0.0039 Acc: 0.9932\n",
            "val Loss: 0.0167 Acc: 0.9803\n",
            "Epoch 5/14\n",
            "----------\n",
            "train Loss: 0.0031 Acc: 0.9920\n",
            "val Loss: 0.0153 Acc: 0.9729\n",
            "Epoch 6/14\n",
            "----------\n",
            "train Loss: 0.0049 Acc: 0.9920\n",
            "val Loss: 0.0284 Acc: 0.9778\n",
            "Epoch 7/14\n",
            "----------\n",
            "train Loss: 0.0058 Acc: 0.9920\n",
            "val Loss: 0.0210 Acc: 0.9803\n",
            "Epoch 8/14\n",
            "----------\n",
            "train Loss: 0.0019 Acc: 0.9932\n",
            "val Loss: 0.0202 Acc: 0.9803\n",
            "Epoch 9/14\n",
            "----------\n",
            "train Loss: 0.0040 Acc: 0.9932\n",
            "val Loss: 0.0127 Acc: 0.9803\n",
            "Epoch 10/14\n",
            "----------\n",
            "train Loss: 0.0007 Acc: 0.9945\n",
            "val Loss: 0.0031 Acc: 0.9852\n",
            "Epoch 11/14\n",
            "----------\n",
            "train Loss: 0.0023 Acc: 0.9938\n",
            "val Loss: 0.0277 Acc: 0.9803\n",
            "Epoch 12/14\n",
            "----------\n",
            "train Loss: 0.0020 Acc: 0.9932\n",
            "val Loss: 0.0136 Acc: 0.9828\n",
            "Epoch 13/14\n",
            "----------\n",
            "train Loss: 0.0006 Acc: 0.9945\n",
            "val Loss: 0.0130 Acc: 0.9828\n",
            "Epoch 14/14\n",
            "----------\n",
            "train Loss: 0.0025 Acc: 0.9932\n",
            "val Loss: 0.0146 Acc: 0.9803\n",
            "Training complete in 5m 4s\n",
            "Best val Acc: 0.985222\n"
          ],
          "name": "stdout"
        }
      ]
    },
    {
      "cell_type": "code",
      "metadata": {
        "id": "bkM1Ko36yM4m",
        "colab_type": "code",
        "colab": {}
      },
      "source": [
        "model3_restnet.eval()\n",
        "torch.save(model3_restnet, '/content/gdrive/My Drive/Colab Notebooks/restnet18_model3_without_aug.pt')"
      ],
      "execution_count": null,
      "outputs": []
    },
    {
      "cell_type": "code",
      "metadata": {
        "id": "y3yMWPYuu9dq",
        "colab_type": "code",
        "colab": {
          "base_uri": "https://localhost:8080/",
          "height": 1000
        },
        "outputId": "ac1a0779-98bb-42b8-f6a5-35a5884e87a5"
      },
      "source": [
        "num_epochs = 20\n",
        "model4_restnet = fit(model, dataloaders, num_epochs)"
      ],
      "execution_count": null,
      "outputs": [
        {
          "output_type": "stream",
          "text": [
            "Epoch 0/19\n",
            "----------\n"
          ],
          "name": "stdout"
        },
        {
          "output_type": "stream",
          "text": [
            "/usr/local/lib/python3.6/dist-packages/torch/optim/lr_scheduler.py:123: UserWarning: Detected call of `lr_scheduler.step()` before `optimizer.step()`. In PyTorch 1.1.0 and later, you should call them in the opposite order: `optimizer.step()` before `lr_scheduler.step()`.  Failure to do this will result in PyTorch skipping the first value of the learning rate schedule. See more details at https://pytorch.org/docs/stable/optim.html#how-to-adjust-learning-rate\n",
            "  \"https://pytorch.org/docs/stable/optim.html#how-to-adjust-learning-rate\", UserWarning)\n"
          ],
          "name": "stderr"
        },
        {
          "output_type": "stream",
          "text": [
            "train Loss: 0.0122 Acc: 0.9908\n",
            "val Loss: 0.0208 Acc: 0.9778\n",
            "Epoch 1/19\n",
            "----------\n",
            "train Loss: 0.0207 Acc: 0.9908\n",
            "val Loss: 0.0271 Acc: 0.9803\n",
            "Epoch 2/19\n",
            "----------\n",
            "train Loss: 0.0117 Acc: 0.9920\n",
            "val Loss: 0.0237 Acc: 0.9803\n",
            "Epoch 3/19\n",
            "----------\n",
            "train Loss: 0.0082 Acc: 0.9926\n",
            "val Loss: 0.0265 Acc: 0.9803\n",
            "Epoch 4/19\n",
            "----------\n",
            "train Loss: 0.0071 Acc: 0.9908\n",
            "val Loss: 0.0557 Acc: 0.9803\n",
            "Epoch 5/19\n",
            "----------\n",
            "train Loss: 0.0079 Acc: 0.9914\n",
            "val Loss: 0.0330 Acc: 0.9778\n",
            "Epoch 6/19\n",
            "----------\n",
            "train Loss: 0.0008 Acc: 0.9945\n",
            "val Loss: 0.0430 Acc: 0.9803\n",
            "Epoch 7/19\n",
            "----------\n",
            "train Loss: 0.0069 Acc: 0.9926\n",
            "val Loss: 0.0220 Acc: 0.9828\n",
            "Epoch 8/19\n",
            "----------\n",
            "train Loss: 0.0039 Acc: 0.9932\n",
            "val Loss: 0.0093 Acc: 0.9828\n",
            "Epoch 9/19\n",
            "----------\n",
            "train Loss: 0.0066 Acc: 0.9926\n",
            "val Loss: 0.0070 Acc: 0.9828\n",
            "Epoch 10/19\n",
            "----------\n",
            "train Loss: 0.0124 Acc: 0.9908\n",
            "val Loss: 0.0205 Acc: 0.9803\n",
            "Epoch 11/19\n",
            "----------\n",
            "train Loss: 0.0012 Acc: 0.9938\n",
            "val Loss: 0.0323 Acc: 0.9803\n",
            "Epoch 12/19\n",
            "----------\n",
            "train Loss: 0.0039 Acc: 0.9938\n",
            "val Loss: 0.0181 Acc: 0.9803\n",
            "Epoch 13/19\n",
            "----------\n",
            "train Loss: 0.0036 Acc: 0.9932\n",
            "val Loss: 0.0135 Acc: 0.9803\n",
            "Epoch 14/19\n",
            "----------\n",
            "train Loss: 0.0043 Acc: 0.9926\n",
            "val Loss: 0.0269 Acc: 0.9803\n",
            "Epoch 15/19\n",
            "----------\n",
            "train Loss: 0.0078 Acc: 0.9920\n",
            "val Loss: 0.0233 Acc: 0.9803\n",
            "Epoch 16/19\n",
            "----------\n",
            "train Loss: 0.0013 Acc: 0.9938\n",
            "val Loss: 0.0177 Acc: 0.9828\n",
            "Epoch 17/19\n",
            "----------\n",
            "train Loss: 0.0046 Acc: 0.9938\n",
            "val Loss: 0.0201 Acc: 0.9803\n",
            "Epoch 18/19\n",
            "----------\n",
            "train Loss: 0.0049 Acc: 0.9920\n",
            "val Loss: 0.0246 Acc: 0.9803\n",
            "Epoch 19/19\n",
            "----------\n",
            "train Loss: 0.0072 Acc: 0.9932\n",
            "val Loss: 0.0184 Acc: 0.9803\n",
            "Training complete in 6m 45s\n",
            "Best val Acc: 0.982759\n"
          ],
          "name": "stdout"
        }
      ]
    },
    {
      "cell_type": "code",
      "metadata": {
        "id": "L-ILoUtoH1sI",
        "colab_type": "code",
        "colab": {}
      },
      "source": [
        "model4_restnet.eval()\n",
        "torch.save(model4_restnet, '/content/gdrive/My Drive/Colab Notebooks/restnet18_model4_without_aug.pt')"
      ],
      "execution_count": null,
      "outputs": []
    },
    {
      "cell_type": "code",
      "metadata": {
        "id": "Z8o8qtS9MLI6",
        "colab_type": "code",
        "colab": {
          "base_uri": "https://localhost:8080/",
          "height": 1000
        },
        "outputId": "4b5266e1-fee1-4278-ba94-0ea18cb852c9"
      },
      "source": [
        "num_epochs = 25\n",
        "model5_restnet = fit(model, dataloaders, num_epochs)"
      ],
      "execution_count": null,
      "outputs": [
        {
          "output_type": "stream",
          "text": [
            "Epoch 0/24\n",
            "----------\n"
          ],
          "name": "stdout"
        },
        {
          "output_type": "stream",
          "text": [
            "/usr/local/lib/python3.6/dist-packages/torch/optim/lr_scheduler.py:123: UserWarning: Detected call of `lr_scheduler.step()` before `optimizer.step()`. In PyTorch 1.1.0 and later, you should call them in the opposite order: `optimizer.step()` before `lr_scheduler.step()`.  Failure to do this will result in PyTorch skipping the first value of the learning rate schedule. See more details at https://pytorch.org/docs/stable/optim.html#how-to-adjust-learning-rate\n",
            "  \"https://pytorch.org/docs/stable/optim.html#how-to-adjust-learning-rate\", UserWarning)\n"
          ],
          "name": "stderr"
        },
        {
          "output_type": "stream",
          "text": [
            "train Loss: 0.0484 Acc: 0.9871\n",
            "val Loss: 0.0542 Acc: 0.9803\n",
            "Epoch 1/24\n",
            "----------\n",
            "train Loss: 0.0125 Acc: 0.9914\n",
            "val Loss: 0.0766 Acc: 0.9803\n",
            "Epoch 2/24\n",
            "----------\n",
            "train Loss: 0.0222 Acc: 0.9902\n",
            "val Loss: 0.0248 Acc: 0.9803\n",
            "Epoch 3/24\n",
            "----------\n",
            "train Loss: 0.0077 Acc: 0.9920\n",
            "val Loss: 0.0110 Acc: 0.9828\n",
            "Epoch 4/24\n",
            "----------\n",
            "train Loss: 0.0096 Acc: 0.9914\n",
            "val Loss: 0.0398 Acc: 0.9803\n",
            "Epoch 5/24\n",
            "----------\n",
            "train Loss: 0.0074 Acc: 0.9926\n",
            "val Loss: 0.0197 Acc: 0.9828\n",
            "Epoch 6/24\n",
            "----------\n",
            "train Loss: 0.0055 Acc: 0.9938\n",
            "val Loss: 0.0210 Acc: 0.9803\n",
            "Epoch 7/24\n",
            "----------\n",
            "train Loss: 0.0069 Acc: 0.9920\n",
            "val Loss: 0.0304 Acc: 0.9803\n",
            "Epoch 8/24\n",
            "----------\n",
            "train Loss: 0.0051 Acc: 0.9926\n",
            "val Loss: 0.0117 Acc: 0.9803\n",
            "Epoch 9/24\n",
            "----------\n",
            "train Loss: 0.0046 Acc: 0.9926\n",
            "val Loss: 0.0278 Acc: 0.9803\n",
            "Epoch 10/24\n",
            "----------\n",
            "train Loss: 0.0003 Acc: 0.9945\n",
            "val Loss: 0.0424 Acc: 0.9778\n",
            "Epoch 11/24\n",
            "----------\n",
            "train Loss: 0.0052 Acc: 0.9926\n",
            "val Loss: 0.0248 Acc: 0.9778\n",
            "Epoch 12/24\n",
            "----------\n",
            "train Loss: 0.0057 Acc: 0.9932\n",
            "val Loss: 0.0198 Acc: 0.9828\n",
            "Epoch 13/24\n",
            "----------\n",
            "train Loss: 0.0076 Acc: 0.9926\n",
            "val Loss: 0.0378 Acc: 0.9778\n",
            "Epoch 14/24\n",
            "----------\n",
            "train Loss: 0.0017 Acc: 0.9932\n",
            "val Loss: 0.0283 Acc: 0.9803\n",
            "Epoch 15/24\n",
            "----------\n",
            "train Loss: 0.0017 Acc: 0.9945\n",
            "val Loss: 0.0360 Acc: 0.9803\n",
            "Epoch 16/24\n",
            "----------\n",
            "train Loss: 0.0054 Acc: 0.9920\n",
            "val Loss: 0.0022 Acc: 0.9852\n",
            "Epoch 17/24\n",
            "----------\n",
            "train Loss: 0.0005 Acc: 0.9945\n",
            "val Loss: 0.0478 Acc: 0.9778\n",
            "Epoch 18/24\n",
            "----------\n",
            "train Loss: 0.0027 Acc: 0.9932\n",
            "val Loss: 0.0480 Acc: 0.9803\n",
            "Epoch 19/24\n",
            "----------\n",
            "train Loss: 0.0007 Acc: 0.9945\n",
            "val Loss: 0.0354 Acc: 0.9803\n",
            "Epoch 20/24\n",
            "----------\n",
            "train Loss: 0.0027 Acc: 0.9932\n",
            "val Loss: 0.0346 Acc: 0.9828\n",
            "Epoch 21/24\n",
            "----------\n",
            "train Loss: 0.0031 Acc: 0.9920\n",
            "val Loss: 0.0198 Acc: 0.9754\n",
            "Epoch 22/24\n",
            "----------\n",
            "train Loss: 0.0003 Acc: 0.9945\n",
            "val Loss: 0.0229 Acc: 0.9803\n",
            "Epoch 23/24\n",
            "----------\n",
            "train Loss: 0.0015 Acc: 0.9938\n",
            "val Loss: 0.0306 Acc: 0.9803\n",
            "Epoch 24/24\n",
            "----------\n",
            "train Loss: 0.0089 Acc: 0.9920\n",
            "val Loss: 0.0379 Acc: 0.9778\n",
            "Training complete in 8m 26s\n",
            "Best val Acc: 0.985222\n"
          ],
          "name": "stdout"
        }
      ]
    },
    {
      "cell_type": "code",
      "metadata": {
        "id": "RSysCDJuMg7d",
        "colab_type": "code",
        "colab": {}
      },
      "source": [
        "model5_restnet.eval()\n",
        "torch.save(model5_restnet, '/content/gdrive/My Drive/Colab Notebooks/restnet18_model5_without_aug.pt')"
      ],
      "execution_count": null,
      "outputs": []
    },
    {
      "cell_type": "code",
      "metadata": {
        "id": "d8p3IyW_sUnm",
        "colab_type": "code",
        "colab": {}
      },
      "source": [
        ""
      ],
      "execution_count": null,
      "outputs": []
    }
  ]
}