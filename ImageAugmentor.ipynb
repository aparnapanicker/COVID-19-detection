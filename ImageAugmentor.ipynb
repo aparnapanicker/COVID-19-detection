{
  "nbformat": 4,
  "nbformat_minor": 0,
  "metadata": {
    "colab": {
      "name": "ImageGenerator.ipynb",
      "provenance": []
    },
    "kernelspec": {
      "name": "python3",
      "display_name": "Python 3"
    },
    "accelerator": "GPU"
  },
  "cells": [
    {
      "cell_type": "code",
      "metadata": {
        "id": "iI8HCM9acaRJ",
        "colab_type": "code",
        "colab": {}
      },
      "source": [
        "from keras.preprocessing.image import ImageDataGenerator, array_to_img, img_to_array, load_img"
      ],
      "execution_count": null,
      "outputs": []
    },
    {
      "cell_type": "code",
      "metadata": {
        "id": "bBKmMWc0cmzq",
        "colab_type": "code",
        "colab": {
          "base_uri": "https://localhost:8080/",
          "height": 34
        },
        "outputId": "7e2066fc-debc-4d2a-c6af-8cd7f31cb275"
      },
      "source": [
        "from google.colab import drive\n",
        "drive.mount('/content/gdrive', force_remount=True)"
      ],
      "execution_count": null,
      "outputs": [
        {
          "output_type": "stream",
          "text": [
            "Mounted at /content/gdrive\n"
          ],
          "name": "stdout"
        }
      ]
    },
    {
      "cell_type": "code",
      "metadata": {
        "id": "rf35KjCOvCCg",
        "colab_type": "code",
        "colab": {}
      },
      "source": [
        "covid_path = \"/content/gdrive/My Drive/Colab Notebooks/adphist/\""
      ],
      "execution_count": null,
      "outputs": []
    },
    {
      "cell_type": "code",
      "metadata": {
        "id": "z8qCHcRPwl-z",
        "colab_type": "code",
        "colab": {}
      },
      "source": [
        "from skimage import data, exposure, img_as_float, img_as_ubyte, color, util"
      ],
      "execution_count": null,
      "outputs": []
    },
    {
      "cell_type": "code",
      "metadata": {
        "id": "NqKXUUnvuf9l",
        "colab_type": "code",
        "colab": {}
      },
      "source": [
        "def AHE(img):\n",
        "    img = img.astype('uint8')\n",
        "    img_adapteq = exposure.equalize_adapthist(img, clip_limit=0.03)\n",
        "    return img_adapteq"
      ],
      "execution_count": null,
      "outputs": []
    },
    {
      "cell_type": "code",
      "metadata": {
        "id": "GKWWXRLzvTvd",
        "colab_type": "code",
        "colab": {}
      },
      "source": [
        "datagen = ImageDataGenerator(\n",
        "    rotation_range=20,\n",
        "    width_shift_range=0.01,\n",
        "    height_shift_range=0.01,\n",
        "    horizontal_flip=True, \n",
        "    #vertical_flip=True,\n",
        "    fill_mode='nearest')\n",
        "\n",
        "    #preprocessing_function=AHE)"
      ],
      "execution_count": null,
      "outputs": []
    },
    {
      "cell_type": "code",
      "metadata": {
        "id": "Q4B5JBUwxFik",
        "colab_type": "code",
        "colab": {}
      },
      "source": [
        "import glob"
      ],
      "execution_count": null,
      "outputs": []
    },
    {
      "cell_type": "code",
      "metadata": {
        "id": "IaldpsSNxLLI",
        "colab_type": "code",
        "colab": {}
      },
      "source": [
        "covid_aug  = glob.glob(\"%s*\" %covid_path)"
      ],
      "execution_count": null,
      "outputs": []
    },
    {
      "cell_type": "code",
      "metadata": {
        "id": "rgP9n32ywETG",
        "colab_type": "code",
        "colab": {
          "base_uri": "https://localhost:8080/",
          "height": 34
        },
        "outputId": "236192b5-33d7-4e2b-e2eb-e5bc949b6d6e"
      },
      "source": [
        "for i in range(len(covid_aug)):\n",
        "  img = load_img((covid_aug[i]))\n",
        "  x = img_to_array(img)\n",
        "  x = x.reshape((1,) + x.shape)\n",
        "  j = 0\n",
        "  #datagen.fit(x)\n",
        "  #datagen.flow(x, batch_size=1, save_to_dir='/content/gdrive/My Drive/Colab Notebooks/Atest', save_format='jpeg')\n",
        "  for batch in datagen.flow(x, batch_size=1, save_to_dir='/content/gdrive/My Drive/Colab Notebooks/MainDataAug/train/covid', save_format='jpeg'):\n",
        "    j += 1\n",
        "    if j >= 63:\n",
        "      break\n",
        "print(\"Finished augmenting\")    "
      ],
      "execution_count": null,
      "outputs": [
        {
          "output_type": "stream",
          "text": [
            "Finished augmenting\n"
          ],
          "name": "stdout"
        }
      ]
    },
    {
      "cell_type": "code",
      "metadata": {
        "id": "cDEPfUdqwZVs",
        "colab_type": "code",
        "colab": {
          "base_uri": "https://localhost:8080/",
          "height": 34
        },
        "outputId": "970a8855-673d-466d-efbc-1c5047444181"
      },
      "source": [
        "print(j)"
      ],
      "execution_count": null,
      "outputs": [
        {
          "output_type": "stream",
          "text": [
            "63\n"
          ],
          "name": "stdout"
        }
      ]
    },
    {
      "cell_type": "code",
      "metadata": {
        "id": "EXQ4KEFcJtpR",
        "colab_type": "code",
        "colab": {
          "base_uri": "https://localhost:8080/",
          "height": 34
        },
        "outputId": "e33b2707-7994-4bc3-8962-797cb7d506db"
      },
      "source": [
        "import os\n",
        "test_covid = '/content/gdrive/My Drive/Colab Notebooks/MainDataAug/train/covid/'\n",
        "list1 = os.listdir(test_covid) # dir is your directory path\n",
        "number_files = len(list1)\n",
        "print (number_files)"
      ],
      "execution_count": null,
      "outputs": [
        {
          "output_type": "stream",
          "text": [
            "1847\n"
          ],
          "name": "stdout"
        }
      ]
    },
    {
      "cell_type": "code",
      "metadata": {
        "id": "Vy7kpbeT8K7s",
        "colab_type": "code",
        "colab": {}
      },
      "source": [
        ""
      ],
      "execution_count": null,
      "outputs": []
    }
  ]
}