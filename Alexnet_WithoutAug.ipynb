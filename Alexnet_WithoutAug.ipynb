{
  "nbformat": 4,
  "nbformat_minor": 0,
  "metadata": {
    "colab": {
      "name": "Alexnet-WithoutAug.ipynb",
      "provenance": [],
      "collapsed_sections": []
    },
    "kernelspec": {
      "name": "python3",
      "display_name": "Python 3"
    },
    "accelerator": "GPU",
    "widgets": {
      "application/vnd.jupyter.widget-state+json": {
        "2df46970487e4d4db56608e9640a352c": {
          "model_module": "@jupyter-widgets/controls",
          "model_name": "HBoxModel",
          "state": {
            "_view_name": "HBoxView",
            "_dom_classes": [],
            "_model_name": "HBoxModel",
            "_view_module": "@jupyter-widgets/controls",
            "_model_module_version": "1.5.0",
            "_view_count": null,
            "_view_module_version": "1.5.0",
            "box_style": "",
            "layout": "IPY_MODEL_bc3224d2df03444792c63afda3a7efc5",
            "_model_module": "@jupyter-widgets/controls",
            "children": [
              "IPY_MODEL_683cd2f7bbbe4ec58cf800382ef5c6ea",
              "IPY_MODEL_e91c906d0b7a40338c547f4a3b07cb0c"
            ]
          }
        },
        "bc3224d2df03444792c63afda3a7efc5": {
          "model_module": "@jupyter-widgets/base",
          "model_name": "LayoutModel",
          "state": {
            "_view_name": "LayoutView",
            "grid_template_rows": null,
            "right": null,
            "justify_content": null,
            "_view_module": "@jupyter-widgets/base",
            "overflow": null,
            "_model_module_version": "1.2.0",
            "_view_count": null,
            "flex_flow": null,
            "width": null,
            "min_width": null,
            "border": null,
            "align_items": null,
            "bottom": null,
            "_model_module": "@jupyter-widgets/base",
            "top": null,
            "grid_column": null,
            "overflow_y": null,
            "overflow_x": null,
            "grid_auto_flow": null,
            "grid_area": null,
            "grid_template_columns": null,
            "flex": null,
            "_model_name": "LayoutModel",
            "justify_items": null,
            "grid_row": null,
            "max_height": null,
            "align_content": null,
            "visibility": null,
            "align_self": null,
            "height": null,
            "min_height": null,
            "padding": null,
            "grid_auto_rows": null,
            "grid_gap": null,
            "max_width": null,
            "order": null,
            "_view_module_version": "1.2.0",
            "grid_template_areas": null,
            "object_position": null,
            "object_fit": null,
            "grid_auto_columns": null,
            "margin": null,
            "display": null,
            "left": null
          }
        },
        "683cd2f7bbbe4ec58cf800382ef5c6ea": {
          "model_module": "@jupyter-widgets/controls",
          "model_name": "FloatProgressModel",
          "state": {
            "_view_name": "ProgressView",
            "style": "IPY_MODEL_0ad1a50ddc8e48fb881d2097c1f0b689",
            "_dom_classes": [],
            "description": "100%",
            "_model_name": "FloatProgressModel",
            "bar_style": "success",
            "max": 244418560,
            "_view_module": "@jupyter-widgets/controls",
            "_model_module_version": "1.5.0",
            "value": 244418560,
            "_view_count": null,
            "_view_module_version": "1.5.0",
            "orientation": "horizontal",
            "min": 0,
            "description_tooltip": null,
            "_model_module": "@jupyter-widgets/controls",
            "layout": "IPY_MODEL_b71dffd488bc4eecac28fde426ec28e5"
          }
        },
        "e91c906d0b7a40338c547f4a3b07cb0c": {
          "model_module": "@jupyter-widgets/controls",
          "model_name": "HTMLModel",
          "state": {
            "_view_name": "HTMLView",
            "style": "IPY_MODEL_c9b7e4f3cda54eafa590dfc07594e4d4",
            "_dom_classes": [],
            "description": "",
            "_model_name": "HTMLModel",
            "placeholder": "​",
            "_view_module": "@jupyter-widgets/controls",
            "_model_module_version": "1.5.0",
            "value": " 233M/233M [00:01&lt;00:00, 135MB/s]",
            "_view_count": null,
            "_view_module_version": "1.5.0",
            "description_tooltip": null,
            "_model_module": "@jupyter-widgets/controls",
            "layout": "IPY_MODEL_84eaad009c3c470db86a4ab7fa3699af"
          }
        },
        "0ad1a50ddc8e48fb881d2097c1f0b689": {
          "model_module": "@jupyter-widgets/controls",
          "model_name": "ProgressStyleModel",
          "state": {
            "_view_name": "StyleView",
            "_model_name": "ProgressStyleModel",
            "description_width": "initial",
            "_view_module": "@jupyter-widgets/base",
            "_model_module_version": "1.5.0",
            "_view_count": null,
            "_view_module_version": "1.2.0",
            "bar_color": null,
            "_model_module": "@jupyter-widgets/controls"
          }
        },
        "b71dffd488bc4eecac28fde426ec28e5": {
          "model_module": "@jupyter-widgets/base",
          "model_name": "LayoutModel",
          "state": {
            "_view_name": "LayoutView",
            "grid_template_rows": null,
            "right": null,
            "justify_content": null,
            "_view_module": "@jupyter-widgets/base",
            "overflow": null,
            "_model_module_version": "1.2.0",
            "_view_count": null,
            "flex_flow": null,
            "width": null,
            "min_width": null,
            "border": null,
            "align_items": null,
            "bottom": null,
            "_model_module": "@jupyter-widgets/base",
            "top": null,
            "grid_column": null,
            "overflow_y": null,
            "overflow_x": null,
            "grid_auto_flow": null,
            "grid_area": null,
            "grid_template_columns": null,
            "flex": null,
            "_model_name": "LayoutModel",
            "justify_items": null,
            "grid_row": null,
            "max_height": null,
            "align_content": null,
            "visibility": null,
            "align_self": null,
            "height": null,
            "min_height": null,
            "padding": null,
            "grid_auto_rows": null,
            "grid_gap": null,
            "max_width": null,
            "order": null,
            "_view_module_version": "1.2.0",
            "grid_template_areas": null,
            "object_position": null,
            "object_fit": null,
            "grid_auto_columns": null,
            "margin": null,
            "display": null,
            "left": null
          }
        },
        "c9b7e4f3cda54eafa590dfc07594e4d4": {
          "model_module": "@jupyter-widgets/controls",
          "model_name": "DescriptionStyleModel",
          "state": {
            "_view_name": "StyleView",
            "_model_name": "DescriptionStyleModel",
            "description_width": "",
            "_view_module": "@jupyter-widgets/base",
            "_model_module_version": "1.5.0",
            "_view_count": null,
            "_view_module_version": "1.2.0",
            "_model_module": "@jupyter-widgets/controls"
          }
        },
        "84eaad009c3c470db86a4ab7fa3699af": {
          "model_module": "@jupyter-widgets/base",
          "model_name": "LayoutModel",
          "state": {
            "_view_name": "LayoutView",
            "grid_template_rows": null,
            "right": null,
            "justify_content": null,
            "_view_module": "@jupyter-widgets/base",
            "overflow": null,
            "_model_module_version": "1.2.0",
            "_view_count": null,
            "flex_flow": null,
            "width": null,
            "min_width": null,
            "border": null,
            "align_items": null,
            "bottom": null,
            "_model_module": "@jupyter-widgets/base",
            "top": null,
            "grid_column": null,
            "overflow_y": null,
            "overflow_x": null,
            "grid_auto_flow": null,
            "grid_area": null,
            "grid_template_columns": null,
            "flex": null,
            "_model_name": "LayoutModel",
            "justify_items": null,
            "grid_row": null,
            "max_height": null,
            "align_content": null,
            "visibility": null,
            "align_self": null,
            "height": null,
            "min_height": null,
            "padding": null,
            "grid_auto_rows": null,
            "grid_gap": null,
            "max_width": null,
            "order": null,
            "_view_module_version": "1.2.0",
            "grid_template_areas": null,
            "object_position": null,
            "object_fit": null,
            "grid_auto_columns": null,
            "margin": null,
            "display": null,
            "left": null
          }
        }
      }
    }
  },
  "cells": [
    {
      "cell_type": "code",
      "metadata": {
        "id": "ifIkOGWTCOiI",
        "colab_type": "code",
        "colab": {
          "base_uri": "https://localhost:8080/",
          "height": 129
        },
        "outputId": "0fb7c701-16f5-4e02-f836-65d5e77d0290"
      },
      "source": [
        "from google.colab import drive\n",
        "drive.mount('/content/gdrive', force_remount=True)"
      ],
      "execution_count": null,
      "outputs": [
        {
          "output_type": "stream",
          "text": [
            "Go to this URL in a browser: https://accounts.google.com/o/oauth2/auth?client_id=947318989803-6bn6qk8qdgf4n4g3pfee6491hc0brc4i.apps.googleusercontent.com&redirect_uri=urn%3aietf%3awg%3aoauth%3a2.0%3aoob&response_type=code&scope=email%20https%3a%2f%2fwww.googleapis.com%2fauth%2fdocs.test%20https%3a%2f%2fwww.googleapis.com%2fauth%2fdrive%20https%3a%2f%2fwww.googleapis.com%2fauth%2fdrive.photos.readonly%20https%3a%2f%2fwww.googleapis.com%2fauth%2fpeopleapi.readonly\n",
            "\n",
            "Enter your authorization code:\n",
            "··········\n",
            "Mounted at /content/gdrive\n"
          ],
          "name": "stdout"
        }
      ]
    },
    {
      "cell_type": "code",
      "metadata": {
        "id": "4UnHG2m_CPl9",
        "colab_type": "code",
        "colab": {}
      },
      "source": [
        "import torch\n",
        "import numpy as np\n",
        "import matplotlib.pyplot as plt\n",
        "import torch.nn as nn\n",
        "import torchvision\n",
        "import torchvision.models as models\n",
        "from torchvision import models, transforms, datasets\n",
        "import torch.optim as optim\n",
        "import os, pickle, time, copy, glob\n",
        "from PIL import Image\n",
        "from torch.utils.data.sampler import SubsetRandomSampler\n",
        "from torch.optim import lr_scheduler\n",
        "from sklearn.metrics import classification_report, confusion_matrix\n",
        "import pandas as pd\n",
        "import argparse\n",
        "import json\n",
        "\n"
      ],
      "execution_count": null,
      "outputs": []
    },
    {
      "cell_type": "code",
      "metadata": {
        "id": "BikQfg0UTVwv",
        "colab_type": "code",
        "colab": {}
      },
      "source": [
        "device = torch.device('cuda:0' if torch.cuda.is_available() else 'cpu')"
      ],
      "execution_count": null,
      "outputs": []
    },
    {
      "cell_type": "code",
      "metadata": {
        "id": "7M5rwGHYDtqd",
        "colab_type": "code",
        "colab": {}
      },
      "source": [
        "\n",
        "transformers = {'train_transforms' : transforms.Compose([\n",
        "    transforms.Resize((224,224)),\n",
        "    transforms.RandomRotation(20),\n",
        "    transforms.RandomHorizontalFlip(),\n",
        "    transforms.ToTensor(),\n",
        "    transforms.Normalize([0.485, 0.456, 0.406], std=[0.229, 0.224, 0.225])\n",
        "]),\n",
        "'test_transforms' : transforms.Compose([\n",
        "    transforms.Resize((224,224)),\n",
        "    transforms.ToTensor(),\n",
        "    transforms.Normalize([0.485, 0.456, 0.406], std=[0.229, 0.224, 0.225])\n",
        "])}\n",
        "\n",
        "trans = ['train_transforms','test_transforms']\n",
        "path = \"/content/gdrive/My Drive/Colab Notebooks/MainData/\"\n",
        "categories = ['train','test']"
      ],
      "execution_count": null,
      "outputs": []
    },
    {
      "cell_type": "code",
      "metadata": {
        "id": "wNC_1QVxT6rZ",
        "colab_type": "code",
        "colab": {}
      },
      "source": [
        "dset = {x : torchvision.datasets.ImageFolder(path+x, transform=transformers[y]) for x,y in zip(categories, trans)}\n"
      ],
      "execution_count": null,
      "outputs": []
    },
    {
      "cell_type": "code",
      "metadata": {
        "id": "jNAT6b5ma0Gu",
        "colab_type": "code",
        "colab": {
          "base_uri": "https://localhost:8080/",
          "height": 127
        },
        "outputId": "37873da3-1689-49f3-b76d-2c54aabdd16c"
      },
      "source": [
        "# creating training indices to be used for validation\n",
        "len_train = len(dset['train'])\n",
        "print('original train dataset size ', len_train) \n",
        "len_test = len(dset['test'])\n",
        "print('original test dataset size ', len_test) \n",
        "\n",
        "indices_list = range(len_train)\n",
        "indices = [*indices_list]\n",
        "\n",
        "#Shuffling the list of indices \n",
        "np.random.shuffle(indices)\n",
        "#Splitting the indices based on train and val percentage\n",
        "split = int(np.floor(0.2 * len_train))\n",
        "train_idx, valid_idx = indices[split:], indices[:split]\n",
        "print('Upadted train dataset size:', len(train_idx))\n",
        "print('Created validation dataset size:', len(valid_idx))\n",
        "test_idx = [i for i in range(len(dset['test']))]\n",
        "print('the test imagedataest size', len(dset['test']))\n",
        "\n",
        "#define samplers for obtaining training and validation batches\n",
        "train_sampler = SubsetRandomSampler(train_idx)\n",
        "valid_sampler = SubsetRandomSampler(valid_idx)\n",
        "test_sampler = SubsetRandomSampler(test_idx)\n",
        "\n",
        "dataset_sizes = {}\n",
        "dataset_sizes['train'] = train_sampler.__len__()\n",
        "dataset_sizes['test'] = test_sampler.__len__()\n",
        "dataset_sizes['val'] = valid_sampler.__len__()\n",
        "print(dataset_sizes['val'], dataset_sizes['test'], dataset_sizes['train'])\n"
      ],
      "execution_count": null,
      "outputs": [
        {
          "output_type": "stream",
          "text": [
            "original train dataset size  2031\n",
            "original test dataset size  3040\n",
            "Upadted train dataset size: 1625\n",
            "Created validation dataset size: 406\n",
            "the test imagedataest size 3040\n",
            "406 3040 1625\n"
          ],
          "name": "stdout"
        }
      ]
    },
    {
      "cell_type": "code",
      "metadata": {
        "id": "nvt7UCDVjBAo",
        "colab_type": "code",
        "colab": {}
      },
      "source": [
        "# prepare data loaders (combine dataset and sampler)\n",
        "train_loader = torch.utils.data.DataLoader(dset['train'], batch_size=16,\n",
        "    drop_last= True, sampler=train_sampler, num_workers=0)\n",
        "valid_loader = torch.utils.data.DataLoader(dset['train'], batch_size=16, \n",
        "    drop_last= True, sampler=valid_sampler, num_workers=0)\n",
        "test_loader = torch.utils.data.DataLoader(dset['test'], batch_size=16, \n",
        "    drop_last= True,sampler=test_sampler,num_workers=0)\n"
      ],
      "execution_count": null,
      "outputs": []
    },
    {
      "cell_type": "code",
      "metadata": {
        "id": "AewzrKrkmrVP",
        "colab_type": "code",
        "colab": {}
      },
      "source": [
        "dataloaders = {'train':train_loader,'val':valid_loader,'test':test_loader}\n",
        "\n",
        "class_names = dset['train'].classes"
      ],
      "execution_count": null,
      "outputs": []
    },
    {
      "cell_type": "code",
      "metadata": {
        "id": "50TUleSOlug3",
        "colab_type": "code",
        "colab": {
          "base_uri": "https://localhost:8080/",
          "height": 34
        },
        "outputId": "96714fd6-0283-4089-f381-1613b3711d9f"
      },
      "source": [
        "images, labels = next(iter(dataloaders['test']))\n",
        "rand_idx = np.random.randint(len(images))\n",
        "# print(rand_idx)\n",
        "print(\"label: {}, class: {}\".format(labels[rand_idx].item(),\n",
        "                                               class_names[labels[rand_idx].item()]))"
      ],
      "execution_count": null,
      "outputs": [
        {
          "output_type": "stream",
          "text": [
            "label: 0, class: covid-n\n"
          ],
          "name": "stdout"
        }
      ]
    },
    {
      "cell_type": "code",
      "metadata": {
        "id": "VO6JdVeZohVU",
        "colab_type": "code",
        "colab": {
          "base_uri": "https://localhost:8080/",
          "height": 148
        },
        "outputId": "7b779c8d-41b7-4e97-db4f-bfe0baa8b995"
      },
      "source": [
        "def imshow(inp, title=None):\n",
        "    inp = inp.numpy().transpose((1,2,0))\n",
        "    mean = np.array([0.485, 0.456, 0.406])\n",
        "    std = np.array([0.229, 0.224, 0.225])\n",
        "    inp = std*inp + mean\n",
        "    inp = np.clip(inp,0,1)\n",
        "    plt.imshow(inp)\n",
        "    if title is not None:\n",
        "        plt.title(title)\n",
        "    plt.pause(0.001)\n",
        "inputs,classes = next(iter(dataloaders[\"train\"]))\n",
        "out = torchvision.utils.make_grid(inputs)\n",
        "class_names = dset[\"train\"].classes\n",
        "imshow(out, title = [class_names[x] for x in classes])\n"
      ],
      "execution_count": null,
      "outputs": [
        {
          "output_type": "display_data",
          "data": {
            "image/png": "[encoded data removed]",
            "text/plain": [
              "<Figure size 432x288 with 1 Axes>"
            ]
          },
          "metadata": {
            "tags": [],
            "needs_background": "light"
          }
        }
      ]
    },
    {
      "cell_type": "code",
      "metadata": {
        "id": "CcyPhrtfp182",
        "colab_type": "code",
        "colab": {
          "base_uri": "https://localhost:8080/",
          "height": 86,
          "referenced_widgets": [
            "2df46970487e4d4db56608e9640a352c",
            "bc3224d2df03444792c63afda3a7efc5",
            "683cd2f7bbbe4ec58cf800382ef5c6ea",
            "e91c906d0b7a40338c547f4a3b07cb0c",
            "0ad1a50ddc8e48fb881d2097c1f0b689",
            "b71dffd488bc4eecac28fde426ec28e5",
            "c9b7e4f3cda54eafa590dfc07594e4d4",
            "84eaad009c3c470db86a4ab7fa3699af"
          ]
        },
        "outputId": "b7e58bc6-043d-424e-f7ee-cbb87adcf7a7"
      },
      "source": [
        "class ModelAlexnet(nn.Module):\n",
        "    def __init__(self):\n",
        "        super(ModelAlexnet, self).__init__()\n",
        "      \n",
        "        self.model = torchvision.models.alexnet(pretrained=True)\n",
        "        \n",
        "        self.classifier = nn.Sequential(\n",
        "        nn.Linear(4096,2),\n",
        "        nn.LogSoftmax(dim=1))\n",
        "     \n",
        "        for params in self.model.parameters():\n",
        "            params.requires_grad = False\n",
        "            \n",
        "        self.model.classifier[6] = self.classifier\n",
        "\n",
        "    def forward(self, x):\n",
        "        \n",
        "        return self.model(x)\n",
        "\n",
        "\n",
        "model = ModelAlexnet()"
      ],
      "execution_count": null,
      "outputs": [
        {
          "output_type": "stream",
          "text": [
            "Downloading: \"https://download.pytorch.org/models/alexnet-owt-4df8aa71.pth\" to /root/.cache/torch/checkpoints/alexnet-owt-4df8aa71.pth\n"
          ],
          "name": "stderr"
        },
        {
          "output_type": "display_data",
          "data": {
            "application/vnd.jupyter.widget-view+json": {
              "model_id": "2df46970487e4d4db56608e9640a352c",
              "version_minor": 0,
              "version_major": 2
            },
            "text/plain": [
              "HBox(children=(FloatProgress(value=0.0, max=244418560.0), HTML(value='')))"
            ]
          },
          "metadata": {
            "tags": []
          }
        },
        {
          "output_type": "stream",
          "text": [
            "\n"
          ],
          "name": "stdout"
        }
      ]
    },
    {
      "cell_type": "code",
      "metadata": {
        "id": "-M2KMPc8ryOt",
        "colab_type": "code",
        "colab": {}
      },
      "source": [
        "train_losses = []\n",
        "val_losses = []\n",
        "train_acc = []\n",
        "val_acc = []\n",
        "def fit(self, dataloaders, num_epochs):\n",
        "\n",
        "       \n",
        "        train_on_gpu = torch.cuda.is_available()\n",
        "        \n",
        "        optimizer = optim.Adam(self.model.parameters(), lr=0.01 )\n",
        "       \n",
        "        scheduler = optim.lr_scheduler.StepLR(optimizer, 4)\n",
        "       \n",
        "        criterion = nn.NLLLoss()\n",
        "        since = time.time()\n",
        "        \n",
        "        best_model_wts = copy.deepcopy(self.model.state_dict())\n",
        "        best_acc = 0.0\n",
        "     \n",
        "        if train_on_gpu:\n",
        "            self.model = self.model.cuda()\n",
        "        for epoch in range(num_epochs):\n",
        "            print('Epoch {}/{}'.format(epoch, num_epochs - 1))\n",
        "            print('-' * 10)\n",
        "            \n",
        "            for phase in ['train', 'val']:\n",
        "       \n",
        "                if phase == 'train':\n",
        "                    scheduler.step()\n",
        "                    self.model.train()  \n",
        "                else:\n",
        "                    self.model.eval()   \n",
        "                running_loss = 0.0\n",
        "                running_corrects = 0\n",
        "           \n",
        "                for inputs, labels in dataloaders[phase]:\n",
        "                    if train_on_gpu:\n",
        "                        inputs = inputs.cuda()\n",
        "                        labels = labels.cuda()\n",
        "                    \n",
        "                    optimizer.zero_grad()\n",
        "                    \n",
        "                \n",
        "                    with torch.set_grad_enabled(phase == 'train'):\n",
        "                        outputs = self.model(inputs)\n",
        "                        _, preds = torch.max(outputs, 1)\n",
        "                      \n",
        "                        loss = criterion(outputs, labels)\n",
        "\n",
        "                       \n",
        "                        if phase == 'train':\n",
        "                            \n",
        "                            loss.backward()\n",
        "                          \n",
        "                            optimizer.step()\n",
        "       \n",
        "                    running_loss += loss.item() * inputs.size(0)\n",
        "                    running_corrects += torch.sum(preds == labels.data)\n",
        "                \n",
        "                \n",
        "                epoch_loss = running_loss / dataset_sizes[phase]\n",
        "                epoch_acc = running_corrects.double() / dataset_sizes[phase]\n",
        "                print('{} Loss: {:.4f} Acc: {:.4f}'.format(\n",
        "                    phase, epoch_loss, epoch_acc))\n",
        "\n",
        "                if(phase == 'train'):\n",
        "                  train_losses.append(epoch_loss)   \n",
        "                  train_acc.append(epoch_acc) \n",
        "                if(phase == 'val'):\n",
        "                  val_losses.append(epoch_loss)   \n",
        "                  val_acc.append(epoch_acc) \n",
        "\n",
        "                if phase == 'val' and epoch_acc > best_acc:\n",
        "                    best_acc = epoch_acc\n",
        "                    best_model_wts = copy.deepcopy(self.model.state_dict())\n",
        "        time_elapsed = time.time() - since\n",
        "        print('Training complete in {:.0f}m {:.0f}s'.format(\n",
        "            time_elapsed // 60, time_elapsed % 60))\n",
        "        print('Best val Acc: {:4f}'.format(best_acc))\n",
        "        \n",
        " \n",
        "        self.model.load_state_dict(best_model_wts)\n",
        "        return self.model\n"
      ],
      "execution_count": null,
      "outputs": []
    },
    {
      "cell_type": "code",
      "metadata": {
        "id": "xJL1sr5vJkcj",
        "colab_type": "code",
        "colab": {
          "base_uri": "https://localhost:8080/",
          "height": 478
        },
        "outputId": "9bc4d9a0-baea-46bd-b4eb-632a37dbff32"
      },
      "source": [
        "num_epochs = 5\n",
        "model1_alexnet = fit(model, dataloaders, num_epochs)"
      ],
      "execution_count": null,
      "outputs": [
        {
          "output_type": "stream",
          "text": [
            "Epoch 0/4\n",
            "----------\n"
          ],
          "name": "stdout"
        },
        {
          "output_type": "stream",
          "text": [
            "/usr/local/lib/python3.6/dist-packages/torch/optim/lr_scheduler.py:123: UserWarning: Detected call of `lr_scheduler.step()` before `optimizer.step()`. In PyTorch 1.1.0 and later, you should call them in the opposite order: `optimizer.step()` before `lr_scheduler.step()`.  Failure to do this will result in PyTorch skipping the first value of the learning rate schedule. See more details at https://pytorch.org/docs/stable/optim.html#how-to-adjust-learning-rate\n",
            "  \"https://pytorch.org/docs/stable/optim.html#how-to-adjust-learning-rate\", UserWarning)\n"
          ],
          "name": "stderr"
        },
        {
          "output_type": "stream",
          "text": [
            "train Loss: 0.4176 Acc: 0.9791\n",
            "val Loss: 0.1428 Acc: 0.9631\n",
            "Epoch 1/4\n",
            "----------\n",
            "train Loss: 0.1475 Acc: 0.9840\n",
            "val Loss: 0.0458 Acc: 0.9828\n",
            "Epoch 2/4\n",
            "----------\n",
            "train Loss: 0.0924 Acc: 0.9877\n",
            "val Loss: 0.0255 Acc: 0.9778\n",
            "Epoch 3/4\n",
            "----------\n",
            "train Loss: 0.1137 Acc: 0.9858\n",
            "val Loss: 0.0823 Acc: 0.9828\n",
            "Epoch 4/4\n",
            "----------\n",
            "train Loss: 0.0608 Acc: 0.9895\n",
            "val Loss: 0.0769 Acc: 0.9828\n",
            "Training complete in 24m 18s\n",
            "Best val Acc: 0.982759\n"
          ],
          "name": "stdout"
        }
      ]
    },
    {
      "cell_type": "code",
      "metadata": {
        "id": "7JCigsUavHLv",
        "colab_type": "code",
        "colab": {}
      },
      "source": [
        "model1_alexnet.eval()\n",
        "torch.save(model1_alexnet, '/content/gdrive/My Drive/Colab Notebooks/alexnet_model1_without_aug.pt')"
      ],
      "execution_count": null,
      "outputs": []
    },
    {
      "cell_type": "code",
      "metadata": {
        "id": "wcFGPRVND9o2",
        "colab_type": "code",
        "colab": {
          "base_uri": "https://localhost:8080/",
          "height": 845
        },
        "outputId": "34061654-a76a-4769-8bec-d71cf32efe83"
      },
      "source": [
        "num_epochs = 10\n",
        "model2_alexnet = fit(model, dataloaders, num_epochs)"
      ],
      "execution_count": null,
      "outputs": [
        {
          "output_type": "stream",
          "text": [
            "Epoch 0/9\n",
            "----------\n"
          ],
          "name": "stdout"
        },
        {
          "output_type": "stream",
          "text": [
            "/usr/local/lib/python3.6/dist-packages/torch/optim/lr_scheduler.py:123: UserWarning: Detected call of `lr_scheduler.step()` before `optimizer.step()`. In PyTorch 1.1.0 and later, you should call them in the opposite order: `optimizer.step()` before `lr_scheduler.step()`.  Failure to do this will result in PyTorch skipping the first value of the learning rate schedule. See more details at https://pytorch.org/docs/stable/optim.html#how-to-adjust-learning-rate\n",
            "  \"https://pytorch.org/docs/stable/optim.html#how-to-adjust-learning-rate\", UserWarning)\n"
          ],
          "name": "stderr"
        },
        {
          "output_type": "stream",
          "text": [
            "train Loss: 0.1558 Acc: 0.9815\n",
            "val Loss: 0.0504 Acc: 0.9754\n",
            "Epoch 1/9\n",
            "----------\n",
            "train Loss: 0.2169 Acc: 0.9846\n",
            "val Loss: 0.0265 Acc: 0.9803\n",
            "Epoch 2/9\n",
            "----------\n",
            "train Loss: 0.2174 Acc: 0.9840\n",
            "val Loss: 0.0819 Acc: 0.9803\n",
            "Epoch 3/9\n",
            "----------\n",
            "train Loss: 0.0797 Acc: 0.9877\n",
            "val Loss: 0.1624 Acc: 0.9778\n",
            "Epoch 4/9\n",
            "----------\n",
            "train Loss: 0.0680 Acc: 0.9883\n",
            "val Loss: 0.1425 Acc: 0.9828\n",
            "Epoch 5/9\n",
            "----------\n",
            "train Loss: 0.1138 Acc: 0.9877\n",
            "val Loss: 0.0087 Acc: 0.9828\n",
            "Epoch 6/9\n",
            "----------\n",
            "train Loss: 0.0888 Acc: 0.9889\n",
            "val Loss: 0.1028 Acc: 0.9803\n",
            "Epoch 7/9\n",
            "----------\n",
            "train Loss: 0.0607 Acc: 0.9889\n",
            "val Loss: 0.0342 Acc: 0.9828\n",
            "Epoch 8/9\n",
            "----------\n",
            "train Loss: 0.0574 Acc: 0.9895\n",
            "val Loss: 0.0424 Acc: 0.9778\n",
            "Epoch 9/9\n",
            "----------\n",
            "train Loss: 0.0883 Acc: 0.9895\n",
            "val Loss: 0.0017 Acc: 0.9852\n",
            "Training complete in 2m 45s\n",
            "Best val Acc: 0.985222\n"
          ],
          "name": "stdout"
        }
      ]
    },
    {
      "cell_type": "code",
      "metadata": {
        "id": "WiZK1jQ5x4GH",
        "colab_type": "code",
        "colab": {}
      },
      "source": [
        "model2_alexnet.eval()\n",
        "torch.save(model2_alexnet, '/content/gdrive/My Drive/Colab Notebooks/alexnet_model2_without_aug.pt')"
      ],
      "execution_count": null,
      "outputs": []
    },
    {
      "cell_type": "code",
      "metadata": {
        "id": "eIDmpYS_K0Tu",
        "colab_type": "code",
        "colab": {
          "base_uri": "https://localhost:8080/",
          "height": 1000
        },
        "outputId": "8a4d23c7-ace1-4f45-e86c-eec77e843824"
      },
      "source": [
        "num_epochs = 15\n",
        "model3_alexnet = fit(model, dataloaders, num_epochs)"
      ],
      "execution_count": null,
      "outputs": [
        {
          "output_type": "stream",
          "text": [
            "Epoch 0/14\n",
            "----------\n"
          ],
          "name": "stdout"
        },
        {
          "output_type": "stream",
          "text": [
            "/usr/local/lib/python3.6/dist-packages/torch/optim/lr_scheduler.py:123: UserWarning: Detected call of `lr_scheduler.step()` before `optimizer.step()`. In PyTorch 1.1.0 and later, you should call them in the opposite order: `optimizer.step()` before `lr_scheduler.step()`.  Failure to do this will result in PyTorch skipping the first value of the learning rate schedule. See more details at https://pytorch.org/docs/stable/optim.html#how-to-adjust-learning-rate\n",
            "  \"https://pytorch.org/docs/stable/optim.html#how-to-adjust-learning-rate\", UserWarning)\n"
          ],
          "name": "stderr"
        },
        {
          "output_type": "stream",
          "text": [
            "train Loss: 0.1772 Acc: 0.9877\n",
            "val Loss: 0.0006 Acc: 0.9852\n",
            "Epoch 1/14\n",
            "----------\n",
            "train Loss: 0.1659 Acc: 0.9852\n",
            "val Loss: 0.2395 Acc: 0.9778\n",
            "Epoch 2/14\n",
            "----------\n",
            "train Loss: 0.1977 Acc: 0.9889\n",
            "val Loss: 0.1499 Acc: 0.9778\n",
            "Epoch 3/14\n",
            "----------\n",
            "train Loss: 0.0945 Acc: 0.9883\n",
            "val Loss: 0.1502 Acc: 0.9828\n",
            "Epoch 4/14\n",
            "----------\n",
            "train Loss: 0.0300 Acc: 0.9914\n",
            "val Loss: 0.1379 Acc: 0.9803\n",
            "Epoch 5/14\n",
            "----------\n",
            "train Loss: 0.1078 Acc: 0.9883\n",
            "val Loss: 0.1005 Acc: 0.9828\n",
            "Epoch 6/14\n",
            "----------\n",
            "train Loss: 0.1107 Acc: 0.9877\n",
            "val Loss: 0.1439 Acc: 0.9828\n",
            "Epoch 7/14\n",
            "----------\n",
            "train Loss: 0.0757 Acc: 0.9895\n",
            "val Loss: 0.0860 Acc: 0.9828\n",
            "Epoch 8/14\n",
            "----------\n",
            "train Loss: 0.0731 Acc: 0.9895\n",
            "val Loss: 0.1159 Acc: 0.9828\n",
            "Epoch 9/14\n",
            "----------\n",
            "train Loss: 0.0631 Acc: 0.9914\n",
            "val Loss: 0.0014 Acc: 0.9852\n",
            "Epoch 10/14\n",
            "----------\n",
            "train Loss: 0.0698 Acc: 0.9895\n",
            "val Loss: 0.0810 Acc: 0.9828\n",
            "Epoch 11/14\n",
            "----------\n",
            "train Loss: 0.0832 Acc: 0.9920\n",
            "val Loss: 0.1224 Acc: 0.9828\n",
            "Epoch 12/14\n",
            "----------\n",
            "train Loss: 0.0467 Acc: 0.9895\n",
            "val Loss: 0.0873 Acc: 0.9828\n",
            "Epoch 13/14\n",
            "----------\n",
            "train Loss: 0.0614 Acc: 0.9920\n",
            "val Loss: 0.1494 Acc: 0.9828\n",
            "Epoch 14/14\n",
            "----------\n",
            "train Loss: 0.0582 Acc: 0.9902\n",
            "val Loss: 0.1124 Acc: 0.9828\n",
            "Training complete in 4m 8s\n",
            "Best val Acc: 0.985222\n"
          ],
          "name": "stdout"
        }
      ]
    },
    {
      "cell_type": "code",
      "metadata": {
        "id": "bkM1Ko36yM4m",
        "colab_type": "code",
        "colab": {}
      },
      "source": [
        "model3_alexnet.eval()\n",
        "torch.save(model3_alexnet, '/content/gdrive/My Drive/Colab Notebooks/alexnet_model3_without_aug.pt')"
      ],
      "execution_count": null,
      "outputs": []
    },
    {
      "cell_type": "code",
      "metadata": {
        "id": "y3yMWPYuu9dq",
        "colab_type": "code",
        "colab": {
          "base_uri": "https://localhost:8080/",
          "height": 1000
        },
        "outputId": "b40ff267-a0db-43c4-d15e-2d106e26b29d"
      },
      "source": [
        "num_epochs = 20\n",
        "model4_alexnet = fit(model, dataloaders, num_epochs)"
      ],
      "execution_count": null,
      "outputs": [
        {
          "output_type": "stream",
          "text": [
            "Epoch 0/19\n",
            "----------\n"
          ],
          "name": "stdout"
        },
        {
          "output_type": "stream",
          "text": [
            "/usr/local/lib/python3.6/dist-packages/torch/optim/lr_scheduler.py:123: UserWarning: Detected call of `lr_scheduler.step()` before `optimizer.step()`. In PyTorch 1.1.0 and later, you should call them in the opposite order: `optimizer.step()` before `lr_scheduler.step()`.  Failure to do this will result in PyTorch skipping the first value of the learning rate schedule. See more details at https://pytorch.org/docs/stable/optim.html#how-to-adjust-learning-rate\n",
            "  \"https://pytorch.org/docs/stable/optim.html#how-to-adjust-learning-rate\", UserWarning)\n"
          ],
          "name": "stderr"
        },
        {
          "output_type": "stream",
          "text": [
            "train Loss: 0.1430 Acc: 0.9871\n",
            "val Loss: 0.2509 Acc: 0.9778\n",
            "Epoch 1/19\n",
            "----------\n",
            "train Loss: 0.0895 Acc: 0.9902\n",
            "val Loss: 0.0649 Acc: 0.9828\n",
            "Epoch 2/19\n",
            "----------\n",
            "train Loss: 0.2274 Acc: 0.9852\n",
            "val Loss: 0.3030 Acc: 0.9680\n",
            "Epoch 3/19\n",
            "----------\n",
            "train Loss: 0.3332 Acc: 0.9809\n",
            "val Loss: 0.2275 Acc: 0.9803\n",
            "Epoch 4/19\n",
            "----------\n",
            "train Loss: 0.0785 Acc: 0.9902\n",
            "val Loss: 0.1212 Acc: 0.9828\n",
            "Epoch 5/19\n",
            "----------\n",
            "train Loss: 0.0731 Acc: 0.9902\n",
            "val Loss: 0.1438 Acc: 0.9828\n",
            "Epoch 6/19\n",
            "----------\n",
            "train Loss: 0.0279 Acc: 0.9920\n",
            "val Loss: 0.1151 Acc: 0.9803\n",
            "Epoch 7/19\n",
            "----------\n",
            "train Loss: 0.0248 Acc: 0.9920\n",
            "val Loss: 0.1249 Acc: 0.9803\n",
            "Epoch 8/19\n",
            "----------\n",
            "train Loss: 0.1520 Acc: 0.9908\n",
            "val Loss: 0.0631 Acc: 0.9803\n",
            "Epoch 9/19\n",
            "----------\n",
            "train Loss: 0.0285 Acc: 0.9926\n",
            "val Loss: 0.1524 Acc: 0.9828\n",
            "Epoch 10/19\n",
            "----------\n",
            "train Loss: 0.0930 Acc: 0.9889\n",
            "val Loss: 0.1304 Acc: 0.9828\n",
            "Epoch 11/19\n",
            "----------\n",
            "train Loss: 0.1164 Acc: 0.9902\n",
            "val Loss: 0.1309 Acc: 0.9803\n",
            "Epoch 12/19\n",
            "----------\n",
            "train Loss: 0.0897 Acc: 0.9889\n",
            "val Loss: 0.0647 Acc: 0.9828\n",
            "Epoch 13/19\n",
            "----------\n",
            "train Loss: 0.1285 Acc: 0.9902\n",
            "val Loss: 0.1395 Acc: 0.9828\n",
            "Epoch 14/19\n",
            "----------\n",
            "train Loss: 0.0497 Acc: 0.9889\n",
            "val Loss: 0.0818 Acc: 0.9803\n",
            "Epoch 15/19\n",
            "----------\n",
            "train Loss: 0.1349 Acc: 0.9889\n",
            "val Loss: 0.0915 Acc: 0.9828\n",
            "Epoch 16/19\n",
            "----------\n",
            "train Loss: 0.0936 Acc: 0.9883\n",
            "val Loss: 0.1545 Acc: 0.9828\n",
            "Epoch 17/19\n",
            "----------\n",
            "train Loss: 0.0466 Acc: 0.9902\n",
            "val Loss: 0.1364 Acc: 0.9828\n",
            "Epoch 18/19\n",
            "----------\n",
            "train Loss: 0.0328 Acc: 0.9926\n",
            "val Loss: 0.1522 Acc: 0.9828\n",
            "Epoch 19/19\n",
            "----------\n",
            "train Loss: 0.1138 Acc: 0.9902\n",
            "val Loss: 0.1338 Acc: 0.9803\n",
            "Training complete in 5m 28s\n",
            "Best val Acc: 0.982759\n"
          ],
          "name": "stdout"
        }
      ]
    },
    {
      "cell_type": "code",
      "metadata": {
        "id": "L-ILoUtoH1sI",
        "colab_type": "code",
        "colab": {}
      },
      "source": [
        "model4_alexnet.eval()\n",
        "torch.save(model4_alexnet, '/content/gdrive/My Drive/Colab Notebooks/alexnet_model4_without_aug.pt')"
      ],
      "execution_count": null,
      "outputs": []
    },
    {
      "cell_type": "code",
      "metadata": {
        "id": "Z8o8qtS9MLI6",
        "colab_type": "code",
        "colab": {
          "base_uri": "https://localhost:8080/",
          "height": 1000
        },
        "outputId": "6d7402cb-789b-4fba-d5cb-e1505127b9d2"
      },
      "source": [
        "num_epochs = 25\n",
        "model5_alexnet = fit(model, dataloaders, num_epochs)"
      ],
      "execution_count": null,
      "outputs": [
        {
          "output_type": "stream",
          "text": [
            "Epoch 0/24\n",
            "----------\n"
          ],
          "name": "stdout"
        },
        {
          "output_type": "stream",
          "text": [
            "/usr/local/lib/python3.6/dist-packages/torch/optim/lr_scheduler.py:123: UserWarning: Detected call of `lr_scheduler.step()` before `optimizer.step()`. In PyTorch 1.1.0 and later, you should call them in the opposite order: `optimizer.step()` before `lr_scheduler.step()`.  Failure to do this will result in PyTorch skipping the first value of the learning rate schedule. See more details at https://pytorch.org/docs/stable/optim.html#how-to-adjust-learning-rate\n",
            "  \"https://pytorch.org/docs/stable/optim.html#how-to-adjust-learning-rate\", UserWarning)\n"
          ],
          "name": "stderr"
        },
        {
          "output_type": "stream",
          "text": [
            "train Loss: 0.1039 Acc: 0.9895\n",
            "val Loss: 0.1541 Acc: 0.9803\n",
            "Epoch 1/24\n",
            "----------\n",
            "train Loss: 0.0926 Acc: 0.9914\n",
            "val Loss: 0.2719 Acc: 0.9778\n",
            "Epoch 2/24\n",
            "----------\n",
            "train Loss: 0.3041 Acc: 0.9858\n",
            "val Loss: 0.1471 Acc: 0.9828\n",
            "Epoch 3/24\n",
            "----------\n",
            "train Loss: 0.1893 Acc: 0.9914\n",
            "val Loss: 0.1664 Acc: 0.9803\n",
            "Epoch 4/24\n",
            "----------\n",
            "train Loss: 0.0720 Acc: 0.9889\n",
            "val Loss: 0.0744 Acc: 0.9803\n",
            "Epoch 5/24\n",
            "----------\n",
            "train Loss: 0.0916 Acc: 0.9895\n",
            "val Loss: 0.0541 Acc: 0.9828\n",
            "Epoch 6/24\n",
            "----------\n",
            "train Loss: 0.1333 Acc: 0.9883\n",
            "val Loss: 0.0252 Acc: 0.9828\n",
            "Epoch 7/24\n",
            "----------\n",
            "train Loss: 0.1241 Acc: 0.9902\n",
            "val Loss: 0.0793 Acc: 0.9803\n",
            "Epoch 8/24\n",
            "----------\n",
            "train Loss: 0.1358 Acc: 0.9889\n",
            "val Loss: 0.1107 Acc: 0.9828\n",
            "Epoch 9/24\n",
            "----------\n",
            "train Loss: 0.1484 Acc: 0.9883\n",
            "val Loss: 0.0000 Acc: 0.9852\n",
            "Epoch 10/24\n",
            "----------\n",
            "train Loss: 0.1106 Acc: 0.9877\n",
            "val Loss: 0.1255 Acc: 0.9828\n",
            "Epoch 11/24\n",
            "----------\n",
            "train Loss: 0.0275 Acc: 0.9920\n",
            "val Loss: 0.0405 Acc: 0.9828\n",
            "Epoch 12/24\n",
            "----------\n",
            "train Loss: 0.1202 Acc: 0.9908\n",
            "val Loss: 0.1833 Acc: 0.9778\n",
            "Epoch 13/24\n",
            "----------\n",
            "train Loss: 0.0878 Acc: 0.9889\n",
            "val Loss: 0.0253 Acc: 0.9828\n",
            "Epoch 14/24\n",
            "----------\n",
            "train Loss: 0.0909 Acc: 0.9889\n",
            "val Loss: 0.0745 Acc: 0.9828\n",
            "Epoch 15/24\n",
            "----------\n",
            "train Loss: 0.0418 Acc: 0.9908\n",
            "val Loss: 0.0601 Acc: 0.9803\n",
            "Epoch 16/24\n",
            "----------\n",
            "train Loss: 0.1084 Acc: 0.9895\n",
            "val Loss: 0.1299 Acc: 0.9778\n",
            "Epoch 17/24\n",
            "----------\n",
            "train Loss: 0.2203 Acc: 0.9871\n",
            "val Loss: 0.0554 Acc: 0.9828\n",
            "Epoch 18/24\n",
            "----------\n",
            "train Loss: 0.1104 Acc: 0.9858\n",
            "val Loss: 0.0000 Acc: 0.9852\n",
            "Epoch 19/24\n",
            "----------\n",
            "train Loss: 0.0897 Acc: 0.9902\n",
            "val Loss: 0.0000 Acc: 0.9852\n",
            "Epoch 20/24\n",
            "----------\n",
            "train Loss: 0.1494 Acc: 0.9895\n",
            "val Loss: 0.0037 Acc: 0.9828\n",
            "Epoch 21/24\n",
            "----------\n",
            "train Loss: 0.0827 Acc: 0.9902\n",
            "val Loss: 0.1453 Acc: 0.9803\n",
            "Epoch 22/24\n",
            "----------\n",
            "train Loss: 0.1201 Acc: 0.9908\n",
            "val Loss: 0.0910 Acc: 0.9828\n",
            "Epoch 23/24\n",
            "----------\n",
            "train Loss: 0.1585 Acc: 0.9902\n",
            "val Loss: 0.0000 Acc: 0.9852\n",
            "Epoch 24/24\n",
            "----------\n",
            "train Loss: 0.0747 Acc: 0.9914\n",
            "val Loss: 0.2244 Acc: 0.9803\n",
            "Training complete in 6m 50s\n",
            "Best val Acc: 0.985222\n"
          ],
          "name": "stdout"
        }
      ]
    },
    {
      "cell_type": "code",
      "metadata": {
        "id": "RSysCDJuMg7d",
        "colab_type": "code",
        "colab": {}
      },
      "source": [
        "model5_alexnet.eval()\n",
        "torch.save(model5_alexnet, '/content/gdrive/My Drive/Colab Notebooks/alexnet_model5_without_aug.pt')"
      ],
      "execution_count": null,
      "outputs": []
    }
  ]
}