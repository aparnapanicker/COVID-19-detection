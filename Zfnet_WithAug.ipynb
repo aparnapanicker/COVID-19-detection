{
  "nbformat": 4,
  "nbformat_minor": 0,
  "metadata": {
    "colab": {
      "name": "Zfnet_WithAug.ipynb",
      "provenance": [],
      "collapsed_sections": []
    },
    "kernelspec": {
      "name": "python3",
      "display_name": "Python 3"
    },
    "accelerator": "GPU"
  },
  "cells": [
    {
      "cell_type": "code",
      "metadata": {
        "id": "ifIkOGWTCOiI",
        "colab_type": "code",
        "colab": {
          "base_uri": "https://localhost:8080/",
          "height": 35
        },
        "outputId": "c33f8aad-d86c-4947-ecf8-fc4833ddf46c"
      },
      "source": [
        "from google.colab import drive\n",
        "drive.mount('/content/gdrive', force_remount=True)"
      ],
      "execution_count": null,
      "outputs": [
        {
          "output_type": "stream",
          "text": [
            "Mounted at /content/gdrive\n"
          ],
          "name": "stdout"
        }
      ]
    },
    {
      "cell_type": "code",
      "metadata": {
        "id": "fqX6OzbiIzCi",
        "colab_type": "code",
        "colab": {
          "base_uri": "https://localhost:8080/",
          "height": 166
        },
        "outputId": "f4233638-b251-4fbb-b4bb-669cfb8e1569"
      },
      "source": [
        "!pip install pytorchcv"
      ],
      "execution_count": null,
      "outputs": [
        {
          "output_type": "stream",
          "text": [
            "Requirement already satisfied: pytorchcv in /usr/local/lib/python3.6/dist-packages (0.0.58)\n",
            "Requirement already satisfied: requests in /usr/local/lib/python3.6/dist-packages (from pytorchcv) (2.23.0)\n",
            "Requirement already satisfied: numpy in /usr/local/lib/python3.6/dist-packages (from pytorchcv) (1.18.5)\n",
            "Requirement already satisfied: urllib3!=1.25.0,!=1.25.1,<1.26,>=1.21.1 in /usr/local/lib/python3.6/dist-packages (from requests->pytorchcv) (1.24.3)\n",
            "Requirement already satisfied: chardet<4,>=3.0.2 in /usr/local/lib/python3.6/dist-packages (from requests->pytorchcv) (3.0.4)\n",
            "Requirement already satisfied: idna<3,>=2.5 in /usr/local/lib/python3.6/dist-packages (from requests->pytorchcv) (2.10)\n",
            "Requirement already satisfied: certifi>=2017.4.17 in /usr/local/lib/python3.6/dist-packages (from requests->pytorchcv) (2020.6.20)\n"
          ],
          "name": "stdout"
        }
      ]
    },
    {
      "cell_type": "code",
      "metadata": {
        "id": "4UnHG2m_CPl9",
        "colab_type": "code",
        "colab": {}
      },
      "source": [
        "import torch\n",
        "import numpy as np\n",
        "import matplotlib.pyplot as plt\n",
        "import torch.nn as nn\n",
        "import torchvision\n",
        "import torchvision.models as models\n",
        "from torchvision import models, transforms, datasets\n",
        "import torch.optim as optim\n",
        "import os, pickle, time, copy, glob\n",
        "from PIL import Image\n",
        "from torch.utils.data.sampler import SubsetRandomSampler\n",
        "from torch.optim import lr_scheduler\n",
        "from sklearn.metrics import classification_report, confusion_matrix, roc_auc_score\n",
        "import pandas as pd\n",
        "import argparse\n",
        "import json\n",
        "from pytorchcv.model_provider import get_model as ptcv_get_model\n",
        "from math import sqrt\n",
        "import seaborn as sns"
      ],
      "execution_count": null,
      "outputs": []
    },
    {
      "cell_type": "code",
      "metadata": {
        "id": "BikQfg0UTVwv",
        "colab_type": "code",
        "colab": {}
      },
      "source": [
        "device = torch.device('cuda:0' if torch.cuda.is_available() else 'cpu')"
      ],
      "execution_count": null,
      "outputs": []
    },
    {
      "cell_type": "code",
      "metadata": {
        "id": "7M5rwGHYDtqd",
        "colab_type": "code",
        "colab": {}
      },
      "source": [
        "\n",
        "transformers = {'train_transforms' : transforms.Compose([\n",
        "    transforms.Resize((224,224)),\n",
        "    transforms.RandomRotation(20),\n",
        "    transforms.RandomHorizontalFlip(),\n",
        "    transforms.ToTensor(),\n",
        "    transforms.Normalize([0.485, 0.456, 0.406], std=[0.229, 0.224, 0.225])\n",
        "]),\n",
        "'test_transforms' : transforms.Compose([\n",
        "    transforms.Resize((224,224)),\n",
        "    transforms.ToTensor(),\n",
        "    transforms.Normalize([0.485, 0.456, 0.406], std=[0.229, 0.224, 0.225])\n",
        "])}\n",
        "\n",
        "trans = ['train_transforms','test_transforms']\n",
        "path = \"/content/gdrive/My Drive/Colab Notebooks/MainDataAug/\"\n",
        "categories = ['train','test']"
      ],
      "execution_count": null,
      "outputs": []
    },
    {
      "cell_type": "code",
      "metadata": {
        "id": "wNC_1QVxT6rZ",
        "colab_type": "code",
        "colab": {}
      },
      "source": [
        "dset = {x : torchvision.datasets.ImageFolder(path+x, transform=transformers[y]) for x,y in zip(categories, trans)}\n"
      ],
      "execution_count": null,
      "outputs": []
    },
    {
      "cell_type": "code",
      "metadata": {
        "id": "jNAT6b5ma0Gu",
        "colab_type": "code",
        "colab": {
          "base_uri": "https://localhost:8080/",
          "height": 127
        },
        "outputId": "2f2f016b-d617-4d5c-c151-bef2e3cb6f45"
      },
      "source": [
        "\n",
        "len_train = len(dset['train'])\n",
        "print('original train dataset size ', len_train) \n",
        "len_test = len(dset['test'])\n",
        "print('original test dataset size ', len_test) \n",
        "\n",
        "indices_list = range(len_train)\n",
        "indices = [*indices_list]\n",
        "\n",
        "\n",
        "np.random.shuffle(indices)\n",
        "#Splitting the indices based on train and val percentage\n",
        "split = int(np.floor(0.2 * len_train))\n",
        "train_idx, valid_idx = indices[split:], indices[:split]\n",
        "print('Upadted train dataset size:', len(train_idx))\n",
        "print('Created validation dataset size:', len(valid_idx))\n",
        "test_idx = [i for i in range(len(dset['test']))]\n",
        "print('the test imagedataest size', len(dset['test']))\n",
        "\n",
        "#define samplers for obtaining training and validation batches\n",
        "train_sampler = SubsetRandomSampler(train_idx)\n",
        "valid_sampler = SubsetRandomSampler(valid_idx)\n",
        "test_sampler = SubsetRandomSampler(test_idx)\n",
        "\n",
        "dataset_sizes = {}\n",
        "dataset_sizes['train'] = train_sampler.__len__()\n",
        "dataset_sizes['test'] = test_sampler.__len__()\n",
        "dataset_sizes['val'] = valid_sampler.__len__()\n",
        "print(dataset_sizes['val'], dataset_sizes['test'], dataset_sizes['train'])\n"
      ],
      "execution_count": null,
      "outputs": [
        {
          "output_type": "stream",
          "text": [
            "original train dataset size  3847\n",
            "original test dataset size  3040\n",
            "Upadted train dataset size: 3078\n",
            "Created validation dataset size: 769\n",
            "the test imagedataest size 3040\n",
            "769 3040 3078\n"
          ],
          "name": "stdout"
        }
      ]
    },
    {
      "cell_type": "code",
      "metadata": {
        "id": "nvt7UCDVjBAo",
        "colab_type": "code",
        "colab": {}
      },
      "source": [
        "\n",
        "train_loader = torch.utils.data.DataLoader(dset['train'], batch_size=16,\n",
        "    drop_last= True, sampler=train_sampler, num_workers=0)\n",
        "valid_loader = torch.utils.data.DataLoader(dset['train'], batch_size=16, \n",
        "    drop_last= True, sampler=valid_sampler, num_workers=0)\n",
        "test_loader = torch.utils.data.DataLoader(dset['test'], batch_size=16, \n",
        "    drop_last= True,sampler=test_sampler,num_workers=0)\n"
      ],
      "execution_count": null,
      "outputs": []
    },
    {
      "cell_type": "code",
      "metadata": {
        "id": "AewzrKrkmrVP",
        "colab_type": "code",
        "colab": {}
      },
      "source": [
        "dataloaders = {'train':train_loader,'val':valid_loader,'test':test_loader}\n",
        "class_names = dset['train'].classes"
      ],
      "execution_count": null,
      "outputs": []
    },
    {
      "cell_type": "code",
      "metadata": {
        "id": "50TUleSOlug3",
        "colab_type": "code",
        "colab": {
          "base_uri": "https://localhost:8080/",
          "height": 35
        },
        "outputId": "4a38c017-13e8-44bd-e3b6-f0921d1406a1"
      },
      "source": [
        "images, labels = next(iter(dataloaders['test']))\n",
        "rand_idx = np.random.randint(len(images))\n",
        "# print(rand_idx)\n",
        "print(\"label: {}, class: {}\".format(labels[rand_idx].item(),\n",
        "                                               class_names[labels[rand_idx].item()]))"
      ],
      "execution_count": null,
      "outputs": [
        {
          "output_type": "stream",
          "text": [
            "label: 0, class: covid-n\n"
          ],
          "name": "stdout"
        }
      ]
    },
    {
      "cell_type": "code",
      "metadata": {
        "id": "VO6JdVeZohVU",
        "colab_type": "code",
        "colab": {
          "base_uri": "https://localhost:8080/",
          "height": 147
        },
        "outputId": "5f15a585-aed7-40cc-d057-6466688d2b9a"
      },
      "source": [
        "def imshow(inp, title=None):\n",
        "    inp = inp.numpy().transpose((1,2,0))\n",
        "    mean = np.array([0.485, 0.456, 0.406])\n",
        "    std = np.array([0.229, 0.224, 0.225])\n",
        "    inp = std*inp + mean\n",
        "    inp = np.clip(inp,0,1)\n",
        "    plt.imshow(inp)\n",
        "    if title is not None:\n",
        "        plt.title(title)\n",
        "    plt.pause(0.001)\n",
        "inputs,classes = next(iter(dataloaders[\"train\"]))\n",
        "out = torchvision.utils.make_grid(inputs)\n",
        "class_names = dset[\"train\"].classes\n",
        "imshow(out, title = [class_names[x] for x in classes])\n"
      ],
      "execution_count": null,
      "outputs": [
        {
          "output_type": "display_data",
          "data": {
            "image/png": "[encoded data removed]",
            "text/plain": [
              "<Figure size 432x288 with 1 Axes>"
            ]
          },
          "metadata": {
            "tags": [],
            "needs_background": "light"
          }
        }
      ]
    },
    {
      "cell_type": "code",
      "metadata": {
        "id": "CcyPhrtfp182",
        "colab_type": "code",
        "colab": {}
      },
      "source": [
        "class ModelZfnet(nn.Module):\n",
        "    def __init__(self):\n",
        "        super(ModelZfnet, self).__init__()\n",
        "        self.model = ptcv_get_model(\"zfnet\", pretrained=True)\n",
        "        for params in self.model.parameters():\n",
        "            params.requires_grad = False\n",
        "        self.model.output.fc3= nn.Sequential(\n",
        "        nn.Linear(4096, 2),\n",
        "        nn.LogSoftmax(dim=1))\n",
        "\n",
        "           \n",
        "\n",
        "    def forward(self, x):\n",
        "        return self.model(x)\n",
        "        \n",
        "\n",
        "model = ModelZfnet()"
      ],
      "execution_count": null,
      "outputs": []
    },
    {
      "cell_type": "code",
      "metadata": {
        "id": "-M2KMPc8ryOt",
        "colab_type": "code",
        "colab": {}
      },
      "source": [
        "train_losses = []\n",
        "val_losses = []\n",
        "train_acc = []\n",
        "val_acc = []\n",
        "def fit(self, dataloaders, num_epochs):\n",
        "\n",
        "\n",
        "        train_on_gpu = torch.cuda.is_available()\n",
        "        optimizer = optim.Adam(model.parameters(), lr=0.01)\n",
        "        scheduler = optim.lr_scheduler.StepLR(optimizer, 4)\n",
        "        criterion = nn.NLLLoss()\n",
        "        since = time.time()\n",
        "        best_model_wts = copy.deepcopy(self.model.state_dict())\n",
        "        best_acc = 0.0\n",
        "        if train_on_gpu:\n",
        "            self.model = self.model.cuda()\n",
        "        for epoch in range(num_epochs):\n",
        "            print('Epoch {}/{}'.format(epoch, num_epochs - 1))\n",
        "            print('-' * 10)\n",
        "            for phase in ['train', 'val']:\n",
        "                if phase == 'train':\n",
        "                    scheduler.step()\n",
        "                    self.model.train()  \n",
        "                else:\n",
        "                    self.model.eval()   \n",
        "                running_loss = 0.0\n",
        "                running_corrects = 0\n",
        "                for inputs, labels in dataloaders[phase]:\n",
        "                    if train_on_gpu:\n",
        "                        inputs = inputs.cuda()\n",
        "                        labels = labels.cuda()\n",
        "\n",
        "                    optimizer.zero_grad()\n",
        "                    \n",
        "\n",
        "                    with torch.set_grad_enabled(phase == 'train'):\n",
        "                        outputs = self.model(inputs)\n",
        "                        _, preds = torch.max(outputs, 1)\n",
        "                        loss = criterion(outputs, labels)\n",
        "\n",
        "\n",
        "                        if phase == 'train':\n",
        "                            loss.backward()\n",
        "                            optimizer.step()\n",
        "\n",
        "                    running_loss += loss.item() * inputs.size(0)\n",
        "                    running_corrects += torch.sum(preds == labels.data)\n",
        "                \n",
        "                \n",
        "                epoch_loss = running_loss / dataset_sizes[phase]\n",
        "                epoch_acc = running_corrects.double() / dataset_sizes[phase]\n",
        "                print('{} Loss: {:.4f} Acc: {:.4f}'.format(\n",
        "                    phase, epoch_loss, epoch_acc))\n",
        "\n",
        "                if(phase == 'train'):\n",
        "                  train_losses.append(epoch_loss)   \n",
        "                  train_acc.append(epoch_acc) \n",
        "                if(phase == 'val'):\n",
        "                  val_losses.append(epoch_loss)   \n",
        "                  val_acc.append(epoch_acc) \n",
        "\n",
        "                if phase == 'val' and epoch_acc > best_acc:\n",
        "                    best_acc = epoch_acc\n",
        "                    best_model_wts = copy.deepcopy(self.model.state_dict())\n",
        "        time_elapsed = time.time() - since\n",
        "        print('Training complete in {:.0f}m {:.0f}s'.format(\n",
        "            time_elapsed // 60, time_elapsed % 60))\n",
        "        print('Best val Acc: {:4f}'.format(best_acc))\n",
        "        \n",
        "\n",
        "        self.model.load_state_dict(best_model_wts)\n",
        "        return self.model\n"
      ],
      "execution_count": null,
      "outputs": []
    },
    {
      "cell_type": "code",
      "metadata": {
        "id": "xJL1sr5vJkcj",
        "colab_type": "code",
        "colab": {
          "base_uri": "https://localhost:8080/",
          "height": 478
        },
        "outputId": "a5d95614-18ae-42ad-a91b-65de106a4926"
      },
      "source": [
        "num_epochs = 5\n",
        "model1_zfnet = fit(model, dataloaders, num_epochs)"
      ],
      "execution_count": null,
      "outputs": [
        {
          "output_type": "stream",
          "text": [
            "Epoch 0/4\n",
            "----------\n"
          ],
          "name": "stdout"
        },
        {
          "output_type": "stream",
          "text": [
            "/usr/local/lib/python3.6/dist-packages/torch/optim/lr_scheduler.py:123: UserWarning: Detected call of `lr_scheduler.step()` before `optimizer.step()`. In PyTorch 1.1.0 and later, you should call them in the opposite order: `optimizer.step()` before `lr_scheduler.step()`.  Failure to do this will result in PyTorch skipping the first value of the learning rate schedule. See more details at https://pytorch.org/docs/stable/optim.html#how-to-adjust-learning-rate\n",
            "  \"https://pytorch.org/docs/stable/optim.html#how-to-adjust-learning-rate\", UserWarning)\n"
          ],
          "name": "stderr"
        },
        {
          "output_type": "stream",
          "text": [
            "train Loss: 0.6923 Acc: 0.8752\n",
            "val Loss: 0.1740 Acc: 0.9441\n",
            "Epoch 1/4\n",
            "----------\n",
            "train Loss: 0.3756 Acc: 0.9243\n",
            "val Loss: 0.2178 Acc: 0.9506\n",
            "Epoch 2/4\n",
            "----------\n",
            "train Loss: 0.4797 Acc: 0.9227\n",
            "val Loss: 0.1126 Acc: 0.9753\n",
            "Epoch 3/4\n",
            "----------\n",
            "train Loss: 0.3656 Acc: 0.9402\n",
            "val Loss: 0.0745 Acc: 0.9857\n",
            "Epoch 4/4\n",
            "----------\n",
            "train Loss: 0.3409 Acc: 0.9461\n",
            "val Loss: 0.0919 Acc: 0.9870\n",
            "Training complete in 26m 40s\n",
            "Best val Acc: 0.986996\n"
          ],
          "name": "stdout"
        }
      ]
    },
    {
      "cell_type": "code",
      "metadata": {
        "id": "7JCigsUavHLv",
        "colab_type": "code",
        "colab": {}
      },
      "source": [
        "model1_zfnet.eval()\n",
        "torch.save(model1_zfnet, '/content/gdrive/My Drive/Colab Notebooks/zfnet_model1_with_aug.pt')"
      ],
      "execution_count": null,
      "outputs": []
    },
    {
      "cell_type": "code",
      "metadata": {
        "id": "wcFGPRVND9o2",
        "colab_type": "code",
        "colab": {
          "base_uri": "https://localhost:8080/",
          "height": 257
        },
        "outputId": "60f8ac67-2a96-497f-c1d0-48443eeb9dd0"
      },
      "source": [
        "num_epochs = 10\n",
        "model2_zfnet = fit(model, dataloaders, num_epochs)"
      ],
      "execution_count": null,
      "outputs": [
        {
          "output_type": "stream",
          "text": [
            "Epoch 0/9\n",
            "----------\n"
          ],
          "name": "stdout"
        },
        {
          "output_type": "stream",
          "text": [
            "/usr/local/lib/python3.6/dist-packages/torch/optim/lr_scheduler.py:123: UserWarning: Detected call of `lr_scheduler.step()` before `optimizer.step()`. In PyTorch 1.1.0 and later, you should call them in the opposite order: `optimizer.step()` before `lr_scheduler.step()`.  Failure to do this will result in PyTorch skipping the first value of the learning rate schedule. See more details at https://pytorch.org/docs/stable/optim.html#how-to-adjust-learning-rate\n",
            "  \"https://pytorch.org/docs/stable/optim.html#how-to-adjust-learning-rate\", UserWarning)\n"
          ],
          "name": "stderr"
        },
        {
          "output_type": "stream",
          "text": [
            "train Loss: 0.5851 Acc: 0.9246\n",
            "val Loss: 0.8934 Acc: 0.8869\n",
            "Epoch 1/9\n",
            "----------\n",
            "train Loss: 0.4826 Acc: 0.9470\n",
            "val Loss: 0.0665 Acc: 0.9844\n",
            "Epoch 2/9\n",
            "----------\n"
          ],
          "name": "stdout"
        }
      ]
    },
    {
      "cell_type": "code",
      "metadata": {
        "id": "WiZK1jQ5x4GH",
        "colab_type": "code",
        "colab": {}
      },
      "source": [
        "model2_zfnet.eval()\n",
        "torch.save(model2_zfnet, '/content/gdrive/My Drive/Colab Notebooks/zfnet_model2_with_aug.pt')"
      ],
      "execution_count": null,
      "outputs": []
    },
    {
      "cell_type": "code",
      "metadata": {
        "id": "eIDmpYS_K0Tu",
        "colab_type": "code",
        "colab": {
          "base_uri": "https://localhost:8080/",
          "height": 1000
        },
        "outputId": "475f6544-ed93-46b7-80f6-0ac4b4bc36e8"
      },
      "source": [
        "num_epochs = 15\n",
        "model3_zfnet = fit(model, dataloaders, num_epochs)"
      ],
      "execution_count": null,
      "outputs": [
        {
          "output_type": "stream",
          "text": [
            "Epoch 0/14\n",
            "----------\n"
          ],
          "name": "stdout"
        },
        {
          "output_type": "stream",
          "text": [
            "/usr/local/lib/python3.6/dist-packages/torch/optim/lr_scheduler.py:123: UserWarning: Detected call of `lr_scheduler.step()` before `optimizer.step()`. In PyTorch 1.1.0 and later, you should call them in the opposite order: `optimizer.step()` before `lr_scheduler.step()`.  Failure to do this will result in PyTorch skipping the first value of the learning rate schedule. See more details at https://pytorch.org/docs/stable/optim.html#how-to-adjust-learning-rate\n",
            "  \"https://pytorch.org/docs/stable/optim.html#how-to-adjust-learning-rate\", UserWarning)\n"
          ],
          "name": "stderr"
        },
        {
          "output_type": "stream",
          "text": [
            "train Loss: 0.7225 Acc: 0.9360\n",
            "val Loss: 0.0958 Acc: 0.9831\n",
            "Epoch 1/14\n",
            "----------\n",
            "train Loss: 0.5767 Acc: 0.9448\n",
            "val Loss: 0.1023 Acc: 0.9831\n",
            "Epoch 2/14\n",
            "----------\n",
            "train Loss: 0.7102 Acc: 0.9344\n",
            "val Loss: 0.0542 Acc: 0.9870\n",
            "Epoch 3/14\n",
            "----------\n",
            "train Loss: 0.5192 Acc: 0.9548\n",
            "val Loss: 0.0539 Acc: 0.9857\n",
            "Epoch 4/14\n",
            "----------\n",
            "train Loss: 0.3639 Acc: 0.9643\n",
            "val Loss: 0.0846 Acc: 0.9922\n",
            "Epoch 5/14\n",
            "----------\n",
            "train Loss: 0.5127 Acc: 0.9565\n",
            "val Loss: 0.1469 Acc: 0.9883\n",
            "Epoch 6/14\n",
            "----------\n",
            "train Loss: 0.4002 Acc: 0.9591\n",
            "val Loss: 0.1243 Acc: 0.9857\n",
            "Epoch 7/14\n",
            "----------\n",
            "train Loss: 0.3917 Acc: 0.9613\n",
            "val Loss: 0.0480 Acc: 0.9909\n",
            "Epoch 8/14\n",
            "----------\n",
            "train Loss: 0.5791 Acc: 0.9522\n",
            "val Loss: 0.0931 Acc: 0.9870\n",
            "Epoch 9/14\n",
            "----------\n",
            "train Loss: 0.4472 Acc: 0.9574\n",
            "val Loss: 0.1458 Acc: 0.9883\n",
            "Epoch 10/14\n",
            "----------\n",
            "train Loss: 0.4306 Acc: 0.9555\n",
            "val Loss: 0.0586 Acc: 0.9935\n",
            "Epoch 11/14\n",
            "----------\n",
            "train Loss: 0.3848 Acc: 0.9623\n",
            "val Loss: 0.0673 Acc: 0.9922\n",
            "Epoch 12/14\n",
            "----------\n",
            "train Loss: 0.4115 Acc: 0.9594\n",
            "val Loss: 0.1085 Acc: 0.9909\n",
            "Epoch 13/14\n",
            "----------\n",
            "train Loss: 0.4390 Acc: 0.9581\n",
            "val Loss: 0.1100 Acc: 0.9870\n",
            "Epoch 14/14\n",
            "----------\n",
            "train Loss: 0.5061 Acc: 0.9529\n",
            "val Loss: 0.0587 Acc: 0.9935\n",
            "Training complete in 33m 39s\n",
            "Best val Acc: 0.993498\n"
          ],
          "name": "stdout"
        }
      ]
    },
    {
      "cell_type": "code",
      "metadata": {
        "id": "bkM1Ko36yM4m",
        "colab_type": "code",
        "colab": {}
      },
      "source": [
        "model3_zfnet.eval()\n",
        "torch.save(model3_zfnet, '/content/gdrive/My Drive/Colab Notebooks/zfnet_model3_with_aug.pt')"
      ],
      "execution_count": null,
      "outputs": []
    },
    {
      "cell_type": "code",
      "metadata": {
        "id": "y3yMWPYuu9dq",
        "colab_type": "code",
        "colab": {
          "base_uri": "https://localhost:8080/",
          "height": 1000
        },
        "outputId": "bf8193bb-1281-4ba1-c17e-976778712027"
      },
      "source": [
        "num_epochs = 20\n",
        "model4_zfnet = fit(model, dataloaders, num_epochs)"
      ],
      "execution_count": null,
      "outputs": [
        {
          "output_type": "stream",
          "text": [
            "Epoch 0/19\n",
            "----------\n"
          ],
          "name": "stdout"
        },
        {
          "output_type": "stream",
          "text": [
            "/usr/local/lib/python3.6/dist-packages/torch/optim/lr_scheduler.py:123: UserWarning: Detected call of `lr_scheduler.step()` before `optimizer.step()`. In PyTorch 1.1.0 and later, you should call them in the opposite order: `optimizer.step()` before `lr_scheduler.step()`.  Failure to do this will result in PyTorch skipping the first value of the learning rate schedule. See more details at https://pytorch.org/docs/stable/optim.html#how-to-adjust-learning-rate\n",
            "  \"https://pytorch.org/docs/stable/optim.html#how-to-adjust-learning-rate\", UserWarning)\n"
          ],
          "name": "stderr"
        },
        {
          "output_type": "stream",
          "text": [
            "train Loss: 0.7312 Acc: 0.9399\n",
            "val Loss: 0.1016 Acc: 0.9896\n",
            "Epoch 1/19\n",
            "----------\n",
            "train Loss: 0.4933 Acc: 0.9519\n",
            "val Loss: 0.1413 Acc: 0.9883\n",
            "Epoch 2/19\n",
            "----------\n",
            "train Loss: 0.5907 Acc: 0.9509\n",
            "val Loss: 0.2393 Acc: 0.9805\n",
            "Epoch 3/19\n",
            "----------\n",
            "train Loss: 0.6138 Acc: 0.9545\n",
            "val Loss: 0.1646 Acc: 0.9831\n",
            "Epoch 4/19\n",
            "----------\n",
            "train Loss: 0.4859 Acc: 0.9600\n",
            "val Loss: 0.1193 Acc: 0.9909\n",
            "Epoch 5/19\n",
            "----------\n",
            "train Loss: 0.4333 Acc: 0.9639\n",
            "val Loss: 0.0772 Acc: 0.9909\n",
            "Epoch 6/19\n",
            "----------\n",
            "train Loss: 0.4206 Acc: 0.9610\n",
            "val Loss: 0.1049 Acc: 0.9896\n",
            "Epoch 7/19\n",
            "----------\n",
            "train Loss: 0.5404 Acc: 0.9539\n",
            "val Loss: 0.1013 Acc: 0.9922\n",
            "Epoch 8/19\n",
            "----------\n",
            "train Loss: 0.4752 Acc: 0.9574\n",
            "val Loss: 0.1547 Acc: 0.9870\n",
            "Epoch 9/19\n",
            "----------\n",
            "train Loss: 0.4366 Acc: 0.9610\n",
            "val Loss: 0.0477 Acc: 0.9922\n",
            "Epoch 10/19\n",
            "----------\n",
            "train Loss: 0.4367 Acc: 0.9591\n",
            "val Loss: 0.1562 Acc: 0.9896\n",
            "Epoch 11/19\n",
            "----------\n",
            "train Loss: 0.4879 Acc: 0.9597\n",
            "val Loss: 0.0963 Acc: 0.9896\n",
            "Epoch 12/19\n",
            "----------\n",
            "train Loss: 0.4894 Acc: 0.9659\n",
            "val Loss: 0.0724 Acc: 0.9935\n",
            "Epoch 13/19\n",
            "----------\n",
            "train Loss: 0.4215 Acc: 0.9591\n",
            "val Loss: 0.0709 Acc: 0.9935\n",
            "Epoch 14/19\n",
            "----------\n",
            "train Loss: 0.5271 Acc: 0.9578\n",
            "val Loss: 0.1426 Acc: 0.9857\n",
            "Epoch 15/19\n",
            "----------\n",
            "train Loss: 0.4401 Acc: 0.9604\n",
            "val Loss: 0.1331 Acc: 0.9896\n",
            "Epoch 16/19\n",
            "----------\n",
            "train Loss: 0.4930 Acc: 0.9610\n",
            "val Loss: 0.1013 Acc: 0.9922\n",
            "Epoch 17/19\n",
            "----------\n",
            "train Loss: 0.4418 Acc: 0.9613\n",
            "val Loss: 0.1413 Acc: 0.9909\n",
            "Epoch 18/19\n",
            "----------\n",
            "train Loss: 0.4751 Acc: 0.9565\n",
            "val Loss: 0.1239 Acc: 0.9909\n",
            "Epoch 19/19\n",
            "----------\n",
            "train Loss: 0.4353 Acc: 0.9594\n",
            "val Loss: 0.0993 Acc: 0.9870\n",
            "Training complete in 44m 43s\n",
            "Best val Acc: 0.993498\n"
          ],
          "name": "stdout"
        }
      ]
    },
    {
      "cell_type": "code",
      "metadata": {
        "id": "zNAUEDkDJoSv",
        "colab_type": "code",
        "colab": {}
      },
      "source": [
        "model4_zfnet.eval()\n",
        "torch.save(model4_zfnet, '/content/gdrive/My Drive/Colab Notebooks/zfnet_model4_with_aug.pt')"
      ],
      "execution_count": null,
      "outputs": []
    },
    {
      "cell_type": "code",
      "metadata": {
        "id": "uzr9E5hdoXu3",
        "colab_type": "code",
        "colab": {
          "base_uri": "https://localhost:8080/",
          "height": 1000
        },
        "outputId": "a9f8a772-08de-4ece-946e-73b5e1a02dd0"
      },
      "source": [
        "num_epochs = 25\n",
        "model5_zfnet = fit(model, dataloaders, num_epochs)"
      ],
      "execution_count": null,
      "outputs": [
        {
          "output_type": "stream",
          "text": [
            "Epoch 0/24\n",
            "----------\n"
          ],
          "name": "stdout"
        },
        {
          "output_type": "stream",
          "text": [
            "/usr/local/lib/python3.6/dist-packages/torch/optim/lr_scheduler.py:123: UserWarning: Detected call of `lr_scheduler.step()` before `optimizer.step()`. In PyTorch 1.1.0 and later, you should call them in the opposite order: `optimizer.step()` before `lr_scheduler.step()`.  Failure to do this will result in PyTorch skipping the first value of the learning rate schedule. See more details at https://pytorch.org/docs/stable/optim.html#how-to-adjust-learning-rate\n",
            "  \"https://pytorch.org/docs/stable/optim.html#how-to-adjust-learning-rate\", UserWarning)\n"
          ],
          "name": "stderr"
        },
        {
          "output_type": "stream",
          "text": [
            "train Loss: 0.5187 Acc: 0.9545\n",
            "val Loss: 0.0692 Acc: 0.9896\n",
            "Epoch 1/24\n",
            "----------\n",
            "train Loss: 0.7032 Acc: 0.9477\n",
            "val Loss: 0.1922 Acc: 0.9857\n",
            "Epoch 2/24\n",
            "----------\n",
            "train Loss: 0.6496 Acc: 0.9558\n",
            "val Loss: 0.0846 Acc: 0.9896\n",
            "Epoch 3/24\n",
            "----------\n",
            "train Loss: 0.7001 Acc: 0.9483\n",
            "val Loss: 0.1035 Acc: 0.9896\n",
            "Epoch 4/24\n",
            "----------\n",
            "train Loss: 0.5631 Acc: 0.9539\n",
            "val Loss: 0.0886 Acc: 0.9896\n",
            "Epoch 5/24\n",
            "----------\n",
            "train Loss: 0.5084 Acc: 0.9604\n",
            "val Loss: 0.0889 Acc: 0.9922\n",
            "Epoch 6/24\n",
            "----------\n",
            "train Loss: 0.5772 Acc: 0.9565\n",
            "val Loss: 0.1093 Acc: 0.9922\n",
            "Epoch 7/24\n",
            "----------\n",
            "train Loss: 0.5789 Acc: 0.9565\n",
            "val Loss: 0.1046 Acc: 0.9909\n",
            "Epoch 8/24\n",
            "----------\n",
            "train Loss: 0.4468 Acc: 0.9617\n",
            "val Loss: 0.1289 Acc: 0.9883\n",
            "Epoch 9/24\n",
            "----------\n",
            "train Loss: 0.4588 Acc: 0.9607\n",
            "val Loss: 0.1468 Acc: 0.9896\n",
            "Epoch 10/24\n",
            "----------\n",
            "train Loss: 0.4761 Acc: 0.9607\n",
            "val Loss: 0.1073 Acc: 0.9935\n",
            "Epoch 11/24\n",
            "----------\n",
            "train Loss: 0.4968 Acc: 0.9574\n",
            "val Loss: 0.1100 Acc: 0.9909\n",
            "Epoch 12/24\n",
            "----------\n",
            "train Loss: 0.5529 Acc: 0.9532\n",
            "val Loss: 0.0988 Acc: 0.9922\n",
            "Epoch 13/24\n",
            "----------\n",
            "train Loss: 0.5188 Acc: 0.9558\n",
            "val Loss: 0.1120 Acc: 0.9883\n",
            "Epoch 14/24\n",
            "----------\n",
            "train Loss: 0.4656 Acc: 0.9620\n",
            "val Loss: 0.0519 Acc: 0.9974\n",
            "Epoch 15/24\n",
            "----------\n",
            "train Loss: 0.5240 Acc: 0.9584\n",
            "val Loss: 0.1830 Acc: 0.9857\n",
            "Epoch 16/24\n",
            "----------\n",
            "train Loss: 0.4700 Acc: 0.9610\n",
            "val Loss: 0.1486 Acc: 0.9909\n",
            "Epoch 17/24\n",
            "----------\n",
            "train Loss: 0.6033 Acc: 0.9561\n",
            "val Loss: 0.0939 Acc: 0.9896\n",
            "Epoch 18/24\n",
            "----------\n",
            "train Loss: 0.5655 Acc: 0.9561\n",
            "val Loss: 0.0791 Acc: 0.9909\n",
            "Epoch 19/24\n",
            "----------\n",
            "train Loss: 0.5378 Acc: 0.9565\n",
            "val Loss: 0.0585 Acc: 0.9948\n",
            "Epoch 20/24\n",
            "----------\n",
            "train Loss: 0.4442 Acc: 0.9578\n",
            "val Loss: 0.1166 Acc: 0.9896\n",
            "Epoch 21/24\n",
            "----------\n",
            "train Loss: 0.5187 Acc: 0.9552\n",
            "val Loss: 0.1036 Acc: 0.9896\n",
            "Epoch 22/24\n",
            "----------\n",
            "train Loss: 0.6122 Acc: 0.9542\n",
            "val Loss: 0.1170 Acc: 0.9896\n",
            "Epoch 23/24\n",
            "----------\n",
            "train Loss: 0.4554 Acc: 0.9600\n",
            "val Loss: 0.1433 Acc: 0.9883\n",
            "Epoch 24/24\n",
            "----------\n",
            "train Loss: 0.4550 Acc: 0.9626\n",
            "val Loss: 0.1167 Acc: 0.9935\n",
            "Training complete in 56m 14s\n",
            "Best val Acc: 0.997399\n"
          ],
          "name": "stdout"
        }
      ]
    },
    {
      "cell_type": "code",
      "metadata": {
        "id": "ZJphFQX-ofog",
        "colab_type": "code",
        "colab": {}
      },
      "source": [
        "model5_zfnet.eval()\n",
        "torch.save(model5_zfnet, '/content/gdrive/My Drive/Colab Notebooks/zfnet_model5_with_aug.pt')"
      ],
      "execution_count": null,
      "outputs": []
    }
  ]
}